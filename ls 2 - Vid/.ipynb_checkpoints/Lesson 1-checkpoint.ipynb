{
 "cells": [
  {
   "cell_type": "code",
   "execution_count": 2,
   "id": "5751cb12",
   "metadata": {},
   "outputs": [],
   "source": [
    "import numpy as np"
   ]
  },
  {
   "cell_type": "code",
   "execution_count": 3,
   "id": "6d02a529",
   "metadata": {},
   "outputs": [],
   "source": [
    "a = [i for i in range(10)]"
   ]
  },
  {
   "cell_type": "code",
   "execution_count": 4,
   "id": "1064c640",
   "metadata": {},
   "outputs": [
    {
     "data": {
      "text/plain": [
       "[0, 1, 2, 3, 4, 5, 6, 7, 8, 9]"
      ]
     },
     "execution_count": 4,
     "metadata": {},
     "output_type": "execute_result"
    }
   ],
   "source": [
    "a"
   ]
  },
  {
   "cell_type": "code",
   "execution_count": 5,
   "id": "0284eab0",
   "metadata": {},
   "outputs": [],
   "source": [
    "b = np.array(a)"
   ]
  },
  {
   "cell_type": "code",
   "execution_count": 6,
   "id": "196ece2a",
   "metadata": {},
   "outputs": [
    {
     "data": {
      "text/plain": [
       "array([0, 1, 2, 3, 4, 5, 6, 7, 8, 9])"
      ]
     },
     "execution_count": 6,
     "metadata": {},
     "output_type": "execute_result"
    }
   ],
   "source": [
    "b"
   ]
  },
  {
   "cell_type": "code",
   "execution_count": 7,
   "id": "11811608",
   "metadata": {},
   "outputs": [],
   "source": [
    "b = np.array([0, 1, 2, 3, 4, 5, 6, 7, 8, 9])"
   ]
  },
  {
   "cell_type": "code",
   "execution_count": 8,
   "id": "1905c094",
   "metadata": {},
   "outputs": [
    {
     "data": {
      "text/plain": [
       "array([0, 1, 2, 3, 4, 5, 6, 7, 8, 9])"
      ]
     },
     "execution_count": 8,
     "metadata": {},
     "output_type": "execute_result"
    }
   ],
   "source": [
    "b"
   ]
  },
  {
   "cell_type": "code",
   "execution_count": 9,
   "id": "defb9f55",
   "metadata": {},
   "outputs": [],
   "source": [
    "b = np.array([i for i in range(10)])"
   ]
  },
  {
   "cell_type": "code",
   "execution_count": 10,
   "id": "4f9f74b9",
   "metadata": {},
   "outputs": [
    {
     "data": {
      "text/plain": [
       "array([0, 1, 2, 3, 4, 5, 6, 7, 8, 9])"
      ]
     },
     "execution_count": 10,
     "metadata": {},
     "output_type": "execute_result"
    }
   ],
   "source": [
    "b"
   ]
  },
  {
   "cell_type": "code",
   "execution_count": 14,
   "id": "32e3e292",
   "metadata": {},
   "outputs": [],
   "source": [
    "c = (0, 1, 2, 3, 4, 5, 6, 7, 8, 9)"
   ]
  },
  {
   "cell_type": "code",
   "execution_count": 15,
   "id": "a2acf38b",
   "metadata": {},
   "outputs": [],
   "source": [
    "b = np.array(c)"
   ]
  },
  {
   "cell_type": "code",
   "execution_count": 16,
   "id": "7c6fad3b",
   "metadata": {},
   "outputs": [
    {
     "data": {
      "text/plain": [
       "array([0, 1, 2, 3, 4, 5, 6, 7, 8, 9])"
      ]
     },
     "execution_count": 16,
     "metadata": {},
     "output_type": "execute_result"
    }
   ],
   "source": [
    "b"
   ]
  },
  {
   "cell_type": "code",
   "execution_count": 17,
   "id": "efbfd80b",
   "metadata": {},
   "outputs": [
    {
     "data": {
      "text/plain": [
       "numpy.ndarray"
      ]
     },
     "execution_count": 17,
     "metadata": {},
     "output_type": "execute_result"
    }
   ],
   "source": [
    "type(b)"
   ]
  },
  {
   "cell_type": "code",
   "execution_count": 18,
   "id": "0420198a",
   "metadata": {},
   "outputs": [],
   "source": [
    "b = np.array(a, dtype = float)"
   ]
  },
  {
   "cell_type": "code",
   "execution_count": 19,
   "id": "b259a3a4",
   "metadata": {},
   "outputs": [],
   "source": [
    "a = [0, 1, 2, 3, 4, 5, 6, 7, 8, 9.9]"
   ]
  },
  {
   "cell_type": "code",
   "execution_count": 20,
   "id": "aa87e671",
   "metadata": {},
   "outputs": [],
   "source": [
    "b = np.array(a, dtype = int) # удаляем дробные числа"
   ]
  },
  {
   "cell_type": "code",
   "execution_count": 21,
   "id": "8d8d2d63",
   "metadata": {},
   "outputs": [
    {
     "data": {
      "text/plain": [
       "array([0, 1, 2, 3, 4, 5, 6, 7, 8, 9])"
      ]
     },
     "execution_count": 21,
     "metadata": {},
     "output_type": "execute_result"
    }
   ],
   "source": [
    "b"
   ]
  },
  {
   "cell_type": "code",
   "execution_count": 24,
   "id": "57e8dbfc",
   "metadata": {},
   "outputs": [],
   "source": [
    "b = np.array(a, dtype = float) # форматируем в дробные числа"
   ]
  },
  {
   "cell_type": "code",
   "execution_count": 23,
   "id": "94b873e1",
   "metadata": {},
   "outputs": [
    {
     "data": {
      "text/plain": [
       "array([0. , 1. , 2. , 3. , 4. , 5. , 6. , 7. , 8. , 9.9])"
      ]
     },
     "execution_count": 23,
     "metadata": {},
     "output_type": "execute_result"
    }
   ],
   "source": [
    "b"
   ]
  },
  {
   "cell_type": "code",
   "execution_count": 25,
   "id": "44e7d6f2",
   "metadata": {},
   "outputs": [],
   "source": [
    "b = np.array(a, dtype = str) # форматируем в строку"
   ]
  },
  {
   "cell_type": "code",
   "execution_count": 26,
   "id": "20a18d6b",
   "metadata": {},
   "outputs": [
    {
     "data": {
      "text/plain": [
       "array(['0', '1', '2', '3', '4', '5', '6', '7', '8', '9.9'], dtype='<U3')"
      ]
     },
     "execution_count": 26,
     "metadata": {},
     "output_type": "execute_result"
    }
   ],
   "source": [
    "b"
   ]
  },
  {
   "cell_type": "markdown",
   "id": "3e3a414b",
   "metadata": {},
   "source": [
    "### 2D array"
   ]
  },
  {
   "cell_type": "code",
   "execution_count": 28,
   "id": "6e78b35c",
   "metadata": {},
   "outputs": [],
   "source": [
    "b = np.array([[0, 1, 2, 3, 4, 5, 6, 7, 8, 9],\n",
    "            [10,11,12,13,14,15,16,17,18,19],\n",
    "            [20,21,22,23,24,25,26,27,28,29]])"
   ]
  },
  {
   "cell_type": "code",
   "execution_count": 29,
   "id": "75f62a79",
   "metadata": {},
   "outputs": [
    {
     "data": {
      "text/plain": [
       "array([[ 0,  1,  2,  3,  4,  5,  6,  7,  8,  9],\n",
       "       [10, 11, 12, 13, 14, 15, 16, 17, 18, 19],\n",
       "       [20, 21, 22, 23, 24, 25, 26, 27, 28, 29]])"
      ]
     },
     "execution_count": 29,
     "metadata": {},
     "output_type": "execute_result"
    }
   ],
   "source": [
    "b"
   ]
  },
  {
   "cell_type": "code",
   "execution_count": 31,
   "id": "cf61cb93",
   "metadata": {},
   "outputs": [
    {
     "data": {
      "text/plain": [
       "(3, 10)"
      ]
     },
     "execution_count": 31,
     "metadata": {},
     "output_type": "execute_result"
    }
   ],
   "source": [
    "b.shape # количество строк и количество столбцов"
   ]
  },
  {
   "cell_type": "code",
   "execution_count": 33,
   "id": "b0c17574",
   "metadata": {},
   "outputs": [
    {
     "data": {
      "text/plain": [
       "30"
      ]
     },
     "execution_count": 33,
     "metadata": {},
     "output_type": "execute_result"
    }
   ],
   "source": [
    "b.size # итого количество объектов"
   ]
  },
  {
   "cell_type": "code",
   "execution_count": 36,
   "id": "14290093",
   "metadata": {},
   "outputs": [
    {
     "data": {
      "text/plain": [
       "0"
      ]
     },
     "execution_count": 36,
     "metadata": {},
     "output_type": "execute_result"
    }
   ],
   "source": [
    "b[0][0] # первый столбец первый элемент"
   ]
  },
  {
   "cell_type": "code",
   "execution_count": 37,
   "id": "60e5cf20",
   "metadata": {},
   "outputs": [
    {
     "data": {
      "text/plain": [
       "0"
      ]
     },
     "execution_count": 37,
     "metadata": {},
     "output_type": "execute_result"
    }
   ],
   "source": [
    "b[0,0] # можно и так"
   ]
  },
  {
   "cell_type": "code",
   "execution_count": 38,
   "id": "38af4ae9",
   "metadata": {},
   "outputs": [
    {
     "data": {
      "text/plain": [
       "9"
      ]
     },
     "execution_count": 38,
     "metadata": {},
     "output_type": "execute_result"
    }
   ],
   "source": [
    "b[0,-1]"
   ]
  },
  {
   "cell_type": "code",
   "execution_count": 39,
   "id": "2c76a528",
   "metadata": {},
   "outputs": [
    {
     "data": {
      "text/plain": [
       "array([[ 0,  1,  2],\n",
       "       [10, 11, 12]])"
      ]
     },
     "execution_count": 39,
     "metadata": {},
     "output_type": "execute_result"
    }
   ],
   "source": [
    "b[0:2, 0:3] # срез две строки от 0 до 2, и три столбца от 0 до 3"
   ]
  },
  {
   "cell_type": "code",
   "execution_count": 40,
   "id": "9fb1aab3",
   "metadata": {},
   "outputs": [
    {
     "data": {
      "text/plain": [
       "array([[ 0,  1,  2],\n",
       "       [10, 11, 12]])"
      ]
     },
     "execution_count": 40,
     "metadata": {},
     "output_type": "execute_result"
    }
   ],
   "source": [
    "b[:2,:3] # можно и не писать индекс 0"
   ]
  },
  {
   "cell_type": "code",
   "execution_count": null,
   "id": "d3211c9c",
   "metadata": {},
   "outputs": [],
   "source": []
  }
 ],
 "metadata": {
  "kernelspec": {
   "display_name": "Python 3 (ipykernel)",
   "language": "python",
   "name": "python3"
  },
  "language_info": {
   "codemirror_mode": {
    "name": "ipython",
    "version": 3
   },
   "file_extension": ".py",
   "mimetype": "text/x-python",
   "name": "python",
   "nbconvert_exporter": "python",
   "pygments_lexer": "ipython3",
   "version": "3.9.7"
  }
 },
 "nbformat": 4,
 "nbformat_minor": 5
}
