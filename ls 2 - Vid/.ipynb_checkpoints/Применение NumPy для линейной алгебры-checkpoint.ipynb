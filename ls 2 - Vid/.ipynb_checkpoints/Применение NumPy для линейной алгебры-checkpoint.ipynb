{
 "cells": [
  {
   "cell_type": "code",
   "execution_count": 1,
   "id": "b18aaf61",
   "metadata": {},
   "outputs": [],
   "source": [
    "import numpy as np"
   ]
  },
  {
   "cell_type": "code",
   "execution_count": 2,
   "id": "59734e60",
   "metadata": {},
   "outputs": [],
   "source": [
    "a = np.array([0,1,2,3,4])"
   ]
  },
  {
   "cell_type": "code",
   "execution_count": 3,
   "id": "cbbe3849",
   "metadata": {},
   "outputs": [],
   "source": [
    "b = np.array([5,6,7,8,9])"
   ]
  },
  {
   "cell_type": "code",
   "execution_count": 4,
   "id": "cf829943",
   "metadata": {},
   "outputs": [
    {
     "data": {
      "text/plain": [
       "(5,)"
      ]
     },
     "execution_count": 4,
     "metadata": {},
     "output_type": "execute_result"
    }
   ],
   "source": [
    "# проверяем размерность и формы двух элементов\n",
    "a.size\n",
    "b.size\n",
    "a.shape\n",
    "b.shape"
   ]
  },
  {
   "cell_type": "markdown",
   "id": "8472dc84",
   "metadata": {},
   "source": [
    "### сложение векторов"
   ]
  },
  {
   "cell_type": "code",
   "execution_count": 5,
   "id": "8dd2c4d2",
   "metadata": {},
   "outputs": [],
   "source": [
    "с = a + b"
   ]
  },
  {
   "cell_type": "code",
   "execution_count": 6,
   "id": "d1a77973",
   "metadata": {},
   "outputs": [
    {
     "data": {
      "text/plain": [
       "array([ 5,  7,  9, 11, 13])"
      ]
     },
     "execution_count": 6,
     "metadata": {},
     "output_type": "execute_result"
    }
   ],
   "source": [
    "с"
   ]
  },
  {
   "cell_type": "markdown",
   "id": "15a04bc2",
   "metadata": {},
   "source": [
    "сравним что делает оператор \"+\" со списками в Python"
   ]
  },
  {
   "cell_type": "code",
   "execution_count": 8,
   "id": "510d6b78",
   "metadata": {},
   "outputs": [],
   "source": [
    "x1 = [0,1,2,3,4]\n",
    "x2 = [5,6,7,8,9]"
   ]
  },
  {
   "cell_type": "code",
   "execution_count": 9,
   "id": "fe7eb660",
   "metadata": {},
   "outputs": [
    {
     "data": {
      "text/plain": [
       "[0, 1, 2, 3, 4, 5, 6, 7, 8, 9]"
      ]
     },
     "execution_count": 9,
     "metadata": {},
     "output_type": "execute_result"
    }
   ],
   "source": [
    "x1 + x2"
   ]
  },
  {
   "cell_type": "markdown",
   "id": "24516275",
   "metadata": {},
   "source": [
    "Еще один способ"
   ]
  },
  {
   "cell_type": "code",
   "execution_count": 10,
   "id": "32268d34",
   "metadata": {},
   "outputs": [
    {
     "data": {
      "text/plain": [
       "array([ 5,  7,  9, 11, 13])"
      ]
     },
     "execution_count": 10,
     "metadata": {},
     "output_type": "execute_result"
    }
   ],
   "source": [
    "c= np.add(a,b)\n",
    "с"
   ]
  },
  {
   "cell_type": "markdown",
   "id": "24b12ffe",
   "metadata": {},
   "source": [
    "Вычитание векторов"
   ]
  },
  {
   "cell_type": "code",
   "execution_count": 11,
   "id": "28657152",
   "metadata": {},
   "outputs": [],
   "source": [
    "a = np.array([5,4,8,4,3])\n",
    "b = np.array([3,5,7,1,3])"
   ]
  },
  {
   "cell_type": "code",
   "execution_count": 12,
   "id": "e238c447",
   "metadata": {},
   "outputs": [
    {
     "data": {
      "text/plain": [
       "array([ 2, -1,  1,  3,  0])"
      ]
     },
     "execution_count": 12,
     "metadata": {},
     "output_type": "execute_result"
    }
   ],
   "source": [
    "d = a - b\n",
    "d"
   ]
  },
  {
   "cell_type": "markdown",
   "id": "fb275f9c",
   "metadata": {},
   "source": [
    "альтернативный способ:"
   ]
  },
  {
   "cell_type": "code",
   "execution_count": 14,
   "id": "db91dd7e",
   "metadata": {},
   "outputs": [
    {
     "data": {
      "text/plain": [
       "array([ 2, -1,  1,  3,  0])"
      ]
     },
     "execution_count": 14,
     "metadata": {},
     "output_type": "execute_result"
    }
   ],
   "source": [
    "d = np.subtract(a,b)\n",
    "d"
   ]
  },
  {
   "cell_type": "markdown",
   "id": "ac61d77f",
   "metadata": {},
   "source": [
    "при этом векторы должны быть одинаковым размером"
   ]
  },
  {
   "cell_type": "code",
   "execution_count": 16,
   "id": "c85cfbca",
   "metadata": {},
   "outputs": [
    {
     "data": {
      "text/plain": [
       "True"
      ]
     },
     "execution_count": 16,
     "metadata": {},
     "output_type": "execute_result"
    }
   ],
   "source": [
    "a.shape == b.shape"
   ]
  },
  {
   "cell_type": "markdown",
   "id": "4ef32f7f",
   "metadata": {},
   "source": [
    "### Умножение вектора на скаляр"
   ]
  },
  {
   "cell_type": "code",
   "execution_count": 17,
   "id": "2de45fe7",
   "metadata": {},
   "outputs": [
    {
     "data": {
      "text/plain": [
       "array([5, 4, 8, 4, 3])"
      ]
     },
     "execution_count": 17,
     "metadata": {},
     "output_type": "execute_result"
    }
   ],
   "source": [
    "a = np.array([5,4,8,4,3])\n",
    "a"
   ]
  },
  {
   "cell_type": "code",
   "execution_count": 18,
   "id": "d8606b81",
   "metadata": {},
   "outputs": [
    {
     "data": {
      "text/plain": [
       "array([10,  8, 16,  8,  6])"
      ]
     },
     "execution_count": 18,
     "metadata": {},
     "output_type": "execute_result"
    }
   ],
   "source": [
    "с = a * 2\n",
    "с"
   ]
  },
  {
   "cell_type": "code",
   "execution_count": 20,
   "id": "7f5826e4",
   "metadata": {},
   "outputs": [
    {
     "data": {
      "text/plain": [
       "array([-50, -40, -80, -40, -30])"
      ]
     },
     "execution_count": 20,
     "metadata": {},
     "output_type": "execute_result"
    }
   ],
   "source": [
    "c = -10 * a\n",
    "c"
   ]
  },
  {
   "cell_type": "code",
   "execution_count": 21,
   "id": "cad8d519",
   "metadata": {},
   "outputs": [],
   "source": [
    "c = 0.5 * a"
   ]
  },
  {
   "cell_type": "code",
   "execution_count": 22,
   "id": "bde00570",
   "metadata": {},
   "outputs": [
    {
     "data": {
      "text/plain": [
       "array([2.5, 2. , 4. , 2. , 1.5])"
      ]
     },
     "execution_count": 22,
     "metadata": {},
     "output_type": "execute_result"
    }
   ],
   "source": [
    "c"
   ]
  },
  {
   "cell_type": "markdown",
   "id": "de625b93",
   "metadata": {},
   "source": [
    "сравним с умножением натурального числа на список\n",
    "\n",
    "(результат не тот - увеличение длины списка, а не умножение вектора на скляр):"
   ]
  },
  {
   "cell_type": "code",
   "execution_count": 23,
   "id": "68bb2731",
   "metadata": {},
   "outputs": [
    {
     "data": {
      "text/plain": [
       "[1, 2, 3, 1, 2, 3]"
      ]
     },
     "execution_count": 23,
     "metadata": {},
     "output_type": "execute_result"
    }
   ],
   "source": [
    "2 * [1,2,3]"
   ]
  },
  {
   "cell_type": "markdown",
   "id": "5251a10c",
   "metadata": {},
   "source": [
    "Альтернативные способы умножения массива на скаляр:"
   ]
  },
  {
   "cell_type": "code",
   "execution_count": 24,
   "id": "ddbdf003",
   "metadata": {},
   "outputs": [
    {
     "data": {
      "text/plain": [
       "array([5, 4, 8, 4, 3])"
      ]
     },
     "execution_count": 24,
     "metadata": {},
     "output_type": "execute_result"
    }
   ],
   "source": [
    "a = np.array([5,4,8,4,3])\n",
    "a"
   ]
  },
  {
   "cell_type": "code",
   "execution_count": 25,
   "id": "6033b85c",
   "metadata": {},
   "outputs": [
    {
     "data": {
      "text/plain": [
       "array([-50, -40, -80, -40, -30])"
      ]
     },
     "execution_count": 25,
     "metadata": {},
     "output_type": "execute_result"
    }
   ],
   "source": [
    "# Вариант 1\n",
    "a.dot(-10)"
   ]
  },
  {
   "cell_type": "code",
   "execution_count": 26,
   "id": "83fabe6d",
   "metadata": {},
   "outputs": [
    {
     "data": {
      "text/plain": [
       "array([-50, -40, -80, -40, -30])"
      ]
     },
     "execution_count": 26,
     "metadata": {},
     "output_type": "execute_result"
    }
   ],
   "source": [
    "# Вариант 2\n",
    "np.dot(-10, a)"
   ]
  },
  {
   "cell_type": "code",
   "execution_count": 27,
   "id": "4d8fa6fe",
   "metadata": {},
   "outputs": [
    {
     "data": {
      "text/plain": [
       "array([-50, -40, -80, -40, -30])"
      ]
     },
     "execution_count": 27,
     "metadata": {},
     "output_type": "execute_result"
    }
   ],
   "source": [
    "# Вариант 3\n",
    "np.multiply(-10, a)"
   ]
  },
  {
   "cell_type": "markdown",
   "id": "f1eab567",
   "metadata": {},
   "source": [
    "### Скалярное произведение векторов"
   ]
  },
  {
   "cell_type": "code",
   "execution_count": 28,
   "id": "360cb1a2",
   "metadata": {},
   "outputs": [],
   "source": [
    "a = np.array([1,2,3])\n",
    "b = np.array([4,5,6])"
   ]
  },
  {
   "cell_type": "code",
   "execution_count": 30,
   "id": "97d8ebe1",
   "metadata": {},
   "outputs": [
    {
     "data": {
      "text/plain": [
       "(3,)"
      ]
     },
     "execution_count": 30,
     "metadata": {},
     "output_type": "execute_result"
    }
   ],
   "source": [
    "a.shape\n",
    "b.shape"
   ]
  },
  {
   "cell_type": "code",
   "execution_count": 31,
   "id": "9f6bd7a5",
   "metadata": {},
   "outputs": [
    {
     "data": {
      "text/plain": [
       "32"
      ]
     },
     "execution_count": 31,
     "metadata": {},
     "output_type": "execute_result"
    }
   ],
   "source": [
    "sp = a[0] * b[0] + a[1] * b[1] + a[2] * b[2]\n",
    "sp"
   ]
  },
  {
   "cell_type": "code",
   "execution_count": 32,
   "id": "b921a1cb",
   "metadata": {},
   "outputs": [
    {
     "data": {
      "text/plain": [
       "32"
      ]
     },
     "execution_count": 32,
     "metadata": {},
     "output_type": "execute_result"
    }
   ],
   "source": [
    "a @ b"
   ]
  },
  {
   "cell_type": "code",
   "execution_count": 33,
   "id": "f28c8542",
   "metadata": {},
   "outputs": [
    {
     "data": {
      "text/plain": [
       "32"
      ]
     },
     "execution_count": 33,
     "metadata": {},
     "output_type": "execute_result"
    }
   ],
   "source": [
    "sp = np.dot(a,b)\n",
    "sp"
   ]
  },
  {
   "cell_type": "markdown",
   "id": "d5370ae1",
   "metadata": {},
   "source": [
    "### Операции с матрицами"
   ]
  },
  {
   "cell_type": "code",
   "execution_count": 34,
   "id": "aa448ad3",
   "metadata": {},
   "outputs": [],
   "source": [
    "A = np.array([[0,1],\n",
    "             [2,3],\n",
    "             [4,5]])"
   ]
  },
  {
   "cell_type": "code",
   "execution_count": 35,
   "id": "c78333f8",
   "metadata": {},
   "outputs": [],
   "source": [
    "B = np.array([[6,7],\n",
    "             [8,9],\n",
    "             [10,11]])"
   ]
  },
  {
   "cell_type": "code",
   "execution_count": 36,
   "id": "1939a7c0",
   "metadata": {},
   "outputs": [
    {
     "data": {
      "text/plain": [
       "(3, 2)"
      ]
     },
     "execution_count": 36,
     "metadata": {},
     "output_type": "execute_result"
    }
   ],
   "source": [
    "A.shape\n",
    "B.shape"
   ]
  },
  {
   "cell_type": "markdown",
   "id": "5c695704",
   "metadata": {},
   "source": [
    "### Сложение матриц"
   ]
  },
  {
   "cell_type": "code",
   "execution_count": 38,
   "id": "a80e80ff",
   "metadata": {},
   "outputs": [
    {
     "data": {
      "text/plain": [
       "array([[ 6,  8],\n",
       "       [10, 12],\n",
       "       [14, 16]])"
      ]
     },
     "execution_count": 38,
     "metadata": {},
     "output_type": "execute_result"
    }
   ],
   "source": [
    "C = A + B # при этом количество строк и столбцов должно быть одинаковым\n",
    "C"
   ]
  },
  {
   "cell_type": "markdown",
   "id": "2dcf9637",
   "metadata": {},
   "source": [
    "Альтернативный способ:"
   ]
  },
  {
   "cell_type": "code",
   "execution_count": 39,
   "id": "68c019bf",
   "metadata": {},
   "outputs": [
    {
     "data": {
      "text/plain": [
       "array([[ 6,  8],\n",
       "       [10, 12],\n",
       "       [14, 16]])"
      ]
     },
     "execution_count": 39,
     "metadata": {},
     "output_type": "execute_result"
    }
   ],
   "source": [
    "C = np.add(A,B)\n",
    "C"
   ]
  },
  {
   "cell_type": "markdown",
   "id": "e031eb81",
   "metadata": {},
   "source": [
    "### Вычитание матриц"
   ]
  },
  {
   "cell_type": "code",
   "execution_count": 40,
   "id": "0521370e",
   "metadata": {},
   "outputs": [],
   "source": [
    "A = np.array([[11,13],\n",
    "             [16,9],\n",
    "             [8,15]])\n",
    "B = np.array([[6,7],\n",
    "             [8,9],\n",
    "             [10,11]])"
   ]
  },
  {
   "cell_type": "code",
   "execution_count": 41,
   "id": "b44ad5ac",
   "metadata": {},
   "outputs": [
    {
     "data": {
      "text/plain": [
       "array([[ 5,  6],\n",
       "       [ 8,  0],\n",
       "       [-2,  4]])"
      ]
     },
     "execution_count": 41,
     "metadata": {},
     "output_type": "execute_result"
    }
   ],
   "source": [
    "D = A - B\n",
    "D"
   ]
  },
  {
   "cell_type": "markdown",
   "id": "77c89528",
   "metadata": {},
   "source": [
    "Либо: "
   ]
  },
  {
   "cell_type": "code",
   "execution_count": 43,
   "id": "c0914f4e",
   "metadata": {},
   "outputs": [
    {
     "data": {
      "text/plain": [
       "array([[ 5,  6],\n",
       "       [ 8,  0],\n",
       "       [-2,  4]])"
      ]
     },
     "execution_count": 43,
     "metadata": {},
     "output_type": "execute_result"
    }
   ],
   "source": [
    "D = np.subtract(A,B)\n",
    "D"
   ]
  },
  {
   "cell_type": "markdown",
   "id": "e41e23b6",
   "metadata": {},
   "source": [
    "### Умножение матрицы на скаляр"
   ]
  },
  {
   "cell_type": "code",
   "execution_count": 44,
   "id": "90fe4c82",
   "metadata": {},
   "outputs": [
    {
     "data": {
      "text/plain": [
       "array([[1, 2],\n",
       "       [3, 4]])"
      ]
     },
     "execution_count": 44,
     "metadata": {},
     "output_type": "execute_result"
    }
   ],
   "source": [
    "X = np.array([[1,2], [3,4]])\n",
    "X"
   ]
  },
  {
   "cell_type": "code",
   "execution_count": 45,
   "id": "38eecd82",
   "metadata": {},
   "outputs": [
    {
     "data": {
      "text/plain": [
       "array([[ 3,  6],\n",
       "       [ 9, 12]])"
      ]
     },
     "execution_count": 45,
     "metadata": {},
     "output_type": "execute_result"
    }
   ],
   "source": [
    "Y = X * 3\n",
    "Y"
   ]
  },
  {
   "cell_type": "code",
   "execution_count": 46,
   "id": "5fea6d2a",
   "metadata": {},
   "outputs": [
    {
     "data": {
      "text/plain": [
       "array([[ 3,  6],\n",
       "       [ 9, 12]])"
      ]
     },
     "execution_count": 46,
     "metadata": {},
     "output_type": "execute_result"
    }
   ],
   "source": [
    "Y = np.dot(X,3)\n",
    "Y"
   ]
  },
  {
   "cell_type": "code",
   "execution_count": null,
   "id": "648d6a44",
   "metadata": {},
   "outputs": [],
   "source": []
  }
 ],
 "metadata": {
  "kernelspec": {
   "display_name": "Python 3 (ipykernel)",
   "language": "python",
   "name": "python3"
  },
  "language_info": {
   "codemirror_mode": {
    "name": "ipython",
    "version": 3
   },
   "file_extension": ".py",
   "mimetype": "text/x-python",
   "name": "python",
   "nbconvert_exporter": "python",
   "pygments_lexer": "ipython3",
   "version": "3.9.7"
  }
 },
 "nbformat": 4,
 "nbformat_minor": 5
}
