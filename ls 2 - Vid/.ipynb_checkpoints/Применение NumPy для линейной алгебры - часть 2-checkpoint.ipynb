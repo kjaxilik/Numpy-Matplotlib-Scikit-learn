{
 "cells": [
  {
   "cell_type": "code",
   "execution_count": 1,
   "id": "527de551",
   "metadata": {},
   "outputs": [],
   "source": [
    "import numpy as np"
   ]
  },
  {
   "cell_type": "markdown",
   "id": "696076d8",
   "metadata": {},
   "source": [
    "### Умножение матриц"
   ]
  },
  {
   "cell_type": "code",
   "execution_count": 4,
   "id": "bce9051f",
   "metadata": {},
   "outputs": [],
   "source": [
    "X1 = np.array([[1,2],\n",
    "              [3,4],\n",
    "              [5,6]])\n",
    "X2 = np.array([[7,8,9,10],\n",
    "              [11,12,13,14]])"
   ]
  },
  {
   "cell_type": "markdown",
   "id": "c9a2acd2",
   "metadata": {},
   "source": [
    "число столбцов первой матрицы должно равняться числу строк второй матрицы"
   ]
  },
  {
   "cell_type": "code",
   "execution_count": 5,
   "id": "fb72e4af",
   "metadata": {},
   "outputs": [
    {
     "data": {
      "text/plain": [
       "True"
      ]
     },
     "execution_count": 5,
     "metadata": {},
     "output_type": "execute_result"
    }
   ],
   "source": [
    "X1.shape[1] == X2.shape[0]"
   ]
  },
  {
   "cell_type": "code",
   "execution_count": 6,
   "id": "4e042c7b",
   "metadata": {},
   "outputs": [
    {
     "data": {
      "text/plain": [
       "((3, 2), (2, 4))"
      ]
     },
     "execution_count": 6,
     "metadata": {},
     "output_type": "execute_result"
    }
   ],
   "source": [
    "X1.shape, X2.shape"
   ]
  },
  {
   "cell_type": "code",
   "execution_count": 7,
   "id": "4dfbe724",
   "metadata": {},
   "outputs": [
    {
     "data": {
      "text/plain": [
       "array([[ 29,  32,  35,  38],\n",
       "       [ 65,  72,  79,  86],\n",
       "       [101, 112, 123, 134]])"
      ]
     },
     "execution_count": 7,
     "metadata": {},
     "output_type": "execute_result"
    }
   ],
   "source": [
    "Z = np.dot(X1,X2) # умножаем\n",
    "Z"
   ]
  },
  {
   "cell_type": "code",
   "execution_count": 8,
   "id": "c855240f",
   "metadata": {},
   "outputs": [
    {
     "data": {
      "text/plain": [
       "(3, 4)"
      ]
     },
     "execution_count": 8,
     "metadata": {},
     "output_type": "execute_result"
    }
   ],
   "source": [
    "Z.shape"
   ]
  },
  {
   "cell_type": "markdown",
   "id": "2539327b",
   "metadata": {},
   "source": [
    "Как получен элемент матрицы Z нулевой строки и нулевого столбца:"
   ]
  },
  {
   "cell_type": "code",
   "execution_count": 9,
   "id": "e2162a4e",
   "metadata": {},
   "outputs": [
    {
     "data": {
      "text/plain": [
       "29"
      ]
     },
     "execution_count": 9,
     "metadata": {},
     "output_type": "execute_result"
    }
   ],
   "source": [
    "Z[0,0]"
   ]
  },
  {
   "cell_type": "code",
   "execution_count": 10,
   "id": "d18d2f76",
   "metadata": {},
   "outputs": [
    {
     "data": {
      "text/plain": [
       "29"
      ]
     },
     "execution_count": 10,
     "metadata": {},
     "output_type": "execute_result"
    }
   ],
   "source": [
    "X1[0,0] * X2[0,0] + X1[0,1] * X2[1,0]"
   ]
  },
  {
   "cell_type": "markdown",
   "id": "50de7b0c",
   "metadata": {},
   "source": [
    "Как получен элемент матрицы Z нулевой строки и первого столбца:"
   ]
  },
  {
   "cell_type": "code",
   "execution_count": 11,
   "id": "1cda81ef",
   "metadata": {},
   "outputs": [
    {
     "data": {
      "text/plain": [
       "32"
      ]
     },
     "execution_count": 11,
     "metadata": {},
     "output_type": "execute_result"
    }
   ],
   "source": [
    "Z[0,1]"
   ]
  },
  {
   "cell_type": "code",
   "execution_count": 13,
   "id": "4a6b1185",
   "metadata": {},
   "outputs": [
    {
     "data": {
      "text/plain": [
       "32"
      ]
     },
     "execution_count": 13,
     "metadata": {},
     "output_type": "execute_result"
    }
   ],
   "source": [
    "X1[0,0] * X2[0,1] + X1[0,1] * X2[1,1]"
   ]
  },
  {
   "cell_type": "markdown",
   "id": "d138180f",
   "metadata": {},
   "source": [
    "### Модуль numpy.linalg: возвращение матрицы в квадрат"
   ]
  },
  {
   "cell_type": "code",
   "execution_count": 14,
   "id": "1f3d6065",
   "metadata": {},
   "outputs": [],
   "source": [
    "A = np.array([[0,1,2],\n",
    "             [3,4,5],\n",
    "             [6,7,8]])"
   ]
  },
  {
   "cell_type": "code",
   "execution_count": 15,
   "id": "b399880d",
   "metadata": {},
   "outputs": [
    {
     "data": {
      "text/plain": [
       "array([[ 15,  18,  21],\n",
       "       [ 42,  54,  66],\n",
       "       [ 69,  90, 111]])"
      ]
     },
     "execution_count": 15,
     "metadata": {},
     "output_type": "execute_result"
    }
   ],
   "source": [
    "A_square = np.dot(A,A)\n",
    "A_square"
   ]
  },
  {
   "cell_type": "code",
   "execution_count": 16,
   "id": "c7330c1e",
   "metadata": {},
   "outputs": [
    {
     "data": {
      "text/plain": [
       "array([[ 15,  18,  21],\n",
       "       [ 42,  54,  66],\n",
       "       [ 69,  90, 111]])"
      ]
     },
     "execution_count": 16,
     "metadata": {},
     "output_type": "execute_result"
    }
   ],
   "source": [
    "A_square = np.linalg.matrix_power(A, 2)  # квадрат степени\n",
    "A_square"
   ]
  },
  {
   "cell_type": "markdown",
   "id": "b0ffac35",
   "metadata": {},
   "source": [
    "### Создание единичной матрицы\n",
    "\n",
    "Единичная матрица - квадратная матрица с единицами по главной диагонали и нулями в остальных ячейках"
   ]
  },
  {
   "cell_type": "code",
   "execution_count": 17,
   "id": "571b8401",
   "metadata": {},
   "outputs": [
    {
     "data": {
      "text/plain": [
       "array([[1., 0., 0.],\n",
       "       [0., 1., 0.],\n",
       "       [0., 0., 1.]])"
      ]
     },
     "execution_count": 17,
     "metadata": {},
     "output_type": "execute_result"
    }
   ],
   "source": [
    "I = np.eye(3)\n",
    "I"
   ]
  },
  {
   "cell_type": "markdown",
   "id": "06ee6661",
   "metadata": {},
   "source": [
    "### Умножение матрицы на единичную матрицу"
   ]
  },
  {
   "cell_type": "code",
   "execution_count": 20,
   "id": "09a032a6",
   "metadata": {},
   "outputs": [
    {
     "data": {
      "text/plain": [
       "array([[1, 2],\n",
       "       [3, 4],\n",
       "       [5, 6]])"
      ]
     },
     "execution_count": 20,
     "metadata": {},
     "output_type": "execute_result"
    }
   ],
   "source": [
    "A = np.array([[1,2],\n",
    "             [3,4],\n",
    "             [5,6]])\n",
    "A"
   ]
  },
  {
   "cell_type": "markdown",
   "id": "e24378d0",
   "metadata": {},
   "source": [
    "Случай 1"
   ]
  },
  {
   "cell_type": "code",
   "execution_count": 23,
   "id": "c44132b4",
   "metadata": {},
   "outputs": [
    {
     "data": {
      "text/plain": [
       "array([[1., 0.],\n",
       "       [0., 1.]])"
      ]
     },
     "execution_count": 23,
     "metadata": {},
     "output_type": "execute_result"
    }
   ],
   "source": [
    "I = np.eye(2)\n",
    "I"
   ]
  },
  {
   "cell_type": "code",
   "execution_count": 24,
   "id": "4d1d30f4",
   "metadata": {},
   "outputs": [
    {
     "data": {
      "text/plain": [
       "array([[1., 2.],\n",
       "       [3., 4.],\n",
       "       [5., 6.]])"
      ]
     },
     "execution_count": 24,
     "metadata": {},
     "output_type": "execute_result"
    }
   ],
   "source": [
    "np.dot(A, I)"
   ]
  },
  {
   "cell_type": "markdown",
   "id": "f09a577e",
   "metadata": {},
   "source": [
    "Случай 2"
   ]
  },
  {
   "cell_type": "code",
   "execution_count": 26,
   "id": "91bfb153",
   "metadata": {},
   "outputs": [
    {
     "data": {
      "text/plain": [
       "array([[1., 0., 0.],\n",
       "       [0., 1., 0.],\n",
       "       [0., 0., 1.]])"
      ]
     },
     "execution_count": 26,
     "metadata": {},
     "output_type": "execute_result"
    }
   ],
   "source": [
    "I = np.eye(3)\n",
    "I"
   ]
  },
  {
   "cell_type": "code",
   "execution_count": 27,
   "id": "cf308867",
   "metadata": {},
   "outputs": [
    {
     "data": {
      "text/plain": [
       "array([[1., 2.],\n",
       "       [3., 4.],\n",
       "       [5., 6.]])"
      ]
     },
     "execution_count": 27,
     "metadata": {},
     "output_type": "execute_result"
    }
   ],
   "source": [
    "np.dot(I, A)"
   ]
  },
  {
   "cell_type": "markdown",
   "id": "1265d50b",
   "metadata": {},
   "source": [
    "### Транспонирование матрицы"
   ]
  },
  {
   "cell_type": "code",
   "execution_count": 28,
   "id": "e783265d",
   "metadata": {},
   "outputs": [],
   "source": [
    "A = np.array([[11,13],\n",
    "             [16,9],\n",
    "             [8,15]])"
   ]
  },
  {
   "cell_type": "code",
   "execution_count": 29,
   "id": "f5077ff1",
   "metadata": {},
   "outputs": [
    {
     "data": {
      "text/plain": [
       "array([[11, 16,  8],\n",
       "       [13,  9, 15]])"
      ]
     },
     "execution_count": 29,
     "metadata": {},
     "output_type": "execute_result"
    }
   ],
   "source": [
    "At = A.transpose() # транспонирование столбцов и строк\n",
    "At"
   ]
  },
  {
   "cell_type": "markdown",
   "id": "67a7d816",
   "metadata": {},
   "source": [
    "Альтернативный вариант:"
   ]
  },
  {
   "cell_type": "code",
   "execution_count": 30,
   "id": "860fc13b",
   "metadata": {},
   "outputs": [
    {
     "data": {
      "text/plain": [
       "array([[11, 16,  8],\n",
       "       [13,  9, 15]])"
      ]
     },
     "execution_count": 30,
     "metadata": {},
     "output_type": "execute_result"
    }
   ],
   "source": [
    "At = A.T\n",
    "At"
   ]
  },
  {
   "cell_type": "markdown",
   "id": "466e08b3",
   "metadata": {},
   "source": [
    "Рассмотрим матрицы X и Y:"
   ]
  },
  {
   "cell_type": "code",
   "execution_count": 31,
   "id": "3a3975a5",
   "metadata": {},
   "outputs": [],
   "source": [
    "X = np.array([[1,2],\n",
    "             [3,4],\n",
    "             [5,6]])"
   ]
  },
  {
   "cell_type": "code",
   "execution_count": 33,
   "id": "c1bb83c4",
   "metadata": {},
   "outputs": [],
   "source": [
    "Y = np.array([[0,1],\n",
    "             [3,4],\n",
    "             [6,7],\n",
    "             [2,5]])"
   ]
  },
  {
   "cell_type": "code",
   "execution_count": 34,
   "id": "8bb1d470",
   "metadata": {},
   "outputs": [
    {
     "data": {
      "text/plain": [
       "array([[0, 3, 6, 2],\n",
       "       [1, 4, 7, 5]])"
      ]
     },
     "execution_count": 34,
     "metadata": {},
     "output_type": "execute_result"
    }
   ],
   "source": [
    "Yt = Y.T\n",
    "Yt"
   ]
  },
  {
   "cell_type": "code",
   "execution_count": 35,
   "id": "779858c3",
   "metadata": {},
   "outputs": [
    {
     "data": {
      "text/plain": [
       "array([[ 2, 11, 20, 12],\n",
       "       [ 4, 25, 46, 26],\n",
       "       [ 6, 39, 72, 40]])"
      ]
     },
     "execution_count": 35,
     "metadata": {},
     "output_type": "execute_result"
    }
   ],
   "source": [
    "np.dot(X,Yt)"
   ]
  },
  {
   "cell_type": "markdown",
   "id": "293b6ece",
   "metadata": {},
   "source": [
    "### Вычисление определителя и ранга матрицы"
   ]
  },
  {
   "cell_type": "markdown",
   "id": "43289a31",
   "metadata": {},
   "source": [
    "Пример 1"
   ]
  },
  {
   "cell_type": "code",
   "execution_count": 36,
   "id": "bf191192",
   "metadata": {},
   "outputs": [],
   "source": [
    "A = np.array([[0,1,2],\n",
    "             [3,4,5],\n",
    "             [6,7,8]])"
   ]
  },
  {
   "cell_type": "code",
   "execution_count": 38,
   "id": "96a5c379",
   "metadata": {},
   "outputs": [
    {
     "data": {
      "text/plain": [
       "0.0"
      ]
     },
     "execution_count": 38,
     "metadata": {},
     "output_type": "execute_result"
    }
   ],
   "source": [
    "np.linalg.det(A)  # Определитель через linalg"
   ]
  },
  {
   "cell_type": "code",
   "execution_count": 39,
   "id": "24c4a09c",
   "metadata": {},
   "outputs": [
    {
     "data": {
      "text/plain": [
       "2"
      ]
     },
     "execution_count": 39,
     "metadata": {},
     "output_type": "execute_result"
    }
   ],
   "source": [
    "np.linalg.matrix_rank(A) # её ранг равен"
   ]
  },
  {
   "cell_type": "markdown",
   "id": "9fd51c1b",
   "metadata": {},
   "source": [
    "Пример 2"
   ]
  },
  {
   "cell_type": "code",
   "execution_count": 40,
   "id": "6f83a850",
   "metadata": {},
   "outputs": [],
   "source": [
    "B = np.array([[7,4,5],\n",
    "             [8,3,2],\n",
    "             [6,10,12]])"
   ]
  },
  {
   "cell_type": "code",
   "execution_count": 41,
   "id": "08d2db8a",
   "metadata": {},
   "outputs": [
    {
     "data": {
      "text/plain": [
       "85.99999999999997"
      ]
     },
     "execution_count": 41,
     "metadata": {},
     "output_type": "execute_result"
    }
   ],
   "source": [
    "np.linalg.det(B)"
   ]
  },
  {
   "cell_type": "code",
   "execution_count": 42,
   "id": "b1a44233",
   "metadata": {},
   "outputs": [
    {
     "data": {
      "text/plain": [
       "3"
      ]
     },
     "execution_count": 42,
     "metadata": {},
     "output_type": "execute_result"
    }
   ],
   "source": [
    "np.linalg.matrix_rank(B)"
   ]
  },
  {
   "cell_type": "markdown",
   "id": "fe3a6e27",
   "metadata": {},
   "source": [
    "Пример 3 (можно узнать только ранг матрицы, но не определитель, так как она не квадратная)"
   ]
  },
  {
   "cell_type": "code",
   "execution_count": 43,
   "id": "681861ae",
   "metadata": {},
   "outputs": [],
   "source": [
    "C = np.array([[1,2],\n",
    "             [3,4],\n",
    "             [5,6]])"
   ]
  },
  {
   "cell_type": "code",
   "execution_count": 45,
   "id": "abb18ba2",
   "metadata": {},
   "outputs": [
    {
     "ename": "LinAlgError",
     "evalue": "Last 2 dimensions of the array must be square",
     "output_type": "error",
     "traceback": [
      "\u001b[1;31m---------------------------------------------------------------------------\u001b[0m",
      "\u001b[1;31mLinAlgError\u001b[0m                               Traceback (most recent call last)",
      "\u001b[1;32m~\\AppData\\Local\\Temp/ipykernel_31588/1155558137.py\u001b[0m in \u001b[0;36m<module>\u001b[1;34m\u001b[0m\n\u001b[1;32m----> 1\u001b[1;33m \u001b[0mnp\u001b[0m\u001b[1;33m.\u001b[0m\u001b[0mlinalg\u001b[0m\u001b[1;33m.\u001b[0m\u001b[0mdet\u001b[0m\u001b[1;33m(\u001b[0m\u001b[0mC\u001b[0m\u001b[1;33m)\u001b[0m  \u001b[1;31m# Определитель выдать ошибку, так как столбцы и строки не равны\u001b[0m\u001b[1;33m\u001b[0m\u001b[1;33m\u001b[0m\u001b[0m\n\u001b[0m",
      "\u001b[1;32m<__array_function__ internals>\u001b[0m in \u001b[0;36mdet\u001b[1;34m(*args, **kwargs)\u001b[0m\n",
      "\u001b[1;32m~\\anaconda3\\lib\\site-packages\\numpy\\linalg\\linalg.py\u001b[0m in \u001b[0;36mdet\u001b[1;34m(a)\u001b[0m\n\u001b[0;32m   2153\u001b[0m     \u001b[0ma\u001b[0m \u001b[1;33m=\u001b[0m \u001b[0masarray\u001b[0m\u001b[1;33m(\u001b[0m\u001b[0ma\u001b[0m\u001b[1;33m)\u001b[0m\u001b[1;33m\u001b[0m\u001b[1;33m\u001b[0m\u001b[0m\n\u001b[0;32m   2154\u001b[0m     \u001b[0m_assert_stacked_2d\u001b[0m\u001b[1;33m(\u001b[0m\u001b[0ma\u001b[0m\u001b[1;33m)\u001b[0m\u001b[1;33m\u001b[0m\u001b[1;33m\u001b[0m\u001b[0m\n\u001b[1;32m-> 2155\u001b[1;33m     \u001b[0m_assert_stacked_square\u001b[0m\u001b[1;33m(\u001b[0m\u001b[0ma\u001b[0m\u001b[1;33m)\u001b[0m\u001b[1;33m\u001b[0m\u001b[1;33m\u001b[0m\u001b[0m\n\u001b[0m\u001b[0;32m   2156\u001b[0m     \u001b[0mt\u001b[0m\u001b[1;33m,\u001b[0m \u001b[0mresult_t\u001b[0m \u001b[1;33m=\u001b[0m \u001b[0m_commonType\u001b[0m\u001b[1;33m(\u001b[0m\u001b[0ma\u001b[0m\u001b[1;33m)\u001b[0m\u001b[1;33m\u001b[0m\u001b[1;33m\u001b[0m\u001b[0m\n\u001b[0;32m   2157\u001b[0m     \u001b[0msignature\u001b[0m \u001b[1;33m=\u001b[0m \u001b[1;34m'D->D'\u001b[0m \u001b[1;32mif\u001b[0m \u001b[0misComplexType\u001b[0m\u001b[1;33m(\u001b[0m\u001b[0mt\u001b[0m\u001b[1;33m)\u001b[0m \u001b[1;32melse\u001b[0m \u001b[1;34m'd->d'\u001b[0m\u001b[1;33m\u001b[0m\u001b[1;33m\u001b[0m\u001b[0m\n",
      "\u001b[1;32m~\\anaconda3\\lib\\site-packages\\numpy\\linalg\\linalg.py\u001b[0m in \u001b[0;36m_assert_stacked_square\u001b[1;34m(*arrays)\u001b[0m\n\u001b[0;32m    201\u001b[0m         \u001b[0mm\u001b[0m\u001b[1;33m,\u001b[0m \u001b[0mn\u001b[0m \u001b[1;33m=\u001b[0m \u001b[0ma\u001b[0m\u001b[1;33m.\u001b[0m\u001b[0mshape\u001b[0m\u001b[1;33m[\u001b[0m\u001b[1;33m-\u001b[0m\u001b[1;36m2\u001b[0m\u001b[1;33m:\u001b[0m\u001b[1;33m]\u001b[0m\u001b[1;33m\u001b[0m\u001b[1;33m\u001b[0m\u001b[0m\n\u001b[0;32m    202\u001b[0m         \u001b[1;32mif\u001b[0m \u001b[0mm\u001b[0m \u001b[1;33m!=\u001b[0m \u001b[0mn\u001b[0m\u001b[1;33m:\u001b[0m\u001b[1;33m\u001b[0m\u001b[1;33m\u001b[0m\u001b[0m\n\u001b[1;32m--> 203\u001b[1;33m             \u001b[1;32mraise\u001b[0m \u001b[0mLinAlgError\u001b[0m\u001b[1;33m(\u001b[0m\u001b[1;34m'Last 2 dimensions of the array must be square'\u001b[0m\u001b[1;33m)\u001b[0m\u001b[1;33m\u001b[0m\u001b[1;33m\u001b[0m\u001b[0m\n\u001b[0m\u001b[0;32m    204\u001b[0m \u001b[1;33m\u001b[0m\u001b[0m\n\u001b[0;32m    205\u001b[0m \u001b[1;32mdef\u001b[0m \u001b[0m_assert_finite\u001b[0m\u001b[1;33m(\u001b[0m\u001b[1;33m*\u001b[0m\u001b[0marrays\u001b[0m\u001b[1;33m)\u001b[0m\u001b[1;33m:\u001b[0m\u001b[1;33m\u001b[0m\u001b[1;33m\u001b[0m\u001b[0m\n",
      "\u001b[1;31mLinAlgError\u001b[0m: Last 2 dimensions of the array must be square"
     ]
    }
   ],
   "source": [
    "np.linalg.det(C)  # Определитель выдать ошибку, так как столбцы и строки не равны"
   ]
  },
  {
   "cell_type": "code",
   "execution_count": 46,
   "id": "2681ef50",
   "metadata": {},
   "outputs": [
    {
     "data": {
      "text/plain": [
       "2"
      ]
     },
     "execution_count": 46,
     "metadata": {},
     "output_type": "execute_result"
    }
   ],
   "source": [
    "np.linalg.matrix_rank(C)"
   ]
  },
  {
   "cell_type": "markdown",
   "id": "0d763366",
   "metadata": {},
   "source": [
    "### Вычисление обратной матрицы"
   ]
  },
  {
   "cell_type": "code",
   "execution_count": 47,
   "id": "6a482a61",
   "metadata": {},
   "outputs": [],
   "source": [
    "B = np.array([[7,4,5],\n",
    "             [8,3,2],\n",
    "             [6,10,12]])"
   ]
  },
  {
   "cell_type": "code",
   "execution_count": 48,
   "id": "32ed5bf5",
   "metadata": {},
   "outputs": [
    {
     "data": {
      "text/plain": [
       "array([[ 0.18604651,  0.02325581, -0.08139535],\n",
       "       [-0.97674419,  0.62790698,  0.30232558],\n",
       "       [ 0.72093023, -0.53488372, -0.12790698]])"
      ]
     },
     "execution_count": 48,
     "metadata": {},
     "output_type": "execute_result"
    }
   ],
   "source": [
    "B_inv = np.linalg.inv(B)\n",
    "B_inv"
   ]
  },
  {
   "cell_type": "code",
   "execution_count": 50,
   "id": "eb2c79ce",
   "metadata": {},
   "outputs": [
    {
     "data": {
      "text/plain": [
       "array([[ 7.,  4.,  5.],\n",
       "       [ 8.,  3.,  2.],\n",
       "       [ 6., 10., 12.]])"
      ]
     },
     "execution_count": 50,
     "metadata": {},
     "output_type": "execute_result"
    }
   ],
   "source": [
    "B_inv2 = np.linalg.inv(B_inv)\n",
    "B_inv2"
   ]
  },
  {
   "cell_type": "code",
   "execution_count": null,
   "id": "c95a3aac",
   "metadata": {},
   "outputs": [],
   "source": []
  }
 ],
 "metadata": {
  "kernelspec": {
   "display_name": "Python 3 (ipykernel)",
   "language": "python",
   "name": "python3"
  },
  "language_info": {
   "codemirror_mode": {
    "name": "ipython",
    "version": 3
   },
   "file_extension": ".py",
   "mimetype": "text/x-python",
   "name": "python",
   "nbconvert_exporter": "python",
   "pygments_lexer": "ipython3",
   "version": "3.9.7"
  }
 },
 "nbformat": 4,
 "nbformat_minor": 5
}
