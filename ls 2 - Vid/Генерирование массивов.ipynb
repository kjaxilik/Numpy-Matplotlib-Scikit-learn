{
 "cells": [
  {
   "cell_type": "code",
   "execution_count": 1,
   "id": "d2a59e28",
   "metadata": {},
   "outputs": [],
   "source": [
    "import numpy as np"
   ]
  },
  {
   "cell_type": "markdown",
   "id": "f563b8f1",
   "metadata": {},
   "source": [
    "### Автоматическое создание массивов"
   ]
  },
  {
   "cell_type": "code",
   "execution_count": 3,
   "id": "f46ff576",
   "metadata": {},
   "outputs": [
    {
     "data": {
      "text/plain": [
       "array([[0., 0., 0., 0.],\n",
       "       [0., 0., 0., 0.],\n",
       "       [0., 0., 0., 0.]])"
      ]
     },
     "execution_count": 3,
     "metadata": {},
     "output_type": "execute_result"
    }
   ],
   "source": [
    "a = np.zeros((3,4)) # создание массима 3 строк, 4 столбца\n",
    "a"
   ]
  },
  {
   "cell_type": "code",
   "execution_count": 12,
   "id": "fcaf74fd",
   "metadata": {},
   "outputs": [
    {
     "data": {
      "text/plain": [
       "array([[1., 1., 1.],\n",
       "       [1., 1., 1.],\n",
       "       [1., 1., 1.],\n",
       "       [1., 1., 1.],\n",
       "       [1., 1., 1.]])"
      ]
     },
     "execution_count": 12,
     "metadata": {},
     "output_type": "execute_result"
    }
   ],
   "source": [
    "a = np.ones((5,3)) # создание массима 3 строк, 4 столбца  заполненные 111\n",
    "a"
   ]
  },
  {
   "cell_type": "code",
   "execution_count": 11,
   "id": "9928546c",
   "metadata": {},
   "outputs": [
    {
     "data": {
      "text/plain": [
       "array([0, 1, 2, 3, 4, 5, 6, 7, 8, 9])"
      ]
     },
     "execution_count": 11,
     "metadata": {},
     "output_type": "execute_result"
    }
   ],
   "source": [
    "np.arange(10)"
   ]
  },
  {
   "cell_type": "markdown",
   "id": "899cefac",
   "metadata": {},
   "source": [
    "По умолчанию ряд чисел начинается с 0, но можно явно задать начало последовательности"
   ]
  },
  {
   "cell_type": "code",
   "execution_count": 8,
   "id": "5b810b23",
   "metadata": {},
   "outputs": [
    {
     "data": {
      "text/plain": [
       "array([0, 1, 2, 3, 4, 5, 6, 7, 8, 9])"
      ]
     },
     "execution_count": 8,
     "metadata": {},
     "output_type": "execute_result"
    }
   ],
   "source": [
    "np.arange(0, 10) "
   ]
  },
  {
   "cell_type": "markdown",
   "id": "f3c96413",
   "metadata": {},
   "source": [
    "Последовательность с шагом 2"
   ]
  },
  {
   "cell_type": "code",
   "execution_count": 9,
   "id": "b893be95",
   "metadata": {},
   "outputs": [
    {
     "data": {
      "text/plain": [
       "array([0, 2, 4, 6, 8])"
      ]
     },
     "execution_count": 9,
     "metadata": {},
     "output_type": "execute_result"
    }
   ],
   "source": [
    "np.arange(0, 10, 2) # указанием шага"
   ]
  },
  {
   "cell_type": "markdown",
   "id": "5f2ff0e0",
   "metadata": {},
   "source": [
    "В обратном порядке:"
   ]
  },
  {
   "cell_type": "code",
   "execution_count": 14,
   "id": "6077c25b",
   "metadata": {},
   "outputs": [
    {
     "data": {
      "text/plain": [
       "array([10,  9,  8,  7,  6,  5,  4,  3,  2,  1])"
      ]
     },
     "execution_count": 14,
     "metadata": {},
     "output_type": "execute_result"
    }
   ],
   "source": [
    "np.arange(10, 0, -1)"
   ]
  },
  {
   "cell_type": "markdown",
   "id": "f2bc5ba0",
   "metadata": {},
   "source": [
    "В обратном порядке с шагом 2:"
   ]
  },
  {
   "cell_type": "code",
   "execution_count": 16,
   "id": "b0f10019",
   "metadata": {},
   "outputs": [
    {
     "data": {
      "text/plain": [
       "array([10,  8,  6,  4,  2])"
      ]
     },
     "execution_count": 16,
     "metadata": {},
     "output_type": "execute_result"
    }
   ],
   "source": [
    "np.arange(10, 0, -2)"
   ]
  },
  {
   "cell_type": "markdown",
   "id": "f8859128",
   "metadata": {},
   "source": [
    "Дробный шаг"
   ]
  },
  {
   "cell_type": "code",
   "execution_count": 17,
   "id": "cd280a00",
   "metadata": {},
   "outputs": [
    {
     "data": {
      "text/plain": [
       "array([0. , 0.1, 0.2, 0.3, 0.4, 0.5, 0.6, 0.7, 0.8, 0.9, 1. , 1.1, 1.2,\n",
       "       1.3, 1.4, 1.5, 1.6, 1.7, 1.8, 1.9, 2. , 2.1, 2.2, 2.3, 2.4, 2.5,\n",
       "       2.6, 2.7, 2.8, 2.9, 3. , 3.1, 3.2, 3.3, 3.4, 3.5, 3.6, 3.7, 3.8,\n",
       "       3.9, 4. , 4.1, 4.2, 4.3, 4.4, 4.5, 4.6, 4.7, 4.8, 4.9, 5. , 5.1,\n",
       "       5.2, 5.3, 5.4, 5.5, 5.6, 5.7, 5.8, 5.9, 6. , 6.1, 6.2, 6.3, 6.4,\n",
       "       6.5, 6.6, 6.7, 6.8, 6.9, 7. , 7.1, 7.2, 7.3, 7.4, 7.5, 7.6, 7.7,\n",
       "       7.8, 7.9, 8. , 8.1, 8.2, 8.3, 8.4, 8.5, 8.6, 8.7, 8.8, 8.9, 9. ,\n",
       "       9.1, 9.2, 9.3, 9.4, 9.5, 9.6, 9.7, 9.8, 9.9])"
      ]
     },
     "execution_count": 17,
     "metadata": {},
     "output_type": "execute_result"
    }
   ],
   "source": [
    "np.arange(0,10,0.1)"
   ]
  },
  {
   "cell_type": "markdown",
   "id": "ddb5bead",
   "metadata": {},
   "source": [
    "## numpy.linspace -  то же самое, но нужно учитывать, что правая граница будет включена.\n",
    "Вместо шага указываем нужное число элементов (100)"
   ]
  },
  {
   "cell_type": "code",
   "execution_count": 18,
   "id": "34ba6fd6",
   "metadata": {},
   "outputs": [
    {
     "data": {
      "text/plain": [
       "array([0. , 0.1, 0.2, 0.3, 0.4, 0.5, 0.6, 0.7, 0.8, 0.9, 1. , 1.1, 1.2,\n",
       "       1.3, 1.4, 1.5, 1.6, 1.7, 1.8, 1.9, 2. , 2.1, 2.2, 2.3, 2.4, 2.5,\n",
       "       2.6, 2.7, 2.8, 2.9, 3. , 3.1, 3.2, 3.3, 3.4, 3.5, 3.6, 3.7, 3.8,\n",
       "       3.9, 4. , 4.1, 4.2, 4.3, 4.4, 4.5, 4.6, 4.7, 4.8, 4.9, 5. , 5.1,\n",
       "       5.2, 5.3, 5.4, 5.5, 5.6, 5.7, 5.8, 5.9, 6. , 6.1, 6.2, 6.3, 6.4,\n",
       "       6.5, 6.6, 6.7, 6.8, 6.9, 7. , 7.1, 7.2, 7.3, 7.4, 7.5, 7.6, 7.7,\n",
       "       7.8, 7.9, 8. , 8.1, 8.2, 8.3, 8.4, 8.5, 8.6, 8.7, 8.8, 8.9, 9. ,\n",
       "       9.1, 9.2, 9.3, 9.4, 9.5, 9.6, 9.7, 9.8, 9.9])"
      ]
     },
     "execution_count": 18,
     "metadata": {},
     "output_type": "execute_result"
    }
   ],
   "source": [
    "np.linspace(0, 9.9, 100)"
   ]
  },
  {
   "cell_type": "markdown",
   "id": "92ba9a63",
   "metadata": {},
   "source": [
    "### numpy.logspace - обе границы также включены, но это не сами числа, а степени числа 10:"
   ]
  },
  {
   "cell_type": "code",
   "execution_count": 21,
   "id": "f72699b9",
   "metadata": {},
   "outputs": [
    {
     "data": {
      "text/plain": [
       "array([   1.,   10.,  100., 1000.])"
      ]
     },
     "execution_count": 21,
     "metadata": {},
     "output_type": "execute_result"
    }
   ],
   "source": [
    "np.logspace(0, 3, 4)"
   ]
  },
  {
   "cell_type": "markdown",
   "id": "b2fc80d5",
   "metadata": {},
   "source": [
    "### Генерация случайных чисел"
   ]
  },
  {
   "cell_type": "markdown",
   "id": "afb0b21a",
   "metadata": {},
   "source": [
    "**numpy.random.simple** - случайные числа с равномерным распределением в промежутке [0.0, 1.0]."
   ]
  },
  {
   "cell_type": "markdown",
   "id": "a39bc02f",
   "metadata": {},
   "source": [
    "Случайное число"
   ]
  },
  {
   "cell_type": "code",
   "execution_count": 22,
   "id": "eef41660",
   "metadata": {},
   "outputs": [
    {
     "data": {
      "text/plain": [
       "0.42807559233479864"
      ]
     },
     "execution_count": 22,
     "metadata": {},
     "output_type": "execute_result"
    }
   ],
   "source": [
    "np.random.sample()"
   ]
  },
  {
   "cell_type": "markdown",
   "id": "e6a66580",
   "metadata": {},
   "source": [
    "Одномерный массив из 3 чисел:"
   ]
  },
  {
   "cell_type": "code",
   "execution_count": 23,
   "id": "85b63a3f",
   "metadata": {},
   "outputs": [
    {
     "data": {
      "text/plain": [
       "array([0.62731612, 0.92616881, 0.4806641 ])"
      ]
     },
     "execution_count": 23,
     "metadata": {},
     "output_type": "execute_result"
    }
   ],
   "source": [
    "np.random.sample(3)"
   ]
  },
  {
   "cell_type": "markdown",
   "id": "5aab9de5",
   "metadata": {},
   "source": [
    "Двумерный массив 2x3:"
   ]
  },
  {
   "cell_type": "code",
   "execution_count": 24,
   "id": "88937eef",
   "metadata": {},
   "outputs": [
    {
     "data": {
      "text/plain": [
       "array([[0.98679479, 0.56160504, 0.28412368],\n",
       "       [0.64053426, 0.31438922, 0.29132176]])"
      ]
     },
     "execution_count": 24,
     "metadata": {},
     "output_type": "execute_result"
    }
   ],
   "source": [
    "np.random.sample((2,3))"
   ]
  },
  {
   "cell_type": "markdown",
   "id": "64b0765b",
   "metadata": {},
   "source": [
    "Массив 48x64x3\n",
    "\n",
    "(например, это может быть случайное изображение с высотой 48, шириной 64 и значениями яркости трех цветов для каждого пикселя)"
   ]
  },
  {
   "cell_type": "code",
   "execution_count": 25,
   "id": "1541d90e",
   "metadata": {},
   "outputs": [
    {
     "data": {
      "text/plain": [
       "array([[[0.16859612, 0.34230313, 0.30483356],\n",
       "        [0.88997404, 0.17395726, 0.36755222],\n",
       "        [0.46552936, 0.91960235, 0.67882908],\n",
       "        ...,\n",
       "        [0.99588863, 0.90524379, 0.05469866],\n",
       "        [0.2587897 , 0.39084975, 0.36488524],\n",
       "        [0.48413801, 0.37830119, 0.17617671]],\n",
       "\n",
       "       [[0.74281988, 0.25646939, 0.347202  ],\n",
       "        [0.5710939 , 0.06544778, 0.81866802],\n",
       "        [0.24485973, 0.31556055, 0.39028174],\n",
       "        ...,\n",
       "        [0.74473466, 0.14331659, 0.32053787],\n",
       "        [0.0745859 , 0.91145535, 0.50818085],\n",
       "        [0.44432189, 0.05731918, 0.24421716]],\n",
       "\n",
       "       [[0.24536124, 0.04754437, 0.61286813],\n",
       "        [0.17972808, 0.28168907, 0.31580085],\n",
       "        [0.65012343, 0.6019357 , 0.39118852],\n",
       "        ...,\n",
       "        [0.81727402, 0.00453467, 0.83404386],\n",
       "        [0.6005904 , 0.16936221, 0.0084381 ],\n",
       "        [0.21699624, 0.90852412, 0.4729595 ]],\n",
       "\n",
       "       ...,\n",
       "\n",
       "       [[0.60898628, 0.73499962, 0.01896583],\n",
       "        [0.51634765, 0.369325  , 0.10238313],\n",
       "        [0.49710916, 0.7362308 , 0.53748642],\n",
       "        ...,\n",
       "        [0.00727692, 0.87123129, 0.31201096],\n",
       "        [0.03426155, 0.03960213, 0.98140123],\n",
       "        [0.31897132, 0.59860106, 0.2511034 ]],\n",
       "\n",
       "       [[0.97230562, 0.18816434, 0.26076393],\n",
       "        [0.33838696, 0.7048874 , 0.51808867],\n",
       "        [0.04522777, 0.1099323 , 0.58042829],\n",
       "        ...,\n",
       "        [0.22345313, 0.24734227, 0.70094025],\n",
       "        [0.44971244, 0.90121585, 0.60040589],\n",
       "        [0.91135516, 0.76630943, 0.04254835]],\n",
       "\n",
       "       [[0.00621233, 0.01002804, 0.94191629],\n",
       "        [0.19601458, 0.72373376, 0.82459199],\n",
       "        [0.06899536, 0.21281763, 0.10277807],\n",
       "        ...,\n",
       "        [0.36903044, 0.4036058 , 0.37601139],\n",
       "        [0.82692151, 0.2243178 , 0.94358958],\n",
       "        [0.31200637, 0.43357968, 0.17001753]]])"
      ]
     },
     "execution_count": 25,
     "metadata": {},
     "output_type": "execute_result"
    }
   ],
   "source": [
    "np.random.sample((48, 64, 3))"
   ]
  },
  {
   "cell_type": "markdown",
   "id": "6da644f0",
   "metadata": {},
   "source": [
    "**numpy.random.randn** - случайные числа с нормальным распределением\n",
    "\n",
    "(среднее значение = 0, среднеквадратичное отклонение = 1)"
   ]
  },
  {
   "cell_type": "code",
   "execution_count": 26,
   "id": "2c4d5c7e",
   "metadata": {},
   "outputs": [
    {
     "data": {
      "text/plain": [
       "array([-0.29108282, -0.12649215,  0.63755422, -1.24764351,  0.55657303,\n",
       "       -1.25448908,  0.20435146, -0.10347976,  0.79112728,  1.59873233])"
      ]
     },
     "execution_count": 26,
     "metadata": {},
     "output_type": "execute_result"
    }
   ],
   "source": [
    "np.random.randn(10) # масил с 1 строкой 10 элементов"
   ]
  },
  {
   "cell_type": "code",
   "execution_count": 28,
   "id": "3660ae42",
   "metadata": {},
   "outputs": [
    {
     "data": {
      "text/plain": [
       "array([[ 1.0328306 , -0.68887907,  1.29274822, -0.45669415],\n",
       "       [-0.39627341, -0.03679812,  0.88805532,  1.77218271],\n",
       "       [-1.10332746, -2.29484194,  0.80736069,  0.12467311]])"
      ]
     },
     "execution_count": 28,
     "metadata": {},
     "output_type": "execute_result"
    }
   ],
   "source": [
    "np.random.randn(3, 4) # масил с 3 строками и 4 столбцами"
   ]
  },
  {
   "cell_type": "markdown",
   "id": "40e2c245",
   "metadata": {},
   "source": [
    "**numpy.random.randint** - массив из целых чисел.\n",
    "\n",
    "Например, одномерный массив из 10 случайных целых чисел в промежутке [0, 100]"
   ]
  },
  {
   "cell_type": "code",
   "execution_count": 31,
   "id": "3ae79535",
   "metadata": {},
   "outputs": [
    {
     "data": {
      "text/plain": [
       "array([58, 63, 19, 61, 44, 82, 82, 78, 89, 17])"
      ]
     },
     "execution_count": 31,
     "metadata": {},
     "output_type": "execute_result"
    }
   ],
   "source": [
    "np.random.randint(0, 100, 10)"
   ]
  },
  {
   "cell_type": "markdown",
   "id": "e5cf7aa1",
   "metadata": {},
   "source": [
    "Двумерный массив 3x4 из случайных целых чисел в промежутке (0, 10):"
   ]
  },
  {
   "cell_type": "code",
   "execution_count": 32,
   "id": "1b15aa07",
   "metadata": {},
   "outputs": [
    {
     "data": {
      "text/plain": [
       "array([[2, 1, 0, 2],\n",
       "       [0, 0, 6, 2],\n",
       "       [6, 7, 6, 4]])"
      ]
     },
     "execution_count": 32,
     "metadata": {},
     "output_type": "execute_result"
    }
   ],
   "source": [
    "np.random.randint(0, 10, (3, 4))"
   ]
  },
  {
   "cell_type": "markdown",
   "id": "f3ed3b82",
   "metadata": {},
   "source": [
    "**numpy.random.choice** - случайный выбор элементов из массива"
   ]
  },
  {
   "cell_type": "code",
   "execution_count": 33,
   "id": "a95f4816",
   "metadata": {},
   "outputs": [],
   "source": [
    "b = np.array([1,5,2,7,3,8,6,4])"
   ]
  },
  {
   "cell_type": "code",
   "execution_count": 34,
   "id": "a37c2637",
   "metadata": {},
   "outputs": [
    {
     "data": {
      "text/plain": [
       "1"
      ]
     },
     "execution_count": 34,
     "metadata": {},
     "output_type": "execute_result"
    }
   ],
   "source": [
    "np.random.choice(b) # случайное число из массива"
   ]
  },
  {
   "cell_type": "code",
   "execution_count": 36,
   "id": "3741894d",
   "metadata": {},
   "outputs": [
    {
     "data": {
      "text/plain": [
       "array([1, 7, 8])"
      ]
     },
     "execution_count": 36,
     "metadata": {},
     "output_type": "execute_result"
    }
   ],
   "source": [
    "np.random.choice(b, 3) # 3 случайных чисел из массива b"
   ]
  },
  {
   "cell_type": "markdown",
   "id": "035815fd",
   "metadata": {},
   "source": [
    "**numpy.random.seed** - инициализация генератора случайных чисел.\n",
    "\n",
    "Может использоваться для последующей воспроизводимости (будут генерироваться те же числа, если установить одинаковый seed)"
   ]
  },
  {
   "cell_type": "code",
   "execution_count": 37,
   "id": "43efaac0",
   "metadata": {},
   "outputs": [],
   "source": [
    "np.random.seed(42)"
   ]
  },
  {
   "cell_type": "code",
   "execution_count": 38,
   "id": "46fd38ee",
   "metadata": {},
   "outputs": [
    {
     "data": {
      "text/plain": [
       "array([6, 3, 7])"
      ]
     },
     "execution_count": 38,
     "metadata": {},
     "output_type": "execute_result"
    }
   ],
   "source": [
    "np.random.randint(0,10,3)"
   ]
  },
  {
   "cell_type": "markdown",
   "id": "b97e8303",
   "metadata": {},
   "source": [
    "### Изменение формы массива"
   ]
  },
  {
   "cell_type": "code",
   "execution_count": 40,
   "id": "55cf5931",
   "metadata": {},
   "outputs": [
    {
     "data": {
      "text/plain": [
       "array([ 0,  1,  2,  3,  4,  5,  6,  7,  8,  9, 10, 11])"
      ]
     },
     "execution_count": 40,
     "metadata": {},
     "output_type": "execute_result"
    }
   ],
   "source": [
    "a = np.arange(12)\n",
    "a"
   ]
  },
  {
   "cell_type": "code",
   "execution_count": 41,
   "id": "9270cd4e",
   "metadata": {},
   "outputs": [
    {
     "data": {
      "text/plain": [
       "array([[ 0,  1,  2,  3],\n",
       "       [ 4,  5,  6,  7],\n",
       "       [ 8,  9, 10, 11]])"
      ]
     },
     "execution_count": 41,
     "metadata": {},
     "output_type": "execute_result"
    }
   ],
   "source": [
    "a.reshape(3, 4) # изменить на двумерный массив"
   ]
  },
  {
   "cell_type": "code",
   "execution_count": 42,
   "id": "1ead10ca",
   "metadata": {},
   "outputs": [
    {
     "data": {
      "text/plain": [
       "array([ 0,  1,  2,  3,  4,  5,  6,  7,  8,  9, 10, 11])"
      ]
     },
     "execution_count": 42,
     "metadata": {},
     "output_type": "execute_result"
    }
   ],
   "source": [
    "a"
   ]
  },
  {
   "cell_type": "code",
   "execution_count": 45,
   "id": "e7b1f1fa",
   "metadata": {},
   "outputs": [
    {
     "data": {
      "text/plain": [
       "array([[ 0,  1,  2,  3],\n",
       "       [ 4,  5,  6,  7],\n",
       "       [ 8,  9, 10, 11]])"
      ]
     },
     "execution_count": 45,
     "metadata": {},
     "output_type": "execute_result"
    }
   ],
   "source": [
    "# Можно указать требуемое число строк, а вместо числа столбцов поставить -1\n",
    "np.reshape(a, (3, -1))"
   ]
  },
  {
   "cell_type": "code",
   "execution_count": 46,
   "id": "15b14fca",
   "metadata": {},
   "outputs": [
    {
     "data": {
      "text/plain": [
       "array([[ 0,  1,  2,  3],\n",
       "       [ 4,  5,  6,  7],\n",
       "       [ 8,  9, 10, 11]])"
      ]
     },
     "execution_count": 46,
     "metadata": {},
     "output_type": "execute_result"
    }
   ],
   "source": [
    "# Указано только число столбцов\n",
    "np.reshape(a, (-1, 4))"
   ]
  },
  {
   "cell_type": "code",
   "execution_count": 47,
   "id": "7130f28f",
   "metadata": {},
   "outputs": [
    {
     "data": {
      "text/plain": [
       "array([ 0,  1,  2,  3,  4,  5,  6,  7,  8,  9, 10, 11])"
      ]
     },
     "execution_count": 47,
     "metadata": {},
     "output_type": "execute_result"
    }
   ],
   "source": [
    "a"
   ]
  },
  {
   "cell_type": "code",
   "execution_count": 48,
   "id": "5c12221b",
   "metadata": {},
   "outputs": [],
   "source": [
    "# inplace заменить форму массива на двучерный массив\n",
    "a.resize(3, 4)"
   ]
  },
  {
   "cell_type": "code",
   "execution_count": 49,
   "id": "a2e34d99",
   "metadata": {},
   "outputs": [
    {
     "data": {
      "text/plain": [
       "array([[ 0,  1,  2,  3],\n",
       "       [ 4,  5,  6,  7],\n",
       "       [ 8,  9, 10, 11]])"
      ]
     },
     "execution_count": 49,
     "metadata": {},
     "output_type": "execute_result"
    }
   ],
   "source": [
    "a"
   ]
  },
  {
   "cell_type": "code",
   "execution_count": 50,
   "id": "8a6b4967",
   "metadata": {},
   "outputs": [
    {
     "data": {
      "text/plain": [
       "array([ 0,  1,  2,  3,  4,  5,  6,  7,  8,  9, 10, 11])"
      ]
     },
     "execution_count": 50,
     "metadata": {},
     "output_type": "execute_result"
    }
   ],
   "source": [
    "# из многомерного массива получить простой массив\n",
    "a = a.flatten()\n",
    "a"
   ]
  },
  {
   "cell_type": "markdown",
   "id": "b25a8315",
   "metadata": {},
   "source": [
    "### Соединение массивов\n",
    "\n",
    "Для наглядности возбмем два массива - с нулями и единицами:"
   ]
  },
  {
   "cell_type": "code",
   "execution_count": 51,
   "id": "8db478c2",
   "metadata": {},
   "outputs": [
    {
     "data": {
      "text/plain": [
       "array([[0., 0., 0.],\n",
       "       [0., 0., 0.]])"
      ]
     },
     "execution_count": 51,
     "metadata": {},
     "output_type": "execute_result"
    }
   ],
   "source": [
    "a = np.zeros((2,3))\n",
    "a"
   ]
  },
  {
   "cell_type": "code",
   "execution_count": 52,
   "id": "e45f2c84",
   "metadata": {},
   "outputs": [
    {
     "data": {
      "text/plain": [
       "array([[1., 1., 1.],\n",
       "       [1., 1., 1.]])"
      ]
     },
     "execution_count": 52,
     "metadata": {},
     "output_type": "execute_result"
    }
   ],
   "source": [
    "b = np.ones((2,3))\n",
    "b"
   ]
  },
  {
   "cell_type": "markdown",
   "id": "6cd01cda",
   "metadata": {},
   "source": [
    "Соединение строк (вертикально)"
   ]
  },
  {
   "cell_type": "code",
   "execution_count": 53,
   "id": "d235d126",
   "metadata": {},
   "outputs": [
    {
     "data": {
      "text/plain": [
       "array([[0., 0., 0.],\n",
       "       [0., 0., 0.],\n",
       "       [1., 1., 1.],\n",
       "       [1., 1., 1.]])"
      ]
     },
     "execution_count": 53,
     "metadata": {},
     "output_type": "execute_result"
    }
   ],
   "source": [
    "v = np.vstack((a,b))\n",
    "v"
   ]
  },
  {
   "cell_type": "code",
   "execution_count": 54,
   "id": "240006c5",
   "metadata": {},
   "outputs": [
    {
     "data": {
      "text/plain": [
       "((2, 3), (2, 3), (4, 3))"
      ]
     },
     "execution_count": 54,
     "metadata": {},
     "output_type": "execute_result"
    }
   ],
   "source": [
    "a.shape, b.shape, v.shape"
   ]
  },
  {
   "cell_type": "code",
   "execution_count": 55,
   "id": "e06d560e",
   "metadata": {},
   "outputs": [
    {
     "data": {
      "text/plain": [
       "array([[0., 0., 0.],\n",
       "       [0., 0., 0.],\n",
       "       [1., 1., 1.],\n",
       "       [1., 1., 1.]])"
      ]
     },
     "execution_count": 55,
     "metadata": {},
     "output_type": "execute_result"
    }
   ],
   "source": [
    "np.concatenate((a,b), axis = 0)"
   ]
  },
  {
   "cell_type": "markdown",
   "id": "5d4b9cfb",
   "metadata": {},
   "source": [
    "Соединение столбоц (в горизонтальном измерении)"
   ]
  },
  {
   "cell_type": "code",
   "execution_count": 56,
   "id": "eabc26d3",
   "metadata": {},
   "outputs": [
    {
     "data": {
      "text/plain": [
       "array([[0., 0., 0., 1., 1., 1.],\n",
       "       [0., 0., 0., 1., 1., 1.]])"
      ]
     },
     "execution_count": 56,
     "metadata": {},
     "output_type": "execute_result"
    }
   ],
   "source": [
    "h = np.hstack((a,b))\n",
    "h"
   ]
  },
  {
   "cell_type": "code",
   "execution_count": 57,
   "id": "f61f7377",
   "metadata": {},
   "outputs": [
    {
     "data": {
      "text/plain": [
       "((2, 3), (2, 3), (2, 6))"
      ]
     },
     "execution_count": 57,
     "metadata": {},
     "output_type": "execute_result"
    }
   ],
   "source": [
    "a.shape, b.shape, h.shape"
   ]
  },
  {
   "cell_type": "code",
   "execution_count": 58,
   "id": "12d8d638",
   "metadata": {},
   "outputs": [
    {
     "data": {
      "text/plain": [
       "array([[0., 0., 0., 1., 1., 1.],\n",
       "       [0., 0., 0., 1., 1., 1.]])"
      ]
     },
     "execution_count": 58,
     "metadata": {},
     "output_type": "execute_result"
    }
   ],
   "source": [
    "np.concatenate((a,b), axis = 1)"
   ]
  },
  {
   "cell_type": "markdown",
   "id": "16d65e46",
   "metadata": {},
   "source": [
    "Соединение в глубину (в третьем измерении)"
   ]
  },
  {
   "cell_type": "code",
   "execution_count": 59,
   "id": "4e33ee96",
   "metadata": {},
   "outputs": [
    {
     "data": {
      "text/plain": [
       "array([[[0., 1.],\n",
       "        [0., 1.],\n",
       "        [0., 1.]],\n",
       "\n",
       "       [[0., 1.],\n",
       "        [0., 1.],\n",
       "        [0., 1.]]])"
      ]
     },
     "execution_count": 59,
     "metadata": {},
     "output_type": "execute_result"
    }
   ],
   "source": [
    "d = np.dstack([a,b])\n",
    "d"
   ]
  },
  {
   "cell_type": "code",
   "execution_count": null,
   "id": "00e42380",
   "metadata": {},
   "outputs": [],
   "source": []
  }
 ],
 "metadata": {
  "kernelspec": {
   "display_name": "Python 3 (ipykernel)",
   "language": "python",
   "name": "python3"
  },
  "language_info": {
   "codemirror_mode": {
    "name": "ipython",
    "version": 3
   },
   "file_extension": ".py",
   "mimetype": "text/x-python",
   "name": "python",
   "nbconvert_exporter": "python",
   "pygments_lexer": "ipython3",
   "version": "3.9.7"
  }
 },
 "nbformat": 4,
 "nbformat_minor": 5
}
