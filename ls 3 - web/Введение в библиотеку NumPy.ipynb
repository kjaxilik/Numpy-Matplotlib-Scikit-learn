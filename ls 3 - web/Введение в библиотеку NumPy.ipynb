{
  "nbformat": 4,
  "nbformat_minor": 0,
  "metadata": {
    "colab": {
      "name": "4. numpy.ipynb",
      "provenance": [],
      "collapsed_sections": [],
      "toc_visible": true
    },
    "kernelspec": {
      "display_name": "Python 3",
      "language": "python",
      "name": "python3"
    },
    "language_info": {
      "codemirror_mode": {
        "name": "ipython",
        "version": 3
      },
      "file_extension": ".py",
      "mimetype": "text/x-python",
      "name": "python",
      "nbconvert_exporter": "python",
      "pygments_lexer": "ipython3",
      "version": "3.6.8"
    }
  },
  "cells": [
    {
      "cell_type": "markdown",
      "metadata": {
        "id": "qk9wLyZFXuaD"
      },
      "source": [
        "### NumPy (Numerical Python)"
      ]
    },
    {
      "cell_type": "markdown",
      "source": [
        "http://www.numpy.org/\n",
        "\n",
        "Quickstart tutorial https://docs.scipy.org/doc/numpy/user/quickstart.html"
      ],
      "metadata": {
        "id": "hqgnnlxFgPiV"
      }
    },
    {
      "cell_type": "markdown",
      "source": [
        "<img src='https://drive.google.com/uc?id=1_UPhD0m3AbkSKA6oy7oNqBfyJcar4lOC'>"
      ],
      "metadata": {
        "id": "-rxIR0q_Izxf"
      }
    },
    {
      "cell_type": "markdown",
      "source": [
        "## План занятия:\n",
        "- Что такое numpy и как его установить?\n",
        "- Введение в numpy\n",
        "- Индексирование\n",
        "- Основные математические функции\n",
        "- Изменение размера массива\n",
        "- Присоединение массивов\n",
        "- Булевые маски\n",
        "- Итоги"
      ],
      "metadata": {
        "id": "SvOVv715Rh0X"
      }
    },
    {
      "cell_type": "markdown",
      "source": [
        "## Что такое numpy и как его установить?"
      ],
      "metadata": {
        "id": "8Fqf-reMUXwF"
      }
    },
    {
      "cell_type": "markdown",
      "source": [
        "NumPy - пакет для вычисления на Python, который предоставляет для работы многомерные массивы, векторы, матрицы, быстрые математические вычисления, изменения размерностей, сортировки, фильтрации, линейная алгебра, статистика и многое другое.\n",
        "\n",
        "\n"
      ],
      "metadata": {
        "id": "MYWN9we_V25Q"
      }
    },
    {
      "cell_type": "markdown",
      "source": [
        "Чтобы установить себе numpy нужно выполнить команду в консоли\n",
        "\n",
        "\n",
        "```\n",
        "!pip install numpy\n",
        "```\n",
        "\n",
        "Но в google colab пакет numpy и так уже есть, так что следующую ячейку можно было бы и не запускать."
      ],
      "metadata": {
        "id": "6y0ModBxV3w7"
      }
    },
    {
      "cell_type": "code",
      "source": [
        "!pip install numpy"
      ],
      "metadata": {
        "colab": {
          "base_uri": "https://localhost:8080/"
        },
        "id": "89FwaDrgWFIo",
        "outputId": "50348703-2ce9-4dde-c7b8-bb5a1cdda53d"
      },
      "execution_count": null,
      "outputs": [
        {
          "output_type": "stream",
          "name": "stdout",
          "text": [
            "Requirement already satisfied: numpy in /usr/local/lib/python3.7/dist-packages (1.21.5)\n"
          ]
        }
      ]
    },
    {
      "cell_type": "markdown",
      "source": [
        "Чтобы получить доступ ко всем интересным вещам в numpy, для начала нужно его импортировать себе в ноутбук.\n",
        "\n",
        "Импортируем numpy и даем ему псевдоним `np`, чтобы при обращении не писать всё название библиотеки."
      ],
      "metadata": {
        "id": "eQVXDpeOxX-M"
      }
    },
    {
      "cell_type": "code",
      "source": [
        "import numpy as np"
      ],
      "metadata": {
        "id": "sb_SPFZExZgh"
      },
      "execution_count": null,
      "outputs": []
    },
    {
      "cell_type": "markdown",
      "source": [
        "Основной объект, который присутствует в NumPy - это ndarray object."
      ],
      "metadata": {
        "id": "wcrACnPAWJil"
      }
    },
    {
      "cell_type": "code",
      "source": [
        "a = np.array([1, 2, 3])\n",
        "type(a)"
      ],
      "metadata": {
        "colab": {
          "base_uri": "https://localhost:8080/"
        },
        "id": "eeuT9tgoWKW9",
        "outputId": "6b2f19bc-75b4-4e20-91c5-d909e4823d0e"
      },
      "execution_count": null,
      "outputs": [
        {
          "output_type": "execute_result",
          "data": {
            "text/plain": [
              "numpy.ndarray"
            ]
          },
          "metadata": {},
          "execution_count": 3
        }
      ]
    },
    {
      "cell_type": "markdown",
      "source": [
        "\n",
        "Много научных и математических пакетов Python пользуются NumPy массивами, а не Python списками. А всё из-за скорости вычислений. \n",
        "\n",
        "Можем посмотреть на небольшой пример, демонстрирующий отличия в скорости работы.\n",
        "\n",
        "Перемножим два вектора друг на друга.\n"
      ],
      "metadata": {
        "id": "5_BlvvE1Ul-F"
      }
    },
    {
      "cell_type": "code",
      "source": [
        "a = range(0, 100_000_000)\n",
        "b = range(0, 100_000_000)"
      ],
      "metadata": {
        "id": "nCQpmipQYYO7"
      },
      "execution_count": null,
      "outputs": []
    },
    {
      "cell_type": "markdown",
      "source": [
        "Сначала через чистый Python."
      ],
      "metadata": {
        "id": "m1ggmw4DYny1"
      }
    },
    {
      "cell_type": "code",
      "source": [
        "%%time\n",
        "\n",
        "for i in range(len(a)):\n",
        "    a[i] * b[i]"
      ],
      "metadata": {
        "colab": {
          "base_uri": "https://localhost:8080/"
        },
        "id": "J3EinG51X8SM",
        "outputId": "0a5c8a76-6e94-4f4b-b45b-8d138d420c33"
      },
      "execution_count": null,
      "outputs": [
        {
          "output_type": "stream",
          "name": "stdout",
          "text": [
            "CPU times: user 36.4 s, sys: 0 ns, total: 36.4 s\n",
            "Wall time: 36.4 s\n"
          ]
        }
      ]
    },
    {
      "cell_type": "markdown",
      "source": [
        "А сейчас с помощью numpy"
      ],
      "metadata": {
        "id": "Ti9lw4e5YowO"
      }
    },
    {
      "cell_type": "code",
      "source": [
        "%%time\n",
        "a_np = np.array(a)\n",
        "b_np = np.array(b)\n",
        "\n",
        "a_np * b_np"
      ],
      "metadata": {
        "colab": {
          "base_uri": "https://localhost:8080/"
        },
        "id": "AXBbC6KlYNnA",
        "outputId": "30d738fd-1ea4-4d51-9d93-623ad7616525"
      },
      "execution_count": null,
      "outputs": [
        {
          "output_type": "stream",
          "name": "stdout",
          "text": [
            "CPU times: user 18.1 s, sys: 5.57 s, total: 23.7 s\n",
            "Wall time: 23.6 s\n"
          ]
        }
      ]
    },
    {
      "cell_type": "markdown",
      "source": [
        "- Во-первых видим, что строк кода меньше при использовании numpy перемножения.\n",
        "- Во-вторых скорость работы тоже отличается\n",
        "\n",
        "numpy в двух моментах побеждает Python списки."
      ],
      "metadata": {
        "id": "HCJ0zycIYrDW"
      }
    },
    {
      "cell_type": "markdown",
      "source": [
        "### Почему он быстрый?\n",
        "\n",
        "Numpy array - это векторизированные объекты, для которых не нужны Python циклы. В коде - эти вещи происходят “за кулисами” в оптимизированном, предварительно скомпилированном коде C."
      ],
      "metadata": {
        "id": "L7KnJhC2YMgj"
      }
    },
    {
      "cell_type": "markdown",
      "source": [
        "## Введение в numpy"
      ],
      "metadata": {
        "id": "60Suc7vFUaOj"
      }
    },
    {
      "cell_type": "markdown",
      "source": [
        "Теперь надеюсь не сомневаетесь в том, что numpy - отличная библиотека и нужно ей пользоваться.\n",
        "\n",
        "Давайте посмотрим на несколько объектов, которыми можно оперировать в numpy."
      ],
      "metadata": {
        "id": "vyXhFNsPaO-J"
      }
    },
    {
      "cell_type": "markdown",
      "source": [
        "### Объекты в numpy"
      ],
      "metadata": {
        "id": "kLIHxE-T2mII"
      }
    },
    {
      "cell_type": "markdown",
      "source": [
        "Для начала это хранение одномерных данных - векторы, обычные Python списки, которые уже наблюдали выше."
      ],
      "metadata": {
        "id": "qxU4fSleaX3h"
      }
    },
    {
      "cell_type": "code",
      "source": [
        "vector_age = np.array([20, 45, 3, 71, 36])\n",
        "vector_age"
      ],
      "metadata": {
        "colab": {
          "base_uri": "https://localhost:8080/"
        },
        "id": "e-WDviJEaN2r",
        "outputId": "3d8a3987-4d9e-48de-b62d-e03f6d438593"
      },
      "execution_count": null,
      "outputs": [
        {
          "output_type": "execute_result",
          "data": {
            "text/plain": [
              "array([20, 45,  3, 71, 36])"
            ]
          },
          "metadata": {},
          "execution_count": 7
        }
      ]
    },
    {
      "cell_type": "markdown",
      "source": [
        "Так же мы можем хранить двумерные данные в Numpy массивах - это таблицы.\n",
        "\n",
        "<table>\n",
        "<tr>\n",
        "<td>Height</td><td>  Age </td>\n",
        "</tr>\n",
        "\n",
        "<tr><td>183</td><td>20</td>\n",
        "</tr>\n",
        "\n",
        "<tr><td>164</td><td>45</td>\n",
        "</tr>\n",
        "\n",
        "<tr>\n",
        "<td>95</td><td>3</td>\n",
        "</tr>\n",
        "\n",
        "<tr>\n",
        "<td>158</td><td>71</td>\n",
        "</tr>\n",
        "\n",
        "<tr>\n",
        "<td>190</td><td>36</td>\n",
        "</tr>\n",
        "</table>"
      ],
      "metadata": {
        "id": "TOkQlb0Ua5Me"
      }
    },
    {
      "cell_type": "code",
      "source": [
        "matrix_table = np.array([\n",
        "    [183, 164, 95, 158, 190],\n",
        "    vector_age\n",
        "])\n",
        "\n",
        "matrix_table"
      ],
      "metadata": {
        "colab": {
          "base_uri": "https://localhost:8080/"
        },
        "id": "wFna09MBa_zq",
        "outputId": "a4f402be-75ac-47f2-e966-49f028727356"
      },
      "execution_count": null,
      "outputs": [
        {
          "output_type": "execute_result",
          "data": {
            "text/plain": [
              "array([[183, 164,  95, 158, 190],\n",
              "       [ 20,  45,   3,  71,  36]])"
            ]
          },
          "metadata": {},
          "execution_count": 8
        }
      ]
    },
    {
      "cell_type": "markdown",
      "source": [
        "К трехмерным объектам можем отнести изображения, ведь в них есть три измерения: высота, ширина и глубина (количество каналов, мы привыкли к RGB).\n",
        "\n",
        "Скачаем себе тестовую картинку."
      ],
      "metadata": {
        "id": "nKfvCw2gx6n6"
      }
    },
    {
      "cell_type": "code",
      "source": [
        "!wget 'https://drive.google.com/uc?id=14d4PWnRDoHw83zk8JKhHl7iZJjuxAng1' -O test_img.png"
      ],
      "metadata": {
        "colab": {
          "base_uri": "https://localhost:8080/"
        },
        "id": "fpr1p6NNvRyb",
        "outputId": "e922f85b-c0cd-4f29-d488-d18f126eb5ce"
      },
      "execution_count": null,
      "outputs": [
        {
          "output_type": "stream",
          "name": "stdout",
          "text": [
            "--2022-03-30 11:19:24--  https://drive.google.com/uc?id=14d4PWnRDoHw83zk8JKhHl7iZJjuxAng1\n",
            "Resolving drive.google.com (drive.google.com)... 74.125.195.113, 74.125.195.138, 74.125.195.102, ...\n",
            "Connecting to drive.google.com (drive.google.com)|74.125.195.113|:443... connected.\n",
            "HTTP request sent, awaiting response... 303 See Other\n",
            "Location: https://doc-00-c0-docs.googleusercontent.com/docs/securesc/ha0ro937gcuc7l7deffksulhg5h7mbp1/7tgvv7sa924dkvn1g9b2qhmv55iba2ru/1648639125000/14904333240138417226/*/14d4PWnRDoHw83zk8JKhHl7iZJjuxAng1 [following]\n",
            "Warning: wildcards not supported in HTTP.\n",
            "--2022-03-30 11:19:24--  https://doc-00-c0-docs.googleusercontent.com/docs/securesc/ha0ro937gcuc7l7deffksulhg5h7mbp1/7tgvv7sa924dkvn1g9b2qhmv55iba2ru/1648639125000/14904333240138417226/*/14d4PWnRDoHw83zk8JKhHl7iZJjuxAng1\n",
            "Resolving doc-00-c0-docs.googleusercontent.com (doc-00-c0-docs.googleusercontent.com)... 74.125.195.132, 2607:f8b0:400e:c09::84\n",
            "Connecting to doc-00-c0-docs.googleusercontent.com (doc-00-c0-docs.googleusercontent.com)|74.125.195.132|:443... connected.\n",
            "HTTP request sent, awaiting response... 200 OK\n",
            "Length: 31565 (31K) [image/png]\n",
            "Saving to: ‘test_img.png’\n",
            "\n",
            "test_img.png        100%[===================>]  30.83K  --.-KB/s    in 0s      \n",
            "\n",
            "2022-03-30 11:19:24 (77.0 MB/s) - ‘test_img.png’ saved [31565/31565]\n",
            "\n"
          ]
        }
      ]
    },
    {
      "cell_type": "markdown",
      "source": [
        "И считаем её с помощью библиотеки opencv, плотно работать с ней пока не будем, воспользуемся ей только для наглядности примера."
      ],
      "metadata": {
        "id": "TTumpjQCyJID"
      }
    },
    {
      "cell_type": "code",
      "source": [
        "import cv2\n",
        "\n",
        "img = cv2.imread('/content/test_img.png')\n",
        "\n",
        "print(type(img))\n",
        "img"
      ],
      "metadata": {
        "colab": {
          "base_uri": "https://localhost:8080/"
        },
        "id": "Z8S5IrPNxi5C",
        "outputId": "d6db8284-d67f-4803-c96d-8eba9a294ee2"
      },
      "execution_count": null,
      "outputs": [
        {
          "output_type": "stream",
          "name": "stdout",
          "text": [
            "<class 'numpy.ndarray'>\n"
          ]
        },
        {
          "output_type": "execute_result",
          "data": {
            "text/plain": [
              "array([[[220, 225, 251],\n",
              "        [221, 225, 251],\n",
              "        [222, 226, 252],\n",
              "        ...,\n",
              "        [211, 218, 251],\n",
              "        [211, 218, 251],\n",
              "        [211, 219, 251]],\n",
              "\n",
              "       [[219, 230, 249],\n",
              "        [220, 231, 249],\n",
              "        [222, 232, 250],\n",
              "        ...,\n",
              "        [219, 232, 252],\n",
              "        [219, 232, 252],\n",
              "        [218, 232, 252]],\n",
              "\n",
              "       [[220, 234, 245],\n",
              "        [219, 233, 245],\n",
              "        [219, 233, 245],\n",
              "        ...,\n",
              "        [208, 229, 248],\n",
              "        [210, 230, 249],\n",
              "        [211, 231, 249]],\n",
              "\n",
              "       ...,\n",
              "\n",
              "       [[143, 143, 250],\n",
              "        [136, 136, 249],\n",
              "        [131, 128, 248],\n",
              "        ...,\n",
              "        [208, 225, 233],\n",
              "        [199, 217, 230],\n",
              "        [197, 216, 229]],\n",
              "\n",
              "       [[149, 150, 251],\n",
              "        [146, 146, 250],\n",
              "        [145, 142, 250],\n",
              "        ...,\n",
              "        [208, 225, 233],\n",
              "        [198, 215, 228],\n",
              "        [195, 212, 224]],\n",
              "\n",
              "       [[144, 148, 250],\n",
              "        [143, 144, 250],\n",
              "        [140, 137, 249],\n",
              "        ...,\n",
              "        [213, 228, 233],\n",
              "        [205, 220, 228],\n",
              "        [201, 214, 221]]], dtype=uint8)"
            ]
          },
          "metadata": {},
          "execution_count": 10
        }
      ]
    },
    {
      "cell_type": "markdown",
      "source": [
        "И в действительности видим, что изображение - это numpy массив, а ещё, что в этом массиве есть три размерности."
      ],
      "metadata": {
        "id": "_k50MWvJyUJA"
      }
    },
    {
      "cell_type": "markdown",
      "source": [
        "### Полезные атрибуты numpy array"
      ],
      "metadata": {
        "id": "SBLy5bhT2pts"
      }
    },
    {
      "cell_type": "markdown",
      "source": [
        "У каждого numpy массива есть следующие атрибуты:\n",
        "\n",
        "- ndarray.ndim - количество измерений (осей) массива.\n"
      ],
      "metadata": {
        "id": "wLeTWvGsz8Ys"
      }
    },
    {
      "cell_type": "code",
      "source": [
        "print(f'ndim of vector_age {vector_age.ndim}')\n",
        "print(f'ndim of matrix_table {matrix_table.ndim}')\n",
        "print(f'ndim of image {img.ndim}')"
      ],
      "metadata": {
        "colab": {
          "base_uri": "https://localhost:8080/"
        },
        "id": "jGuybfCV01pG",
        "outputId": "541b0a1e-62f7-4eb5-9ce5-e5405313f30c"
      },
      "execution_count": null,
      "outputs": [
        {
          "output_type": "stream",
          "name": "stdout",
          "text": [
            "ndim of vector_age 1\n",
            "ndim of matrix_table 2\n",
            "ndim of image 3\n"
          ]
        }
      ]
    },
    {
      "cell_type": "markdown",
      "source": [
        "\n",
        "- ndarray.shape - размерность массива. Это кортеж целых чисел, который описывает размер каждого измерения (каждой оси).\n"
      ],
      "metadata": {
        "id": "DMvmOqN402MM"
      }
    },
    {
      "cell_type": "code",
      "source": [
        "print(vector_age)\n",
        "vector_age.shape"
      ],
      "metadata": {
        "colab": {
          "base_uri": "https://localhost:8080/"
        },
        "id": "1c_jujAS03CX",
        "outputId": "d5a9c967-0c01-4344-f51e-f33107a42e71"
      },
      "execution_count": null,
      "outputs": [
        {
          "output_type": "stream",
          "name": "stdout",
          "text": [
            "[20 45  3 71 36]\n"
          ]
        },
        {
          "output_type": "execute_result",
          "data": {
            "text/plain": [
              "(5,)"
            ]
          },
          "metadata": {},
          "execution_count": 12
        }
      ]
    },
    {
      "cell_type": "code",
      "source": [
        "print(matrix_table)\n",
        "matrix_table.shape"
      ],
      "metadata": {
        "colab": {
          "base_uri": "https://localhost:8080/"
        },
        "id": "vo0-2rl51ajR",
        "outputId": "27da12fc-5848-4b97-83b0-e3d1636f674c"
      },
      "execution_count": null,
      "outputs": [
        {
          "output_type": "stream",
          "name": "stdout",
          "text": [
            "[[183 164  95 158 190]\n",
            " [ 20  45   3  71  36]]\n"
          ]
        },
        {
          "output_type": "execute_result",
          "data": {
            "text/plain": [
              "(2, 5)"
            ]
          },
          "metadata": {},
          "execution_count": 13
        }
      ]
    },
    {
      "cell_type": "code",
      "source": [
        "print(img)\n",
        "print(img.shape)"
      ],
      "metadata": {
        "colab": {
          "base_uri": "https://localhost:8080/"
        },
        "id": "iO6aXPMS1lXc",
        "outputId": "5b73aaf9-b4ab-44ec-c5c7-4900eb5552dd"
      },
      "execution_count": null,
      "outputs": [
        {
          "output_type": "stream",
          "name": "stdout",
          "text": [
            "[[[220 225 251]\n",
            "  [221 225 251]\n",
            "  [222 226 252]\n",
            "  ...\n",
            "  [211 218 251]\n",
            "  [211 218 251]\n",
            "  [211 219 251]]\n",
            "\n",
            " [[219 230 249]\n",
            "  [220 231 249]\n",
            "  [222 232 250]\n",
            "  ...\n",
            "  [219 232 252]\n",
            "  [219 232 252]\n",
            "  [218 232 252]]\n",
            "\n",
            " [[220 234 245]\n",
            "  [219 233 245]\n",
            "  [219 233 245]\n",
            "  ...\n",
            "  [208 229 248]\n",
            "  [210 230 249]\n",
            "  [211 231 249]]\n",
            "\n",
            " ...\n",
            "\n",
            " [[143 143 250]\n",
            "  [136 136 249]\n",
            "  [131 128 248]\n",
            "  ...\n",
            "  [208 225 233]\n",
            "  [199 217 230]\n",
            "  [197 216 229]]\n",
            "\n",
            " [[149 150 251]\n",
            "  [146 146 250]\n",
            "  [145 142 250]\n",
            "  ...\n",
            "  [208 225 233]\n",
            "  [198 215 228]\n",
            "  [195 212 224]]\n",
            "\n",
            " [[144 148 250]\n",
            "  [143 144 250]\n",
            "  [140 137 249]\n",
            "  ...\n",
            "  [213 228 233]\n",
            "  [205 220 228]\n",
            "  [201 214 221]]]\n",
            "(141, 113, 3)\n"
          ]
        }
      ]
    },
    {
      "cell_type": "markdown",
      "source": [
        "\n",
        "- ndarray.size - общее количество элементов в массиве.\n"
      ],
      "metadata": {
        "id": "EJXvMD-903OT"
      }
    },
    {
      "cell_type": "code",
      "source": [
        "print(vector_age)\n",
        "vector_age.size"
      ],
      "metadata": {
        "colab": {
          "base_uri": "https://localhost:8080/"
        },
        "id": "mefjcKHd04CI",
        "outputId": "42e98bcf-57ef-4964-f20f-91df89df98e3"
      },
      "execution_count": null,
      "outputs": [
        {
          "output_type": "stream",
          "name": "stdout",
          "text": [
            "[20 45  3 71 36]\n"
          ]
        },
        {
          "output_type": "execute_result",
          "data": {
            "text/plain": [
              "5"
            ]
          },
          "metadata": {},
          "execution_count": 15
        }
      ]
    },
    {
      "cell_type": "code",
      "source": [
        "print(matrix_table)\n",
        "matrix_table.size"
      ],
      "metadata": {
        "colab": {
          "base_uri": "https://localhost:8080/"
        },
        "id": "Jz0ZQOMf2DfS",
        "outputId": "ffa8b544-5854-499f-d203-ab1d84329e19"
      },
      "execution_count": null,
      "outputs": [
        {
          "output_type": "stream",
          "name": "stdout",
          "text": [
            "[[183 164  95 158 190]\n",
            " [ 20  45   3  71  36]]\n"
          ]
        },
        {
          "output_type": "execute_result",
          "data": {
            "text/plain": [
              "10"
            ]
          },
          "metadata": {},
          "execution_count": 16
        }
      ]
    },
    {
      "cell_type": "code",
      "source": [
        "print(img)\n",
        "img.size"
      ],
      "metadata": {
        "colab": {
          "base_uri": "https://localhost:8080/"
        },
        "id": "ifPCtrm92Fg2",
        "outputId": "b287b7d2-fea7-4912-cbe9-f674f3f69fd5"
      },
      "execution_count": null,
      "outputs": [
        {
          "output_type": "stream",
          "name": "stdout",
          "text": [
            "[[[220 225 251]\n",
            "  [221 225 251]\n",
            "  [222 226 252]\n",
            "  ...\n",
            "  [211 218 251]\n",
            "  [211 218 251]\n",
            "  [211 219 251]]\n",
            "\n",
            " [[219 230 249]\n",
            "  [220 231 249]\n",
            "  [222 232 250]\n",
            "  ...\n",
            "  [219 232 252]\n",
            "  [219 232 252]\n",
            "  [218 232 252]]\n",
            "\n",
            " [[220 234 245]\n",
            "  [219 233 245]\n",
            "  [219 233 245]\n",
            "  ...\n",
            "  [208 229 248]\n",
            "  [210 230 249]\n",
            "  [211 231 249]]\n",
            "\n",
            " ...\n",
            "\n",
            " [[143 143 250]\n",
            "  [136 136 249]\n",
            "  [131 128 248]\n",
            "  ...\n",
            "  [208 225 233]\n",
            "  [199 217 230]\n",
            "  [197 216 229]]\n",
            "\n",
            " [[149 150 251]\n",
            "  [146 146 250]\n",
            "  [145 142 250]\n",
            "  ...\n",
            "  [208 225 233]\n",
            "  [198 215 228]\n",
            "  [195 212 224]]\n",
            "\n",
            " [[144 148 250]\n",
            "  [143 144 250]\n",
            "  [140 137 249]\n",
            "  ...\n",
            "  [213 228 233]\n",
            "  [205 220 228]\n",
            "  [201 214 221]]]\n"
          ]
        },
        {
          "output_type": "execute_result",
          "data": {
            "text/plain": [
              "47799"
            ]
          },
          "metadata": {},
          "execution_count": 17
        }
      ]
    },
    {
      "cell_type": "markdown",
      "source": [
        "\n",
        "- ndarray.dtype - описание типа данных элементов в массиве"
      ],
      "metadata": {
        "id": "b6fkVJfd04OI"
      }
    },
    {
      "cell_type": "code",
      "source": [
        "print(vector_age)\n",
        "vector_age.dtype"
      ],
      "metadata": {
        "colab": {
          "base_uri": "https://localhost:8080/"
        },
        "outputId": "6db9fd71-10f2-41c6-a895-a81a26a09792",
        "id": "37uFSyWe2L3Y"
      },
      "execution_count": null,
      "outputs": [
        {
          "output_type": "stream",
          "name": "stdout",
          "text": [
            "[20 45  3 71 36]\n"
          ]
        },
        {
          "output_type": "execute_result",
          "data": {
            "text/plain": [
              "dtype('int64')"
            ]
          },
          "metadata": {},
          "execution_count": 18
        }
      ]
    },
    {
      "cell_type": "code",
      "source": [
        "print(matrix_table)\n",
        "matrix_table.dtype"
      ],
      "metadata": {
        "colab": {
          "base_uri": "https://localhost:8080/"
        },
        "outputId": "2c19ac66-9e3c-409c-94ab-38ab8a5cd2ba",
        "id": "lGHmFh_02L3Z"
      },
      "execution_count": null,
      "outputs": [
        {
          "output_type": "stream",
          "name": "stdout",
          "text": [
            "[[183 164  95 158 190]\n",
            " [ 20  45   3  71  36]]\n"
          ]
        },
        {
          "output_type": "execute_result",
          "data": {
            "text/plain": [
              "dtype('int64')"
            ]
          },
          "metadata": {},
          "execution_count": 19
        }
      ]
    },
    {
      "cell_type": "code",
      "source": [
        "print(img)\n",
        "img.dtype"
      ],
      "metadata": {
        "outputId": "62c8359c-861e-4d44-8089-7fa5d78921fe",
        "colab": {
          "base_uri": "https://localhost:8080/"
        },
        "id": "MTgTmnww2L3Z"
      },
      "execution_count": null,
      "outputs": [
        {
          "output_type": "stream",
          "name": "stdout",
          "text": [
            "[[[220 225 251]\n",
            "  [221 225 251]\n",
            "  [222 226 252]\n",
            "  ...\n",
            "  [211 218 251]\n",
            "  [211 218 251]\n",
            "  [211 219 251]]\n",
            "\n",
            " [[219 230 249]\n",
            "  [220 231 249]\n",
            "  [222 232 250]\n",
            "  ...\n",
            "  [219 232 252]\n",
            "  [219 232 252]\n",
            "  [218 232 252]]\n",
            "\n",
            " [[220 234 245]\n",
            "  [219 233 245]\n",
            "  [219 233 245]\n",
            "  ...\n",
            "  [208 229 248]\n",
            "  [210 230 249]\n",
            "  [211 231 249]]\n",
            "\n",
            " ...\n",
            "\n",
            " [[143 143 250]\n",
            "  [136 136 249]\n",
            "  [131 128 248]\n",
            "  ...\n",
            "  [208 225 233]\n",
            "  [199 217 230]\n",
            "  [197 216 229]]\n",
            "\n",
            " [[149 150 251]\n",
            "  [146 146 250]\n",
            "  [145 142 250]\n",
            "  ...\n",
            "  [208 225 233]\n",
            "  [198 215 228]\n",
            "  [195 212 224]]\n",
            "\n",
            " [[144 148 250]\n",
            "  [143 144 250]\n",
            "  [140 137 249]\n",
            "  ...\n",
            "  [213 228 233]\n",
            "  [205 220 228]\n",
            "  [201 214 221]]]\n"
          ]
        },
        {
          "output_type": "execute_result",
          "data": {
            "text/plain": [
              "dtype('uint8')"
            ]
          },
          "metadata": {},
          "execution_count": 20
        }
      ]
    },
    {
      "cell_type": "markdown",
      "source": [
        "### Создание numpy массивов"
      ],
      "metadata": {
        "id": "CGJ2Fg3V2urS"
      }
    },
    {
      "cell_type": "markdown",
      "source": [
        "Иногда мы не знаем наполнение numpy массива, но мы знаем его размер. В numpy есть несколько подходов, чтобы создавать заготовки для дальнейшего заполнения данными. Такой подход убирает необходимость в расширении массива, что является дорогой операцией.\n"
      ],
      "metadata": {
        "id": "8_6uO5n82yIj"
      }
    },
    {
      "cell_type": "markdown",
      "source": [
        "Функция numpy.zeros создает массив, заполненный нулями."
      ],
      "metadata": {
        "id": "Dx-5QBMd3mwo"
      }
    },
    {
      "cell_type": "code",
      "source": [
        "np.zeros((3, 4))"
      ],
      "metadata": {
        "colab": {
          "base_uri": "https://localhost:8080/"
        },
        "id": "Yhaz9m3G3kun",
        "outputId": "a8ec81ac-769a-4a9b-eaec-b046543256ba"
      },
      "execution_count": null,
      "outputs": [
        {
          "output_type": "execute_result",
          "data": {
            "text/plain": [
              "array([[0., 0., 0., 0.],\n",
              "       [0., 0., 0., 0.],\n",
              "       [0., 0., 0., 0.]])"
            ]
          },
          "metadata": {},
          "execution_count": 21
        }
      ]
    },
    {
      "cell_type": "markdown",
      "source": [
        "Функция numpy.ones создает массив, заполненный единицами.\n",
        "\n",
        "При этом можем при желании указать, какой тип желаете в новом массиве.\n"
      ],
      "metadata": {
        "id": "uLeUZTAw3iuq"
      }
    },
    {
      "cell_type": "code",
      "source": [
        "np.ones((2, 3, 4), dtype=np.int16)"
      ],
      "metadata": {
        "colab": {
          "base_uri": "https://localhost:8080/"
        },
        "id": "zHTgI8Ne2xPE",
        "outputId": "2426ed18-fa4f-47ee-f344-ab9ff948acdb"
      },
      "execution_count": null,
      "outputs": [
        {
          "output_type": "execute_result",
          "data": {
            "text/plain": [
              "array([[[1, 1, 1, 1],\n",
              "        [1, 1, 1, 1],\n",
              "        [1, 1, 1, 1]],\n",
              "\n",
              "       [[1, 1, 1, 1],\n",
              "        [1, 1, 1, 1],\n",
              "        [1, 1, 1, 1]]], dtype=int16)"
            ]
          },
          "metadata": {},
          "execution_count": 22
        }
      ]
    },
    {
      "cell_type": "markdown",
      "source": [
        "И функция numpy.empty создает массив, заполненный случайными величинами, которые зависят от текущего состояния памяти.\n"
      ],
      "metadata": {
        "id": "cXMoG_CC3z_E"
      }
    },
    {
      "cell_type": "code",
      "source": [
        "np.empty((2, 3))"
      ],
      "metadata": {
        "colab": {
          "base_uri": "https://localhost:8080/"
        },
        "id": "_gxUvM6I4E7I",
        "outputId": "acce5941-2479-4aef-aa08-a00e6a57eace"
      },
      "execution_count": null,
      "outputs": [
        {
          "output_type": "execute_result",
          "data": {
            "text/plain": [
              "array([[4.67172811e-310, 0.00000000e+000, 0.00000000e+000],\n",
              "       [0.00000000e+000, 0.00000000e+000, 0.00000000e+000]])"
            ]
          },
          "metadata": {},
          "execution_count": 23
        }
      ]
    },
    {
      "cell_type": "markdown",
      "source": [
        "np.arange - полный аналог `range` в Python."
      ],
      "metadata": {
        "id": "KgSnzwK2gkak"
      }
    },
    {
      "cell_type": "code",
      "source": [
        "np.arange(0, 10)"
      ],
      "metadata": {
        "colab": {
          "base_uri": "https://localhost:8080/"
        },
        "id": "_HJXeLPPgia_",
        "outputId": "98e2108a-ed2b-495b-9779-9240aa5874b7"
      },
      "execution_count": null,
      "outputs": [
        {
          "output_type": "execute_result",
          "data": {
            "text/plain": [
              "array([0, 1, 2, 3, 4, 5, 6, 7, 8, 9])"
            ]
          },
          "metadata": {},
          "execution_count": 24
        }
      ]
    },
    {
      "cell_type": "markdown",
      "source": [
        "np.linspace создаст массив в заданных диапазон с одинаковым шагом."
      ],
      "metadata": {
        "id": "jXKJbw1YhAnE"
      }
    },
    {
      "cell_type": "code",
      "source": [
        "np.linspace(0, 1, num=5)"
      ],
      "metadata": {
        "colab": {
          "base_uri": "https://localhost:8080/"
        },
        "id": "tbW09lfegqMt",
        "outputId": "e6c3dbc3-de65-41d1-8810-40b7eb245835"
      },
      "execution_count": null,
      "outputs": [
        {
          "output_type": "execute_result",
          "data": {
            "text/plain": [
              "array([0.  , 0.25, 0.5 , 0.75, 1.  ])"
            ]
          },
          "metadata": {},
          "execution_count": 25
        }
      ]
    },
    {
      "cell_type": "markdown",
      "source": [
        "И так же можем нагенерировать случайные объекты с помощью модуля random в numpy."
      ],
      "metadata": {
        "id": "g4YLWeZACcAM"
      }
    },
    {
      "cell_type": "code",
      "source": [
        "np.random.randint(0, 10, size=5)"
      ],
      "metadata": {
        "colab": {
          "base_uri": "https://localhost:8080/"
        },
        "id": "b7M7W87tCiOv",
        "outputId": "606f6492-2418-4af6-cb16-6547b170de3c"
      },
      "execution_count": null,
      "outputs": [
        {
          "output_type": "execute_result",
          "data": {
            "text/plain": [
              "array([3, 7, 2, 9, 6])"
            ]
          },
          "metadata": {},
          "execution_count": 29
        }
      ]
    },
    {
      "cell_type": "markdown",
      "source": [
        "## Задача на сегодня"
      ],
      "metadata": {
        "id": "WbgNi3eEUaHb"
      }
    },
    {
      "cell_type": "markdown",
      "source": [
        "С основами numpy массивов разобрались, теперь давайте возьмем небольшое количество данные и попробуем их проанализировать."
      ],
      "metadata": {
        "id": "GYyVAx5z4bVr"
      }
    },
    {
      "cell_type": "markdown",
      "source": [
        "Ссылка на google drive: https://drive.google.com/file/d/1TaS4DsUnUQuqB0UxCscptbEQ0JoFmUMQ"
      ],
      "metadata": {
        "id": "JIrixLq2CCoN"
      }
    },
    {
      "cell_type": "code",
      "source": [
        "!wget 'https://drive.google.com/uc?id=1TaS4DsUnUQuqB0UxCscptbEQ0JoFmUMQ' -O income_by_age.txt"
      ],
      "metadata": {
        "colab": {
          "base_uri": "https://localhost:8080/"
        },
        "id": "e3xfIAUKB9I2",
        "outputId": "da96b20c-3bc3-4f26-9eb9-46eb6d5842e4"
      },
      "execution_count": null,
      "outputs": [
        {
          "output_type": "stream",
          "name": "stdout",
          "text": [
            "--2022-03-30 11:30:05--  https://drive.google.com/uc?id=1TaS4DsUnUQuqB0UxCscptbEQ0JoFmUMQ\n",
            "Resolving drive.google.com (drive.google.com)... 74.125.195.102, 74.125.195.138, 74.125.195.101, ...\n",
            "Connecting to drive.google.com (drive.google.com)|74.125.195.102|:443... connected.\n",
            "HTTP request sent, awaiting response... 303 See Other\n",
            "Location: https://doc-0c-c0-docs.googleusercontent.com/docs/securesc/ha0ro937gcuc7l7deffksulhg5h7mbp1/6ciauut3so8t2ubaed6t7rcnalht43v8/1648639800000/14904333240138417226/*/1TaS4DsUnUQuqB0UxCscptbEQ0JoFmUMQ [following]\n",
            "Warning: wildcards not supported in HTTP.\n",
            "--2022-03-30 11:30:05--  https://doc-0c-c0-docs.googleusercontent.com/docs/securesc/ha0ro937gcuc7l7deffksulhg5h7mbp1/6ciauut3so8t2ubaed6t7rcnalht43v8/1648639800000/14904333240138417226/*/1TaS4DsUnUQuqB0UxCscptbEQ0JoFmUMQ\n",
            "Resolving doc-0c-c0-docs.googleusercontent.com (doc-0c-c0-docs.googleusercontent.com)... 74.125.195.132, 2607:f8b0:400e:c09::84\n",
            "Connecting to doc-0c-c0-docs.googleusercontent.com (doc-0c-c0-docs.googleusercontent.com)|74.125.195.132|:443... connected.\n",
            "HTTP request sent, awaiting response... 200 OK\n",
            "Length: 5000 (4.9K) [text/plain]\n",
            "Saving to: ‘income_by_age.txt’\n",
            "\n",
            "income_by_age.txt   100%[===================>]   4.88K  --.-KB/s    in 0s      \n",
            "\n",
            "2022-03-30 11:30:06 (21.2 MB/s) - ‘income_by_age.txt’ saved [5000/5000]\n",
            "\n"
          ]
        }
      ]
    },
    {
      "cell_type": "markdown",
      "source": [
        "Данные взяты с магазина, есть информация по 100 клиентам, есть их возраст и есть суммарный чек за последнюю неделю."
      ],
      "metadata": {
        "id": "QRqhxfF8CF51"
      }
    },
    {
      "cell_type": "code",
      "source": [
        "data = np.loadtxt('income_by_age.txt')\n",
        "data.shape"
      ],
      "metadata": {
        "colab": {
          "base_uri": "https://localhost:8080/"
        },
        "id": "5drhuq0QBrc8",
        "outputId": "5a0583f2-1f2a-4fb6-ba9d-5c79ec512050"
      },
      "execution_count": null,
      "outputs": [
        {
          "output_type": "execute_result",
          "data": {
            "text/plain": [
              "(100, 2)"
            ]
          },
          "metadata": {},
          "execution_count": 31
        }
      ]
    },
    {
      "cell_type": "code",
      "source": [
        "data"
      ],
      "metadata": {
        "colab": {
          "base_uri": "https://localhost:8080/"
        },
        "id": "JS58qXvlCZ7I",
        "outputId": "1d63e6fb-2b50-4175-ce7c-52f519898f86"
      },
      "execution_count": null,
      "outputs": [
        {
          "output_type": "execute_result",
          "data": {
            "text/plain": [
              "array([[  38.,  741.],\n",
              "       [  32.,  630.],\n",
              "       [  52., 2730.],\n",
              "       [  33.,  552.],\n",
              "       [  35.,  409.],\n",
              "       [  46., 1882.],\n",
              "       [  28., 1209.],\n",
              "       [  30.,  891.],\n",
              "       [  36.,  487.],\n",
              "       [  32.,  629.],\n",
              "       [  26., 1492.],\n",
              "       [  33.,  504.],\n",
              "       [  32.,  658.],\n",
              "       [  39.,  903.],\n",
              "       [  23., 1964.],\n",
              "       [  30., 1000.],\n",
              "       [  43., 1451.],\n",
              "       [  48., 2157.],\n",
              "       [  24., 1811.],\n",
              "       [  39.,  944.],\n",
              "       [  28., 1280.],\n",
              "       [  29., 1156.],\n",
              "       [  28., 1171.],\n",
              "       [  32.,  722.],\n",
              "       [  41., 1296.],\n",
              "       [  39., 1012.],\n",
              "       [  35.,  359.],\n",
              "       [  32.,  663.],\n",
              "       [  35.,  303.],\n",
              "       [  34.,  405.],\n",
              "       [  40., 1093.],\n",
              "       [  30.,  931.],\n",
              "       [  34.,  306.],\n",
              "       [  34.,  401.],\n",
              "       [  34.,  352.],\n",
              "       [  36.,  549.],\n",
              "       [  36.,  497.],\n",
              "       [  44., 1634.],\n",
              "       [  34.,  386.],\n",
              "       [  45., 1861.],\n",
              "       [  32.,  605.],\n",
              "       [  31.,  777.],\n",
              "       [  35.,  400.],\n",
              "       [  37.,  655.],\n",
              "       [  36.,  569.],\n",
              "       [  44., 1591.],\n",
              "       [  42., 1439.],\n",
              "       [  38.,  794.],\n",
              "       [  32.,  636.],\n",
              "       [  34.,  400.],\n",
              "       [  44., 1713.],\n",
              "       [  36.,  521.],\n",
              "       [  25., 1610.],\n",
              "       [  30.,  989.],\n",
              "       [  30.,  877.],\n",
              "       [  43., 1452.],\n",
              "       [  34.,  407.],\n",
              "       [  50., 2560.],\n",
              "       [  39.,  956.],\n",
              "       [  35.,  424.],\n",
              "       [  31.,  735.],\n",
              "       [  41., 1272.],\n",
              "       [  33.,  540.],\n",
              "       [  29., 1124.],\n",
              "       [  38.,  868.],\n",
              "       [  35.,  312.],\n",
              "       [  43., 1489.],\n",
              "       [  34.,  373.],\n",
              "       [  14., 3159.],\n",
              "       [  40., 1089.],\n",
              "       [  21., 2177.],\n",
              "       [  45., 1838.],\n",
              "       [  47., 2121.],\n",
              "       [  32.,  727.],\n",
              "       [  26., 1464.],\n",
              "       [  25., 1697.],\n",
              "       [  41., 1172.],\n",
              "       [  33.,  502.],\n",
              "       [  30.,  898.],\n",
              "       [  33.,  543.],\n",
              "       [  49., 2388.],\n",
              "       [  37.,  646.],\n",
              "       [  40., 1045.],\n",
              "       [  40., 1076.],\n",
              "       [  42., 1318.],\n",
              "       [  42., 1361.],\n",
              "       [  30., 1010.],\n",
              "       [  33.,  515.],\n",
              "       [  29., 1060.],\n",
              "       [  30., 1011.],\n",
              "       [  42., 1441.],\n",
              "       [  31.,  801.],\n",
              "       [  34.,  379.],\n",
              "       [  30.,  992.],\n",
              "       [  30.,  893.],\n",
              "       [  40., 1088.],\n",
              "       [  31.,  745.],\n",
              "       [  31.,  782.],\n",
              "       [  38.,  793.],\n",
              "       [  38.,  800.]])"
            ]
          },
          "metadata": {},
          "execution_count": 32
        }
      ]
    },
    {
      "cell_type": "markdown",
      "source": [
        "## Индексирование\n"
      ],
      "metadata": {
        "id": "0yKo19wGUdX9"
      }
    },
    {
      "cell_type": "markdown",
      "source": [
        "Во-первых, научимся доставать данные по одному клиенту.\n",
        "\n",
        "Для этого возьмем нулевой объект в массиве с помощью индексации."
      ],
      "metadata": {
        "id": "Aqk23DKxC6RZ"
      }
    },
    {
      "cell_type": "code",
      "source": [
        "data[0]"
      ],
      "metadata": {
        "colab": {
          "base_uri": "https://localhost:8080/"
        },
        "id": "XWVL2gQtDRYR",
        "outputId": "61fe2e9c-1cec-46ee-e0ab-f9fb1a0c069d"
      },
      "execution_count": null,
      "outputs": [
        {
          "output_type": "execute_result",
          "data": {
            "text/plain": [
              "array([ 38., 741.])"
            ]
          },
          "metadata": {},
          "execution_count": 33
        }
      ]
    },
    {
      "cell_type": "markdown",
      "source": [
        "Видим, что клиент с возрастом 38 и за последнюю неделю он закупился на 741."
      ],
      "metadata": {
        "id": "lYKKm_06DYbu"
      }
    },
    {
      "cell_type": "markdown",
      "source": [
        "Так же можем взять, к примеру, первых 5 покупателей в данных. Для этого воспользуемся срезами."
      ],
      "metadata": {
        "id": "_CNMY7SQDtFr"
      }
    },
    {
      "cell_type": "code",
      "source": [
        "data[:5]"
      ],
      "metadata": {
        "colab": {
          "base_uri": "https://localhost:8080/"
        },
        "id": "W0NHP2qUDyAY",
        "outputId": "dd92a369-60cd-4695-c661-3ed6561c4894"
      },
      "execution_count": null,
      "outputs": [
        {
          "output_type": "execute_result",
          "data": {
            "text/plain": [
              "array([[  38.,  741.],\n",
              "       [  32.,  630.],\n",
              "       [  52., 2730.],\n",
              "       [  33.,  552.],\n",
              "       [  35.,  409.]])"
            ]
          },
          "metadata": {},
          "execution_count": 34
        }
      ]
    },
    {
      "cell_type": "markdown",
      "source": [
        "А можем вообще взять все данные."
      ],
      "metadata": {
        "id": "UshHXuMMD2qE"
      }
    },
    {
      "cell_type": "code",
      "source": [
        "data[:]"
      ],
      "metadata": {
        "colab": {
          "base_uri": "https://localhost:8080/"
        },
        "id": "KbKVY3rXD5TX",
        "outputId": "85e73129-e455-478b-cb39-36e282b63ce4"
      },
      "execution_count": null,
      "outputs": [
        {
          "output_type": "execute_result",
          "data": {
            "text/plain": [
              "array([[  38.,  741.],\n",
              "       [  32.,  630.],\n",
              "       [  52., 2730.],\n",
              "       [  33.,  552.],\n",
              "       [  35.,  409.],\n",
              "       [  46., 1882.],\n",
              "       [  28., 1209.],\n",
              "       [  30.,  891.],\n",
              "       [  36.,  487.],\n",
              "       [  32.,  629.],\n",
              "       [  26., 1492.],\n",
              "       [  33.,  504.],\n",
              "       [  32.,  658.],\n",
              "       [  39.,  903.],\n",
              "       [  23., 1964.],\n",
              "       [  30., 1000.],\n",
              "       [  43., 1451.],\n",
              "       [  48., 2157.],\n",
              "       [  24., 1811.],\n",
              "       [  39.,  944.],\n",
              "       [  28., 1280.],\n",
              "       [  29., 1156.],\n",
              "       [  28., 1171.],\n",
              "       [  32.,  722.],\n",
              "       [  41., 1296.],\n",
              "       [  39., 1012.],\n",
              "       [  35.,  359.],\n",
              "       [  32.,  663.],\n",
              "       [  35.,  303.],\n",
              "       [  34.,  405.],\n",
              "       [  40., 1093.],\n",
              "       [  30.,  931.],\n",
              "       [  34.,  306.],\n",
              "       [  34.,  401.],\n",
              "       [  34.,  352.],\n",
              "       [  36.,  549.],\n",
              "       [  36.,  497.],\n",
              "       [  44., 1634.],\n",
              "       [  34.,  386.],\n",
              "       [  45., 1861.],\n",
              "       [  32.,  605.],\n",
              "       [  31.,  777.],\n",
              "       [  35.,  400.],\n",
              "       [  37.,  655.],\n",
              "       [  36.,  569.],\n",
              "       [  44., 1591.],\n",
              "       [  42., 1439.],\n",
              "       [  38.,  794.],\n",
              "       [  32.,  636.],\n",
              "       [  34.,  400.],\n",
              "       [  44., 1713.],\n",
              "       [  36.,  521.],\n",
              "       [  25., 1610.],\n",
              "       [  30.,  989.],\n",
              "       [  30.,  877.],\n",
              "       [  43., 1452.],\n",
              "       [  34.,  407.],\n",
              "       [  50., 2560.],\n",
              "       [  39.,  956.],\n",
              "       [  35.,  424.],\n",
              "       [  31.,  735.],\n",
              "       [  41., 1272.],\n",
              "       [  33.,  540.],\n",
              "       [  29., 1124.],\n",
              "       [  38.,  868.],\n",
              "       [  35.,  312.],\n",
              "       [  43., 1489.],\n",
              "       [  34.,  373.],\n",
              "       [  14., 3159.],\n",
              "       [  40., 1089.],\n",
              "       [  21., 2177.],\n",
              "       [  45., 1838.],\n",
              "       [  47., 2121.],\n",
              "       [  32.,  727.],\n",
              "       [  26., 1464.],\n",
              "       [  25., 1697.],\n",
              "       [  41., 1172.],\n",
              "       [  33.,  502.],\n",
              "       [  30.,  898.],\n",
              "       [  33.,  543.],\n",
              "       [  49., 2388.],\n",
              "       [  37.,  646.],\n",
              "       [  40., 1045.],\n",
              "       [  40., 1076.],\n",
              "       [  42., 1318.],\n",
              "       [  42., 1361.],\n",
              "       [  30., 1010.],\n",
              "       [  33.,  515.],\n",
              "       [  29., 1060.],\n",
              "       [  30., 1011.],\n",
              "       [  42., 1441.],\n",
              "       [  31.,  801.],\n",
              "       [  34.,  379.],\n",
              "       [  30.,  992.],\n",
              "       [  30.,  893.],\n",
              "       [  40., 1088.],\n",
              "       [  31.,  745.],\n",
              "       [  31.,  782.],\n",
              "       [  38.,  793.],\n",
              "       [  38.,  800.]])"
            ]
          },
          "metadata": {},
          "execution_count": 35
        }
      ]
    },
    {
      "cell_type": "markdown",
      "source": [
        "Во-вторых, научимся отделять данные по возрасту покупателей от их сумм, затраченных в нашем магазине.\n",
        "\n",
        "Сначала возьмем колонку с возрастом людей, для этого обратимся к столбцу по индексу 0. Но нам нужны все покупатели, так что указываем срез по всем строкам."
      ],
      "metadata": {
        "id": "66p2vD6RDAA6"
      }
    },
    {
      "cell_type": "code",
      "source": [
        "data[:, 0]"
      ],
      "metadata": {
        "colab": {
          "base_uri": "https://localhost:8080/"
        },
        "id": "rRTI7bgWDecl",
        "outputId": "0f960cac-3431-41f9-9452-35d79451670b"
      },
      "execution_count": null,
      "outputs": [
        {
          "output_type": "execute_result",
          "data": {
            "text/plain": [
              "array([38., 32., 52., 33., 35., 46., 28., 30., 36., 32., 26., 33., 32.,\n",
              "       39., 23., 30., 43., 48., 24., 39., 28., 29., 28., 32., 41., 39.,\n",
              "       35., 32., 35., 34., 40., 30., 34., 34., 34., 36., 36., 44., 34.,\n",
              "       45., 32., 31., 35., 37., 36., 44., 42., 38., 32., 34., 44., 36.,\n",
              "       25., 30., 30., 43., 34., 50., 39., 35., 31., 41., 33., 29., 38.,\n",
              "       35., 43., 34., 14., 40., 21., 45., 47., 32., 26., 25., 41., 33.,\n",
              "       30., 33., 49., 37., 40., 40., 42., 42., 30., 33., 29., 30., 42.,\n",
              "       31., 34., 30., 30., 40., 31., 31., 38., 38.])"
            ]
          },
          "metadata": {},
          "execution_count": 36
        }
      ]
    },
    {
      "cell_type": "markdown",
      "source": [
        "И берем только данные по выручке - это уже колонка с индексом 1."
      ],
      "metadata": {
        "id": "iRIEU45VEAyU"
      }
    },
    {
      "cell_type": "code",
      "source": [
        "data[:, 1]"
      ],
      "metadata": {
        "colab": {
          "base_uri": "https://localhost:8080/"
        },
        "id": "1ZHmiD-aEGNh",
        "outputId": "18efc186-7f8a-4fdc-bd03-3474f48105cb"
      },
      "execution_count": null,
      "outputs": [
        {
          "output_type": "execute_result",
          "data": {
            "text/plain": [
              "array([ 741.,  630., 2730.,  552.,  409., 1882., 1209.,  891.,  487.,\n",
              "        629., 1492.,  504.,  658.,  903., 1964., 1000., 1451., 2157.,\n",
              "       1811.,  944., 1280., 1156., 1171.,  722., 1296., 1012.,  359.,\n",
              "        663.,  303.,  405., 1093.,  931.,  306.,  401.,  352.,  549.,\n",
              "        497., 1634.,  386., 1861.,  605.,  777.,  400.,  655.,  569.,\n",
              "       1591., 1439.,  794.,  636.,  400., 1713.,  521., 1610.,  989.,\n",
              "        877., 1452.,  407., 2560.,  956.,  424.,  735., 1272.,  540.,\n",
              "       1124.,  868.,  312., 1489.,  373., 3159., 1089., 2177., 1838.,\n",
              "       2121.,  727., 1464., 1697., 1172.,  502.,  898.,  543., 2388.,\n",
              "        646., 1045., 1076., 1318., 1361., 1010.,  515., 1060., 1011.,\n",
              "       1441.,  801.,  379.,  992.,  893., 1088.,  745.,  782.,  793.,\n",
              "        800.])"
            ]
          },
          "metadata": {},
          "execution_count": 37
        }
      ]
    },
    {
      "cell_type": "markdown",
      "source": [
        "При этом два подхода можем совмещать."
      ],
      "metadata": {
        "id": "Hb9SnzWLEJZ4"
      }
    },
    {
      "cell_type": "code",
      "source": [
        "data[5:10, 0]"
      ],
      "metadata": {
        "colab": {
          "base_uri": "https://localhost:8080/"
        },
        "id": "fLYYVasxEOnK",
        "outputId": "210ea746-fc54-4ee8-eb83-e0825d5774ce"
      },
      "execution_count": null,
      "outputs": [
        {
          "output_type": "execute_result",
          "data": {
            "text/plain": [
              "array([46., 28., 30., 36., 32.])"
            ]
          },
          "metadata": {},
          "execution_count": 38
        }
      ]
    },
    {
      "cell_type": "markdown",
      "source": [
        "## Основные математические функции"
      ],
      "metadata": {
        "id": "KalXGhF8Cudo"
      }
    },
    {
      "cell_type": "markdown",
      "source": [
        "Можем поизучать наши данные и найти возраст самого молодого покупателя через min()."
      ],
      "metadata": {
        "id": "YeywhYJcCvyV"
      }
    },
    {
      "cell_type": "code",
      "source": [
        "data[:, 0].min()"
      ],
      "metadata": {
        "colab": {
          "base_uri": "https://localhost:8080/"
        },
        "id": "a4rdzEKNC37Y",
        "outputId": "b094b4fb-c83e-460b-fa8d-e5f7663bbea4"
      },
      "execution_count": null,
      "outputs": [
        {
          "output_type": "execute_result",
          "data": {
            "text/plain": [
              "14.0"
            ]
          },
          "metadata": {},
          "execution_count": 39
        }
      ]
    },
    {
      "cell_type": "markdown",
      "source": [
        "А так же можем узнать порядковый индекс этого самого молодого покупателя, если воспользуемся argmin()."
      ],
      "metadata": {
        "id": "xE4ktWUEhODJ"
      }
    },
    {
      "cell_type": "code",
      "source": [
        "idx = data[:, 0].argmin()\n",
        "idx"
      ],
      "metadata": {
        "colab": {
          "base_uri": "https://localhost:8080/"
        },
        "id": "tH9gcQAahTrZ",
        "outputId": "860f739f-872f-4384-e65a-53fa94522efa"
      },
      "execution_count": null,
      "outputs": [
        {
          "output_type": "execute_result",
          "data": {
            "text/plain": [
              "68"
            ]
          },
          "metadata": {},
          "execution_count": 40
        }
      ]
    },
    {
      "cell_type": "code",
      "source": [
        "data[idx]"
      ],
      "metadata": {
        "colab": {
          "base_uri": "https://localhost:8080/"
        },
        "id": "NzWN_LVWhbbD",
        "outputId": "3c0207e4-dbd8-44ec-8771-93727324adeb"
      },
      "execution_count": null,
      "outputs": [
        {
          "output_type": "execute_result",
          "data": {
            "text/plain": [
              "array([  14., 3159.])"
            ]
          },
          "metadata": {},
          "execution_count": 41
        }
      ]
    },
    {
      "cell_type": "markdown",
      "source": [
        "Можем узнать, как много нам принес самый прибыльный покупатель через метод max(). "
      ],
      "metadata": {
        "id": "GpDNI9YBEZCj"
      }
    },
    {
      "cell_type": "code",
      "source": [
        "data[:, 1].max()"
      ],
      "metadata": {
        "colab": {
          "base_uri": "https://localhost:8080/"
        },
        "id": "UJxS5i0fEjIY",
        "outputId": "2df8e167-dc77-402a-d9be-738e8c693825"
      },
      "execution_count": null,
      "outputs": [
        {
          "output_type": "execute_result",
          "data": {
            "text/plain": [
              "3159.0"
            ]
          },
          "metadata": {},
          "execution_count": 42
        }
      ]
    },
    {
      "cell_type": "markdown",
      "source": [
        "И так же можем узнать порядковый индекс этого самого прибыльного покупателя, если воспользуемся argmax()."
      ],
      "metadata": {
        "id": "SxyqohHlhkFX"
      }
    },
    {
      "cell_type": "code",
      "source": [
        "idx = data[:, 1].argmax()\n",
        "idx"
      ],
      "metadata": {
        "colab": {
          "base_uri": "https://localhost:8080/"
        },
        "outputId": "35a2576d-b4f0-4643-acf6-d39ed5acd41d",
        "id": "7RnCZ1gnhqcs"
      },
      "execution_count": null,
      "outputs": [
        {
          "output_type": "execute_result",
          "data": {
            "text/plain": [
              "68"
            ]
          },
          "metadata": {},
          "execution_count": 43
        }
      ]
    },
    {
      "cell_type": "code",
      "source": [
        "data[idx]"
      ],
      "metadata": {
        "colab": {
          "base_uri": "https://localhost:8080/"
        },
        "outputId": "76160df7-1f97-4ba2-c9ab-11a80bdb25e3",
        "id": "qqxDUu0hhqcu"
      },
      "execution_count": null,
      "outputs": [
        {
          "output_type": "execute_result",
          "data": {
            "text/plain": [
              "array([  14., 3159.])"
            ]
          },
          "metadata": {},
          "execution_count": 44
        }
      ]
    },
    {
      "cell_type": "markdown",
      "source": [
        "Так же можем посмотреть, а какой средний возраст наших клиентов через mean()."
      ],
      "metadata": {
        "id": "g7dXMba5ElWm"
      }
    },
    {
      "cell_type": "code",
      "source": [
        "data[:, 0].mean()"
      ],
      "metadata": {
        "colab": {
          "base_uri": "https://localhost:8080/"
        },
        "id": "-Eo2Ccu9Eqjq",
        "outputId": "d1892ca0-7c6f-4a7e-b296-0d9aa4d4877b"
      },
      "execution_count": null,
      "outputs": [
        {
          "output_type": "execute_result",
          "data": {
            "text/plain": [
              "35.14"
            ]
          },
          "metadata": {},
          "execution_count": 45
        }
      ]
    },
    {
      "cell_type": "markdown",
      "source": [
        "А так же давайте посмотрим, сколько у нас прибыли за последнюю неделю с этими покупателями через метод sum()."
      ],
      "metadata": {
        "id": "E99mCGTnExje"
      }
    },
    {
      "cell_type": "code",
      "source": [
        "data[:, 1].sum()"
      ],
      "metadata": {
        "colab": {
          "base_uri": "https://localhost:8080/"
        },
        "id": "h9q5ZikQE4YW",
        "outputId": "888c2e22-a04e-4a40-db1a-c16ebc29dec0"
      },
      "execution_count": null,
      "outputs": [
        {
          "output_type": "execute_result",
          "data": {
            "text/plain": [
              "103040.0"
            ]
          },
          "metadata": {},
          "execution_count": 46
        }
      ]
    },
    {
      "cell_type": "markdown",
      "source": [
        "Но тут мы к сожалению вспоминаем, что у нас есть коммисия, которую нам нужно вычесть с каждой покупки.\n",
        "\n",
        "Коммисия равняется 2%."
      ],
      "metadata": {
        "id": "Bn_aBGSfE8V4"
      }
    },
    {
      "cell_type": "markdown",
      "source": [
        "Для начала узнаем, сколько выйдет, если посчитать по 2% у каждой покупки.\n",
        "\n",
        "Если бы мы пользовались чистым Python списками, то нужно было бы пройтись по всем объектам в цикле и для каждого посчитать 2% и записать в какой-то новый список.\n",
        "\n",
        "Условно это могло бы выглядеть примерно так."
      ],
      "metadata": {
        "id": "nslrz4rkFMkK"
      }
    },
    {
      "cell_type": "code",
      "source": [
        "incomes = data[:, 1]\n",
        "\n",
        "percentes = []\n",
        "\n",
        "for income in incomes:\n",
        "    two_perc = income * 2 / 100\n",
        "    percentes.append(two_perc)\n",
        "\n",
        "print(percentes)"
      ],
      "metadata": {
        "colab": {
          "base_uri": "https://localhost:8080/"
        },
        "id": "Wz82wM1BFok0",
        "outputId": "6e40873a-ad3a-4e7d-cf68-a5f13066ea10"
      },
      "execution_count": null,
      "outputs": [
        {
          "output_type": "stream",
          "name": "stdout",
          "text": [
            "[14.82, 12.6, 54.6, 11.04, 8.18, 37.64, 24.18, 17.82, 9.74, 12.58, 29.84, 10.08, 13.16, 18.06, 39.28, 20.0, 29.02, 43.14, 36.22, 18.88, 25.6, 23.12, 23.42, 14.44, 25.92, 20.24, 7.18, 13.26, 6.06, 8.1, 21.86, 18.62, 6.12, 8.02, 7.04, 10.98, 9.94, 32.68, 7.72, 37.22, 12.1, 15.54, 8.0, 13.1, 11.38, 31.82, 28.78, 15.88, 12.72, 8.0, 34.26, 10.42, 32.2, 19.78, 17.54, 29.04, 8.14, 51.2, 19.12, 8.48, 14.7, 25.44, 10.8, 22.48, 17.36, 6.24, 29.78, 7.46, 63.18, 21.78, 43.54, 36.76, 42.42, 14.54, 29.28, 33.94, 23.44, 10.04, 17.96, 10.86, 47.76, 12.92, 20.9, 21.52, 26.36, 27.22, 20.2, 10.3, 21.2, 20.22, 28.82, 16.02, 7.58, 19.84, 17.86, 21.76, 14.9, 15.64, 15.86, 16.0]\n"
          ]
        }
      ]
    },
    {
      "cell_type": "markdown",
      "source": [
        "Очень много всего нужно написать, благо у нас теперь есть numpy массивы и мы можем в разы сократить количество кода. При этом еще помним, что если данных будет не 100, а 1кк, то вычисления процентов в цикле будет очень долгим, а через numpy быстрее."
      ],
      "metadata": {
        "id": "i6vYgKMgF5pG"
      }
    },
    {
      "cell_type": "code",
      "source": [
        "two_perc = data[:, 1] * 2 / 100\n",
        "two_perc"
      ],
      "metadata": {
        "colab": {
          "base_uri": "https://localhost:8080/"
        },
        "id": "1nU5wB_9FIIS",
        "outputId": "027e90c0-aa25-47e6-865a-0998f20a1b50"
      },
      "execution_count": null,
      "outputs": [
        {
          "output_type": "execute_result",
          "data": {
            "text/plain": [
              "array([14.82, 12.6 , 54.6 , 11.04,  8.18, 37.64, 24.18, 17.82,  9.74,\n",
              "       12.58, 29.84, 10.08, 13.16, 18.06, 39.28, 20.  , 29.02, 43.14,\n",
              "       36.22, 18.88, 25.6 , 23.12, 23.42, 14.44, 25.92, 20.24,  7.18,\n",
              "       13.26,  6.06,  8.1 , 21.86, 18.62,  6.12,  8.02,  7.04, 10.98,\n",
              "        9.94, 32.68,  7.72, 37.22, 12.1 , 15.54,  8.  , 13.1 , 11.38,\n",
              "       31.82, 28.78, 15.88, 12.72,  8.  , 34.26, 10.42, 32.2 , 19.78,\n",
              "       17.54, 29.04,  8.14, 51.2 , 19.12,  8.48, 14.7 , 25.44, 10.8 ,\n",
              "       22.48, 17.36,  6.24, 29.78,  7.46, 63.18, 21.78, 43.54, 36.76,\n",
              "       42.42, 14.54, 29.28, 33.94, 23.44, 10.04, 17.96, 10.86, 47.76,\n",
              "       12.92, 20.9 , 21.52, 26.36, 27.22, 20.2 , 10.3 , 21.2 , 20.22,\n",
              "       28.82, 16.02,  7.58, 19.84, 17.86, 21.76, 14.9 , 15.64, 15.86,\n",
              "       16.  ])"
            ]
          },
          "metadata": {},
          "execution_count": 48
        }
      ]
    },
    {
      "cell_type": "markdown",
      "source": [
        "А затем еще остается вычесть из исзодной суммы эти проценты."
      ],
      "metadata": {
        "id": "Gd0VrK55FSbo"
      }
    },
    {
      "cell_type": "code",
      "source": [
        "clear_income = data[:, 1] - two_perc\n",
        "clear_income"
      ],
      "metadata": {
        "colab": {
          "base_uri": "https://localhost:8080/"
        },
        "id": "7URwDvp3GS6H",
        "outputId": "d368c710-7395-4633-9530-8a3d48acd81b"
      },
      "execution_count": null,
      "outputs": [
        {
          "output_type": "execute_result",
          "data": {
            "text/plain": [
              "array([ 726.18,  617.4 , 2675.4 ,  540.96,  400.82, 1844.36, 1184.82,\n",
              "        873.18,  477.26,  616.42, 1462.16,  493.92,  644.84,  884.94,\n",
              "       1924.72,  980.  , 1421.98, 2113.86, 1774.78,  925.12, 1254.4 ,\n",
              "       1132.88, 1147.58,  707.56, 1270.08,  991.76,  351.82,  649.74,\n",
              "        296.94,  396.9 , 1071.14,  912.38,  299.88,  392.98,  344.96,\n",
              "        538.02,  487.06, 1601.32,  378.28, 1823.78,  592.9 ,  761.46,\n",
              "        392.  ,  641.9 ,  557.62, 1559.18, 1410.22,  778.12,  623.28,\n",
              "        392.  , 1678.74,  510.58, 1577.8 ,  969.22,  859.46, 1422.96,\n",
              "        398.86, 2508.8 ,  936.88,  415.52,  720.3 , 1246.56,  529.2 ,\n",
              "       1101.52,  850.64,  305.76, 1459.22,  365.54, 3095.82, 1067.22,\n",
              "       2133.46, 1801.24, 2078.58,  712.46, 1434.72, 1663.06, 1148.56,\n",
              "        491.96,  880.04,  532.14, 2340.24,  633.08, 1024.1 , 1054.48,\n",
              "       1291.64, 1333.78,  989.8 ,  504.7 , 1038.8 ,  990.78, 1412.18,\n",
              "        784.98,  371.42,  972.16,  875.14, 1066.24,  730.1 ,  766.36,\n",
              "        777.14,  784.  ])"
            ]
          },
          "metadata": {},
          "execution_count": 49
        }
      ]
    },
    {
      "cell_type": "markdown",
      "source": [
        "Можем убедиться, что вычисления произошли правильно. Выведем первый объект и сравним результаты."
      ],
      "metadata": {
        "id": "xDlrKUHTGb2J"
      }
    },
    {
      "cell_type": "code",
      "source": [
        "data[0, 1]"
      ],
      "metadata": {
        "colab": {
          "base_uri": "https://localhost:8080/"
        },
        "id": "UZqa_jFvGjai",
        "outputId": "e1ecf51a-8e13-420d-80da-1e3ec8d9bbd4"
      },
      "execution_count": null,
      "outputs": [
        {
          "output_type": "execute_result",
          "data": {
            "text/plain": [
              "741.0"
            ]
          },
          "metadata": {},
          "execution_count": 50
        }
      ]
    },
    {
      "cell_type": "code",
      "source": [
        "two_perc[0]"
      ],
      "metadata": {
        "colab": {
          "base_uri": "https://localhost:8080/"
        },
        "id": "tNUGtON7GlQb",
        "outputId": "ce7e0d7f-7328-4ec8-d8c3-38419dd88c94"
      },
      "execution_count": null,
      "outputs": [
        {
          "output_type": "execute_result",
          "data": {
            "text/plain": [
              "14.82"
            ]
          },
          "metadata": {},
          "execution_count": 51
        }
      ]
    },
    {
      "cell_type": "code",
      "source": [
        "clear_income[0]"
      ],
      "metadata": {
        "colab": {
          "base_uri": "https://localhost:8080/"
        },
        "id": "gwaDFAl_HELM",
        "outputId": "10308b24-2ca2-4e81-b51c-ca7a78b7fdca"
      },
      "execution_count": null,
      "outputs": [
        {
          "output_type": "execute_result",
          "data": {
            "text/plain": [
              "726.18"
            ]
          },
          "metadata": {},
          "execution_count": 52
        }
      ]
    },
    {
      "cell_type": "markdown",
      "source": [
        "И всё посчиталось правильно."
      ],
      "metadata": {
        "id": "0zvOFW8fHIDL"
      }
    },
    {
      "cell_type": "markdown",
      "source": [
        "Рассмотрели некоторые основные математические операции. \n",
        "\n",
        "При этом еще стоит обратить своё внимание на мат. операции, когда несколько размерностей, потому что до этого моменты подсчет велся именно на одном измерении."
      ],
      "metadata": {
        "id": "WmgQetpXHNet"
      }
    },
    {
      "cell_type": "markdown",
      "source": [
        "Давайте за один подход найдм сразу средний возраст людей и их средние траты."
      ],
      "metadata": {
        "id": "D0IlvqZJHndQ"
      }
    },
    {
      "cell_type": "code",
      "source": [
        "data.mean()"
      ],
      "metadata": {
        "colab": {
          "base_uri": "https://localhost:8080/"
        },
        "id": "rSm25lcaHupW",
        "outputId": "f4876e6b-e3d0-45be-fbc7-2e624592bd4a"
      },
      "execution_count": null,
      "outputs": [
        {
          "output_type": "execute_result",
          "data": {
            "text/plain": [
              "532.77"
            ]
          },
          "metadata": {},
          "execution_count": 53
        }
      ]
    },
    {
      "cell_type": "markdown",
      "source": [
        "Взяли знакомый нам mean(), но почему-то число вышло одно, а ожидали два. А это получилось среднее по всему массиву.\n",
        "\n",
        "Чтобы посчитать среднее сразу же по двум измерениям, нужно указать атрибут axis - вдоль чего идет подсчет среднего арифметического.\n",
        "\n",
        "- axis=0 - по столбцам\n",
        "- axis=1 - по строкам"
      ],
      "metadata": {
        "id": "2wJ5L4EhHvl3"
      }
    },
    {
      "cell_type": "code",
      "source": [
        "data.mean(axis=0)"
      ],
      "metadata": {
        "colab": {
          "base_uri": "https://localhost:8080/"
        },
        "id": "BJ_6G-APIYM-",
        "outputId": "ca4e7a66-4bbf-4267-e66a-d2501258c77e"
      },
      "execution_count": null,
      "outputs": [
        {
          "output_type": "execute_result",
          "data": {
            "text/plain": [
              "array([  35.14, 1030.4 ])"
            ]
          },
          "metadata": {},
          "execution_count": 56
        }
      ]
    },
    {
      "cell_type": "markdown",
      "source": [
        "### Атрибут axis"
      ],
      "metadata": {
        "id": "tA5OA14zViqD"
      }
    },
    {
      "cell_type": "markdown",
      "source": [
        "Можем этот подход рассмотреть на примере поменьше, чтоб было более наглядно. И давайте для пущей простоты возьмем метод min()."
      ],
      "metadata": {
        "id": "JaUHg9IvT-jP"
      }
    },
    {
      "cell_type": "code",
      "source": [
        "np.random.seed(8)\n",
        "a = np.random.randint(0, 10, size=(5, 2))\n",
        "a"
      ],
      "metadata": {
        "colab": {
          "base_uri": "https://localhost:8080/"
        },
        "id": "zWFgfObsUYgo",
        "outputId": "68aca17b-fe21-48a3-c7c6-de81c6a81b59"
      },
      "execution_count": null,
      "outputs": [
        {
          "output_type": "execute_result",
          "data": {
            "text/plain": [
              "array([[3, 4],\n",
              "       [1, 9],\n",
              "       [5, 8],\n",
              "       [3, 8],\n",
              "       [0, 5]])"
            ]
          },
          "metadata": {},
          "execution_count": 64
        }
      ]
    },
    {
      "cell_type": "markdown",
      "source": [
        "Минимальное этого массива по всем объектам (без указания axis)."
      ],
      "metadata": {
        "id": "R0ReiBKPUmlG"
      }
    },
    {
      "cell_type": "code",
      "source": [
        "a.min()"
      ],
      "metadata": {
        "colab": {
          "base_uri": "https://localhost:8080/"
        },
        "id": "Yn41Z9xDUtDj",
        "outputId": "8183a1af-e834-48e9-d393-a6e436aaae6e"
      },
      "execution_count": null,
      "outputs": [
        {
          "output_type": "execute_result",
          "data": {
            "text/plain": [
              "0"
            ]
          },
          "metadata": {},
          "execution_count": 65
        }
      ]
    },
    {
      "cell_type": "markdown",
      "source": [
        "Минимальное этого массива по столбцам (axis=0)."
      ],
      "metadata": {
        "id": "lZJPEZL0U8Sy"
      }
    },
    {
      "cell_type": "code",
      "source": [
        "a.min(axis=0)"
      ],
      "metadata": {
        "colab": {
          "base_uri": "https://localhost:8080/"
        },
        "id": "R_TLMnkiU4gs",
        "outputId": "f58e55a5-8f3f-4d5d-e66e-76b9ca04aebd"
      },
      "execution_count": null,
      "outputs": [
        {
          "output_type": "execute_result",
          "data": {
            "text/plain": [
              "array([0, 4])"
            ]
          },
          "metadata": {},
          "execution_count": 66
        }
      ]
    },
    {
      "cell_type": "markdown",
      "source": [
        "Минимальное этого массива по строкам (axis=1)."
      ],
      "metadata": {
        "id": "-UPxtHuvVEDI"
      }
    },
    {
      "cell_type": "code",
      "source": [
        "a.min(axis=1)"
      ],
      "metadata": {
        "colab": {
          "base_uri": "https://localhost:8080/"
        },
        "id": "6Yoh1p4iU6kj",
        "outputId": "98ba4c3b-ee80-4f87-88dc-1af26cfdf978"
      },
      "execution_count": null,
      "outputs": [
        {
          "output_type": "execute_result",
          "data": {
            "text/plain": [
              "array([3, 1, 5, 3, 0])"
            ]
          },
          "metadata": {},
          "execution_count": 67
        }
      ]
    },
    {
      "cell_type": "markdown",
      "source": [
        "## Изменение размера массива"
      ],
      "metadata": {
        "id": "CcWwrqQEXDpJ"
      }
    },
    {
      "cell_type": "markdown",
      "source": [
        "### Reshape"
      ],
      "metadata": {
        "id": "lt_VkiGjWKe-"
      }
    },
    {
      "cell_type": "markdown",
      "source": [
        "Небольшое отступление закончилось, сейчас снова возвращаемся к нашим покупателям."
      ],
      "metadata": {
        "id": "XwV4Yn9-V6yP"
      }
    },
    {
      "cell_type": "markdown",
      "source": [
        "Что если мы захотим поменять местами наши оси? Чтобы по строкам теперь были возраст и сумма покупок, а по столбцам покупатели. Это можно провернуть с помощью метода reshape.\n"
      ],
      "metadata": {
        "id": "VOF9wU6ZWPFg"
      }
    },
    {
      "cell_type": "code",
      "source": [
        "data.reshape((2, 100))"
      ],
      "metadata": {
        "colab": {
          "base_uri": "https://localhost:8080/"
        },
        "id": "pYEOSggWV6Jp",
        "outputId": "f83622d7-73ea-43cf-9f0a-1a0ad0b6f4f1"
      },
      "execution_count": null,
      "outputs": [
        {
          "output_type": "execute_result",
          "data": {
            "text/plain": [
              "array([[  38.,  741.,   32.,  630.,   52., 2730.,   33.,  552.,   35.,\n",
              "         409.,   46., 1882.,   28., 1209.,   30.,  891.,   36.,  487.,\n",
              "          32.,  629.,   26., 1492.,   33.,  504.,   32.,  658.,   39.,\n",
              "         903.,   23., 1964.,   30., 1000.,   43., 1451.,   48., 2157.,\n",
              "          24., 1811.,   39.,  944.,   28., 1280.,   29., 1156.,   28.,\n",
              "        1171.,   32.,  722.,   41., 1296.,   39., 1012.,   35.,  359.,\n",
              "          32.,  663.,   35.,  303.,   34.,  405.,   40., 1093.,   30.,\n",
              "         931.,   34.,  306.,   34.,  401.,   34.,  352.,   36.,  549.,\n",
              "          36.,  497.,   44., 1634.,   34.,  386.,   45., 1861.,   32.,\n",
              "         605.,   31.,  777.,   35.,  400.,   37.,  655.,   36.,  569.,\n",
              "          44., 1591.,   42., 1439.,   38.,  794.,   32.,  636.,   34.,\n",
              "         400.],\n",
              "       [  44., 1713.,   36.,  521.,   25., 1610.,   30.,  989.,   30.,\n",
              "         877.,   43., 1452.,   34.,  407.,   50., 2560.,   39.,  956.,\n",
              "          35.,  424.,   31.,  735.,   41., 1272.,   33.,  540.,   29.,\n",
              "        1124.,   38.,  868.,   35.,  312.,   43., 1489.,   34.,  373.,\n",
              "          14., 3159.,   40., 1089.,   21., 2177.,   45., 1838.,   47.,\n",
              "        2121.,   32.,  727.,   26., 1464.,   25., 1697.,   41., 1172.,\n",
              "          33.,  502.,   30.,  898.,   33.,  543.,   49., 2388.,   37.,\n",
              "         646.,   40., 1045.,   40., 1076.,   42., 1318.,   42., 1361.,\n",
              "          30., 1010.,   33.,  515.,   29., 1060.,   30., 1011.,   42.,\n",
              "        1441.,   31.,  801.,   34.,  379.,   30.,  992.,   30.,  893.,\n",
              "          40., 1088.,   31.,  745.,   31.,  782.,   38.,  793.,   38.,\n",
              "         800.]])"
            ]
          },
          "metadata": {},
          "execution_count": 68
        }
      ]
    },
    {
      "cell_type": "markdown",
      "source": [
        "Иногда нам без разницы сколько объектов будет по одной из осей, нам главное, чтобы в одной оси было нужное нам значение.\n",
        "\n",
        "К примеру, мы точно знаем, что у нас есть две характеристики по покупателям, но мы можем не знать, сколько у нас покупателей вообще.\n",
        "\n",
        "Для такого сценария можем воспользоваться следующим синтаксисом."
      ],
      "metadata": {
        "id": "PpOq6im-WkRO"
      }
    },
    {
      "cell_type": "code",
      "source": [
        "data.reshape((2, -1))"
      ],
      "metadata": {
        "colab": {
          "base_uri": "https://localhost:8080/"
        },
        "id": "kJIK3Pl3W3rp",
        "outputId": "0818a0f5-3543-465c-d1d1-9491da553f82"
      },
      "execution_count": null,
      "outputs": [
        {
          "output_type": "execute_result",
          "data": {
            "text/plain": [
              "array([[  38.,  741.,   32.,  630.,   52., 2730.,   33.,  552.,   35.,\n",
              "         409.,   46., 1882.,   28., 1209.,   30.,  891.,   36.,  487.,\n",
              "          32.,  629.,   26., 1492.,   33.,  504.,   32.,  658.,   39.,\n",
              "         903.,   23., 1964.,   30., 1000.,   43., 1451.,   48., 2157.,\n",
              "          24., 1811.,   39.,  944.,   28., 1280.,   29., 1156.,   28.,\n",
              "        1171.,   32.,  722.,   41., 1296.,   39., 1012.,   35.,  359.,\n",
              "          32.,  663.,   35.,  303.,   34.,  405.,   40., 1093.,   30.,\n",
              "         931.,   34.,  306.,   34.,  401.,   34.,  352.,   36.,  549.,\n",
              "          36.,  497.,   44., 1634.,   34.,  386.,   45., 1861.,   32.,\n",
              "         605.,   31.,  777.,   35.,  400.,   37.,  655.,   36.,  569.,\n",
              "          44., 1591.,   42., 1439.,   38.,  794.,   32.,  636.,   34.,\n",
              "         400.],\n",
              "       [  44., 1713.,   36.,  521.,   25., 1610.,   30.,  989.,   30.,\n",
              "         877.,   43., 1452.,   34.,  407.,   50., 2560.,   39.,  956.,\n",
              "          35.,  424.,   31.,  735.,   41., 1272.,   33.,  540.,   29.,\n",
              "        1124.,   38.,  868.,   35.,  312.,   43., 1489.,   34.,  373.,\n",
              "          14., 3159.,   40., 1089.,   21., 2177.,   45., 1838.,   47.,\n",
              "        2121.,   32.,  727.,   26., 1464.,   25., 1697.,   41., 1172.,\n",
              "          33.,  502.,   30.,  898.,   33.,  543.,   49., 2388.,   37.,\n",
              "         646.,   40., 1045.,   40., 1076.,   42., 1318.,   42., 1361.,\n",
              "          30., 1010.,   33.,  515.,   29., 1060.,   30., 1011.,   42.,\n",
              "        1441.,   31.,  801.,   34.,  379.,   30.,  992.,   30.,  893.,\n",
              "          40., 1088.,   31.,  745.,   31.,  782.,   38.,  793.,   38.,\n",
              "         800.]])"
            ]
          },
          "metadata": {},
          "execution_count": 69
        }
      ]
    },
    {
      "cell_type": "markdown",
      "source": [
        "### Resize"
      ],
      "metadata": {
        "id": "l5NRYqy2XGj0"
      }
    },
    {
      "cell_type": "markdown",
      "source": [
        "А еще есть метод resize, он делает всё тоже самое, что и reshape, только вот он на месте перезаписывает наш массив.\n",
        "\n",
        "И указать -1 здесь не получится.\n"
      ],
      "metadata": {
        "id": "6oZ6cqMkXIIe"
      }
    },
    {
      "cell_type": "code",
      "source": [
        "data_resized = data.copy()\n",
        "\n",
        "data_resized.resize((2, -1))"
      ],
      "metadata": {
        "colab": {
          "base_uri": "https://localhost:8080/",
          "height": 209
        },
        "id": "OQraIZeWXRBL",
        "outputId": "86a1eb9a-86aa-4e7a-ae6b-d76b965255bd"
      },
      "execution_count": null,
      "outputs": [
        {
          "output_type": "error",
          "ename": "ValueError",
          "evalue": "ignored",
          "traceback": [
            "\u001b[0;31m---------------------------------------------------------------------------\u001b[0m",
            "\u001b[0;31mValueError\u001b[0m                                Traceback (most recent call last)",
            "\u001b[0;32m<ipython-input-70-2cbcaedf4c45>\u001b[0m in \u001b[0;36m<module>\u001b[0;34m()\u001b[0m\n\u001b[1;32m      1\u001b[0m \u001b[0mdata_resized\u001b[0m \u001b[0;34m=\u001b[0m \u001b[0mdata\u001b[0m\u001b[0;34m.\u001b[0m\u001b[0mcopy\u001b[0m\u001b[0;34m(\u001b[0m\u001b[0;34m)\u001b[0m\u001b[0;34m\u001b[0m\u001b[0;34m\u001b[0m\u001b[0m\n\u001b[1;32m      2\u001b[0m \u001b[0;34m\u001b[0m\u001b[0m\n\u001b[0;32m----> 3\u001b[0;31m \u001b[0mdata_resized\u001b[0m\u001b[0;34m.\u001b[0m\u001b[0mresize\u001b[0m\u001b[0;34m(\u001b[0m\u001b[0;34m(\u001b[0m\u001b[0;36m2\u001b[0m\u001b[0;34m,\u001b[0m \u001b[0;34m-\u001b[0m\u001b[0;36m1\u001b[0m\u001b[0;34m)\u001b[0m\u001b[0;34m)\u001b[0m\u001b[0;34m\u001b[0m\u001b[0;34m\u001b[0m\u001b[0m\n\u001b[0m",
            "\u001b[0;31mValueError\u001b[0m: negative dimensions not allowed"
          ]
        }
      ]
    },
    {
      "cell_type": "code",
      "source": [
        "data_resized.resize((2, 100))"
      ],
      "metadata": {
        "id": "l3-HNlyMXXAp"
      },
      "execution_count": null,
      "outputs": []
    },
    {
      "cell_type": "code",
      "source": [
        "data_resized"
      ],
      "metadata": {
        "id": "T_71o5LlXeBE",
        "colab": {
          "base_uri": "https://localhost:8080/"
        },
        "outputId": "b1f1d1dc-a145-43ec-aa95-60136e22386e"
      },
      "execution_count": null,
      "outputs": [
        {
          "output_type": "execute_result",
          "data": {
            "text/plain": [
              "array([[  38.,  741.,   32.,  630.,   52., 2730.,   33.,  552.,   35.,\n",
              "         409.,   46., 1882.,   28., 1209.,   30.,  891.,   36.,  487.,\n",
              "          32.,  629.,   26., 1492.,   33.,  504.,   32.,  658.,   39.,\n",
              "         903.,   23., 1964.,   30., 1000.,   43., 1451.,   48., 2157.,\n",
              "          24., 1811.,   39.,  944.,   28., 1280.,   29., 1156.,   28.,\n",
              "        1171.,   32.,  722.,   41., 1296.,   39., 1012.,   35.,  359.,\n",
              "          32.,  663.,   35.,  303.,   34.,  405.,   40., 1093.,   30.,\n",
              "         931.,   34.,  306.,   34.,  401.,   34.,  352.,   36.,  549.,\n",
              "          36.,  497.,   44., 1634.,   34.,  386.,   45., 1861.,   32.,\n",
              "         605.,   31.,  777.,   35.,  400.,   37.,  655.,   36.,  569.,\n",
              "          44., 1591.,   42., 1439.,   38.,  794.,   32.,  636.,   34.,\n",
              "         400.],\n",
              "       [  44., 1713.,   36.,  521.,   25., 1610.,   30.,  989.,   30.,\n",
              "         877.,   43., 1452.,   34.,  407.,   50., 2560.,   39.,  956.,\n",
              "          35.,  424.,   31.,  735.,   41., 1272.,   33.,  540.,   29.,\n",
              "        1124.,   38.,  868.,   35.,  312.,   43., 1489.,   34.,  373.,\n",
              "          14., 3159.,   40., 1089.,   21., 2177.,   45., 1838.,   47.,\n",
              "        2121.,   32.,  727.,   26., 1464.,   25., 1697.,   41., 1172.,\n",
              "          33.,  502.,   30.,  898.,   33.,  543.,   49., 2388.,   37.,\n",
              "         646.,   40., 1045.,   40., 1076.,   42., 1318.,   42., 1361.,\n",
              "          30., 1010.,   33.,  515.,   29., 1060.,   30., 1011.,   42.,\n",
              "        1441.,   31.,  801.,   34.,  379.,   30.,  992.,   30.,  893.,\n",
              "          40., 1088.,   31.,  745.,   31.,  782.,   38.,  793.,   38.,\n",
              "         800.]])"
            ]
          },
          "metadata": {},
          "execution_count": 72
        }
      ]
    },
    {
      "cell_type": "markdown",
      "source": [
        "## Присоединение массивов"
      ],
      "metadata": {
        "id": "-aZLM74sXmzZ"
      }
    },
    {
      "cell_type": "markdown",
      "source": [
        "Нам повезло и мы ещё получили данные по количеству покупок за прошедшую неделю. Скачаем себе эти данные."
      ],
      "metadata": {
        "id": "qEcu4nmqacui"
      }
    },
    {
      "cell_type": "code",
      "source": [
        "!wget 'https://drive.google.com/uc?id=1xf9gRjobn3x7oMxVH_7ryOlg86f8cbzI' -O num_purchases.txt"
      ],
      "metadata": {
        "colab": {
          "base_uri": "https://localhost:8080/"
        },
        "id": "MmsmxOM0YdS3",
        "outputId": "b36efcac-9799-460b-9202-884d56cf59ee"
      },
      "execution_count": null,
      "outputs": [
        {
          "output_type": "stream",
          "name": "stdout",
          "text": [
            "--2022-03-30 11:46:26--  https://drive.google.com/uc?id=1xf9gRjobn3x7oMxVH_7ryOlg86f8cbzI\n",
            "Resolving drive.google.com (drive.google.com)... 74.125.135.113, 74.125.135.100, 74.125.135.101, ...\n",
            "Connecting to drive.google.com (drive.google.com)|74.125.135.113|:443... connected.\n",
            "HTTP request sent, awaiting response... 303 See Other\n",
            "Location: https://doc-0k-c0-docs.googleusercontent.com/docs/securesc/ha0ro937gcuc7l7deffksulhg5h7mbp1/lo9jueu0u90ggf95a59q02avim1g1ab0/1648640775000/14904333240138417226/*/1xf9gRjobn3x7oMxVH_7ryOlg86f8cbzI [following]\n",
            "Warning: wildcards not supported in HTTP.\n",
            "--2022-03-30 11:46:26--  https://doc-0k-c0-docs.googleusercontent.com/docs/securesc/ha0ro937gcuc7l7deffksulhg5h7mbp1/lo9jueu0u90ggf95a59q02avim1g1ab0/1648640775000/14904333240138417226/*/1xf9gRjobn3x7oMxVH_7ryOlg86f8cbzI\n",
            "Resolving doc-0k-c0-docs.googleusercontent.com (doc-0k-c0-docs.googleusercontent.com)... 74.125.195.132, 2607:f8b0:400e:c09::84\n",
            "Connecting to doc-0k-c0-docs.googleusercontent.com (doc-0k-c0-docs.googleusercontent.com)|74.125.195.132|:443... connected.\n",
            "HTTP request sent, awaiting response... 200 OK\n",
            "Length: 2500 (2.4K) [text/plain]\n",
            "Saving to: ‘num_purchases.txt’\n",
            "\n",
            "num_purchases.txt   100%[===================>]   2.44K  --.-KB/s    in 0s      \n",
            "\n",
            "2022-03-30 11:46:27 (76.1 MB/s) - ‘num_purchases.txt’ saved [2500/2500]\n",
            "\n"
          ]
        }
      ]
    },
    {
      "cell_type": "markdown",
      "source": [
        "Здесь тоже 100 чисел, как и наших клиентов."
      ],
      "metadata": {
        "id": "_AFGWELtarsi"
      }
    },
    {
      "cell_type": "code",
      "source": [
        "purchases = np.loadtxt('num_purchases.txt')\n",
        "purchases"
      ],
      "metadata": {
        "colab": {
          "base_uri": "https://localhost:8080/"
        },
        "id": "oA1SihG5YYXp",
        "outputId": "0b8c2b31-f5a0-464c-e573-826a99f23095"
      },
      "execution_count": null,
      "outputs": [
        {
          "output_type": "execute_result",
          "data": {
            "text/plain": [
              "array([ 2., 11.,  7.,  2.,  5.,  2.,  5.,  8.,  5.,  4.,  3.,  5.,  4.,\n",
              "        4.,  2., 10.,  2.,  3.,  5.,  3.,  2.,  4.,  6.,  5.,  3.,  2.,\n",
              "        9.,  2.,  5.,  2.,  4.,  4.,  6.,  7.,  5.,  5.,  2.,  7.,  4.,\n",
              "        4.,  3.,  2.,  4.,  3.,  3.,  2.,  5.,  3.,  3.,  4.,  2.,  3.,\n",
              "        5.,  9.,  8.,  7.,  9.,  2.,  2.,  5.,  3.,  5.,  8.,  3.,  3.,\n",
              "        2.,  5.,  2.,  2.,  4.,  3.,  6.,  8.,  4.,  4.,  2.,  3.,  6.,\n",
              "        5.,  3.,  3.,  6.,  2.,  3.,  2.,  2.,  9.,  3.,  4.,  3.,  7.,\n",
              "        2.,  9.,  4.,  3., 10.,  3.,  4.,  4.,  8.])"
            ]
          },
          "metadata": {},
          "execution_count": 74
        }
      ]
    },
    {
      "cell_type": "code",
      "source": [
        "data.shape, purchases.shape"
      ],
      "metadata": {
        "colab": {
          "base_uri": "https://localhost:8080/"
        },
        "id": "TKAW1-nXaAMw",
        "outputId": "743785c7-4705-46a8-8eb9-11cf98fffc0c"
      },
      "execution_count": null,
      "outputs": [
        {
          "output_type": "execute_result",
          "data": {
            "text/plain": [
              "((100, 2), (100,))"
            ]
          },
          "metadata": {},
          "execution_count": 75
        }
      ]
    },
    {
      "cell_type": "markdown",
      "source": [
        "Попробуем присоединить этот массив к нашему `data`.\n"
      ],
      "metadata": {
        "id": "Eom5Yr1Pa0qS"
      }
    },
    {
      "cell_type": "code",
      "source": [
        "np.hstack([data, purchases])"
      ],
      "metadata": {
        "colab": {
          "base_uri": "https://localhost:8080/",
          "height": 391
        },
        "id": "hU4zqBsHayEV",
        "outputId": "04d22977-7de8-44cb-9989-c358348d1a69"
      },
      "execution_count": null,
      "outputs": [
        {
          "output_type": "error",
          "ename": "ValueError",
          "evalue": "ignored",
          "traceback": [
            "\u001b[0;31m---------------------------------------------------------------------------\u001b[0m",
            "\u001b[0;31mValueError\u001b[0m                                Traceback (most recent call last)",
            "\u001b[0;32m<ipython-input-76-ffc455dfa198>\u001b[0m in \u001b[0;36m<module>\u001b[0;34m()\u001b[0m\n\u001b[0;32m----> 1\u001b[0;31m \u001b[0mnp\u001b[0m\u001b[0;34m.\u001b[0m\u001b[0mhstack\u001b[0m\u001b[0;34m(\u001b[0m\u001b[0;34m[\u001b[0m\u001b[0mdata\u001b[0m\u001b[0;34m,\u001b[0m \u001b[0mpurchases\u001b[0m\u001b[0;34m]\u001b[0m\u001b[0;34m)\u001b[0m\u001b[0;34m\u001b[0m\u001b[0;34m\u001b[0m\u001b[0m\n\u001b[0m",
            "\u001b[0;32m<__array_function__ internals>\u001b[0m in \u001b[0;36mhstack\u001b[0;34m(*args, **kwargs)\u001b[0m\n",
            "\u001b[0;32m/usr/local/lib/python3.7/dist-packages/numpy/core/shape_base.py\u001b[0m in \u001b[0;36mhstack\u001b[0;34m(tup)\u001b[0m\n\u001b[1;32m    343\u001b[0m         \u001b[0;32mreturn\u001b[0m \u001b[0m_nx\u001b[0m\u001b[0;34m.\u001b[0m\u001b[0mconcatenate\u001b[0m\u001b[0;34m(\u001b[0m\u001b[0marrs\u001b[0m\u001b[0;34m,\u001b[0m \u001b[0;36m0\u001b[0m\u001b[0;34m)\u001b[0m\u001b[0;34m\u001b[0m\u001b[0;34m\u001b[0m\u001b[0m\n\u001b[1;32m    344\u001b[0m     \u001b[0;32melse\u001b[0m\u001b[0;34m:\u001b[0m\u001b[0;34m\u001b[0m\u001b[0;34m\u001b[0m\u001b[0m\n\u001b[0;32m--> 345\u001b[0;31m         \u001b[0;32mreturn\u001b[0m \u001b[0m_nx\u001b[0m\u001b[0;34m.\u001b[0m\u001b[0mconcatenate\u001b[0m\u001b[0;34m(\u001b[0m\u001b[0marrs\u001b[0m\u001b[0;34m,\u001b[0m \u001b[0;36m1\u001b[0m\u001b[0;34m)\u001b[0m\u001b[0;34m\u001b[0m\u001b[0;34m\u001b[0m\u001b[0m\n\u001b[0m\u001b[1;32m    346\u001b[0m \u001b[0;34m\u001b[0m\u001b[0m\n\u001b[1;32m    347\u001b[0m \u001b[0;34m\u001b[0m\u001b[0m\n",
            "\u001b[0;32m<__array_function__ internals>\u001b[0m in \u001b[0;36mconcatenate\u001b[0;34m(*args, **kwargs)\u001b[0m\n",
            "\u001b[0;31mValueError\u001b[0m: all the input arrays must have same number of dimensions, but the array at index 0 has 2 dimension(s) and the array at index 1 has 1 dimension(s)"
          ]
        }
      ]
    },
    {
      "cell_type": "markdown",
      "source": [
        "Но выскакивает ошибка о несоответствии количества измерений."
      ],
      "metadata": {
        "id": "jJ5q1Pwya7cQ"
      }
    },
    {
      "cell_type": "code",
      "source": [
        "display(data.ndim, purchases.ndim)"
      ],
      "metadata": {
        "colab": {
          "base_uri": "https://localhost:8080/",
          "height": 54
        },
        "id": "MeNrUD2gbGOr",
        "outputId": "569bf1dc-63d1-4692-c701-d722d305eb9b"
      },
      "execution_count": null,
      "outputs": [
        {
          "output_type": "display_data",
          "data": {
            "text/plain": [
              "2"
            ]
          },
          "metadata": {}
        },
        {
          "output_type": "display_data",
          "data": {
            "text/plain": [
              "1"
            ]
          },
          "metadata": {}
        }
      ]
    },
    {
      "cell_type": "markdown",
      "source": [
        "Поэтому нужно поменять размерность у нашего массива `purchases`."
      ],
      "metadata": {
        "id": "2jz_qVhLbNlW"
      }
    },
    {
      "cell_type": "code",
      "source": [
        "purchases = purchases.reshape((-1, 1))\n",
        "purchases.ndim"
      ],
      "metadata": {
        "colab": {
          "base_uri": "https://localhost:8080/"
        },
        "id": "3mEGfDsIYymJ",
        "outputId": "1e0258d3-39f8-4fc8-8a84-0b326c961a3a"
      },
      "execution_count": null,
      "outputs": [
        {
          "output_type": "execute_result",
          "data": {
            "text/plain": [
              "2"
            ]
          },
          "metadata": {},
          "execution_count": 78
        }
      ]
    },
    {
      "cell_type": "markdown",
      "source": [
        "Сейчас всё получилось без ошибок и действительно, новые данные добавились в наш существующий массив."
      ],
      "metadata": {
        "id": "6NijEtvgbWXg"
      }
    },
    {
      "cell_type": "code",
      "source": [
        "np.set_printoptions(suppress=True)\n",
        "\n",
        "np.hstack([data, purchases])"
      ],
      "metadata": {
        "colab": {
          "base_uri": "https://localhost:8080/"
        },
        "id": "hw-v9tZfYO90",
        "outputId": "f2f3b68d-9ca9-4a84-d138-e890dad866f8"
      },
      "execution_count": null,
      "outputs": [
        {
          "output_type": "execute_result",
          "data": {
            "text/plain": [
              "array([[  38.,  741.,    2.],\n",
              "       [  32.,  630.,   11.],\n",
              "       [  52., 2730.,    7.],\n",
              "       [  33.,  552.,    2.],\n",
              "       [  35.,  409.,    5.],\n",
              "       [  46., 1882.,    2.],\n",
              "       [  28., 1209.,    5.],\n",
              "       [  30.,  891.,    8.],\n",
              "       [  36.,  487.,    5.],\n",
              "       [  32.,  629.,    4.],\n",
              "       [  26., 1492.,    3.],\n",
              "       [  33.,  504.,    5.],\n",
              "       [  32.,  658.,    4.],\n",
              "       [  39.,  903.,    4.],\n",
              "       [  23., 1964.,    2.],\n",
              "       [  30., 1000.,   10.],\n",
              "       [  43., 1451.,    2.],\n",
              "       [  48., 2157.,    3.],\n",
              "       [  24., 1811.,    5.],\n",
              "       [  39.,  944.,    3.],\n",
              "       [  28., 1280.,    2.],\n",
              "       [  29., 1156.,    4.],\n",
              "       [  28., 1171.,    6.],\n",
              "       [  32.,  722.,    5.],\n",
              "       [  41., 1296.,    3.],\n",
              "       [  39., 1012.,    2.],\n",
              "       [  35.,  359.,    9.],\n",
              "       [  32.,  663.,    2.],\n",
              "       [  35.,  303.,    5.],\n",
              "       [  34.,  405.,    2.],\n",
              "       [  40., 1093.,    4.],\n",
              "       [  30.,  931.,    4.],\n",
              "       [  34.,  306.,    6.],\n",
              "       [  34.,  401.,    7.],\n",
              "       [  34.,  352.,    5.],\n",
              "       [  36.,  549.,    5.],\n",
              "       [  36.,  497.,    2.],\n",
              "       [  44., 1634.,    7.],\n",
              "       [  34.,  386.,    4.],\n",
              "       [  45., 1861.,    4.],\n",
              "       [  32.,  605.,    3.],\n",
              "       [  31.,  777.,    2.],\n",
              "       [  35.,  400.,    4.],\n",
              "       [  37.,  655.,    3.],\n",
              "       [  36.,  569.,    3.],\n",
              "       [  44., 1591.,    2.],\n",
              "       [  42., 1439.,    5.],\n",
              "       [  38.,  794.,    3.],\n",
              "       [  32.,  636.,    3.],\n",
              "       [  34.,  400.,    4.],\n",
              "       [  44., 1713.,    2.],\n",
              "       [  36.,  521.,    3.],\n",
              "       [  25., 1610.,    5.],\n",
              "       [  30.,  989.,    9.],\n",
              "       [  30.,  877.,    8.],\n",
              "       [  43., 1452.,    7.],\n",
              "       [  34.,  407.,    9.],\n",
              "       [  50., 2560.,    2.],\n",
              "       [  39.,  956.,    2.],\n",
              "       [  35.,  424.,    5.],\n",
              "       [  31.,  735.,    3.],\n",
              "       [  41., 1272.,    5.],\n",
              "       [  33.,  540.,    8.],\n",
              "       [  29., 1124.,    3.],\n",
              "       [  38.,  868.,    3.],\n",
              "       [  35.,  312.,    2.],\n",
              "       [  43., 1489.,    5.],\n",
              "       [  34.,  373.,    2.],\n",
              "       [  14., 3159.,    2.],\n",
              "       [  40., 1089.,    4.],\n",
              "       [  21., 2177.,    3.],\n",
              "       [  45., 1838.,    6.],\n",
              "       [  47., 2121.,    8.],\n",
              "       [  32.,  727.,    4.],\n",
              "       [  26., 1464.,    4.],\n",
              "       [  25., 1697.,    2.],\n",
              "       [  41., 1172.,    3.],\n",
              "       [  33.,  502.,    6.],\n",
              "       [  30.,  898.,    5.],\n",
              "       [  33.,  543.,    3.],\n",
              "       [  49., 2388.,    3.],\n",
              "       [  37.,  646.,    6.],\n",
              "       [  40., 1045.,    2.],\n",
              "       [  40., 1076.,    3.],\n",
              "       [  42., 1318.,    2.],\n",
              "       [  42., 1361.,    2.],\n",
              "       [  30., 1010.,    9.],\n",
              "       [  33.,  515.,    3.],\n",
              "       [  29., 1060.,    4.],\n",
              "       [  30., 1011.,    3.],\n",
              "       [  42., 1441.,    7.],\n",
              "       [  31.,  801.,    2.],\n",
              "       [  34.,  379.,    9.],\n",
              "       [  30.,  992.,    4.],\n",
              "       [  30.,  893.,    3.],\n",
              "       [  40., 1088.,   10.],\n",
              "       [  31.,  745.,    3.],\n",
              "       [  31.,  782.,    4.],\n",
              "       [  38.,  793.,    4.],\n",
              "       [  38.,  800.,    8.]])"
            ]
          },
          "metadata": {},
          "execution_count": 79
        }
      ]
    },
    {
      "cell_type": "markdown",
      "source": [
        "Снова на примере попроще разберем `hstack` и `vstack`."
      ],
      "metadata": {
        "id": "Yg8xM-pobdVq"
      }
    },
    {
      "cell_type": "code",
      "source": [
        "a"
      ],
      "metadata": {
        "colab": {
          "base_uri": "https://localhost:8080/"
        },
        "id": "_lU1JtuSbhUU",
        "outputId": "49391c26-4d55-4a50-8cda-13c3e183907a"
      },
      "execution_count": null,
      "outputs": [
        {
          "output_type": "execute_result",
          "data": {
            "text/plain": [
              "array([[3, 4],\n",
              "       [1, 9],\n",
              "       [5, 8],\n",
              "       [3, 8],\n",
              "       [0, 5]])"
            ]
          },
          "metadata": {},
          "execution_count": 80
        }
      ]
    },
    {
      "cell_type": "code",
      "source": [
        "np.random.seed(6)\n",
        "b = np.random.randint(-10, 0, size=(2, 2))\n",
        "b"
      ],
      "metadata": {
        "colab": {
          "base_uri": "https://localhost:8080/"
        },
        "id": "xOuJKD6Fbi9K",
        "outputId": "fb8df3cd-da49-4bd5-dcdc-103819bef951"
      },
      "execution_count": null,
      "outputs": [
        {
          "output_type": "execute_result",
          "data": {
            "text/plain": [
              "array([[ -1,  -7],\n",
              "       [ -6, -10]])"
            ]
          },
          "metadata": {},
          "execution_count": 81
        }
      ]
    },
    {
      "cell_type": "markdown",
      "source": [
        "Здесь соединяем по вертикали. Новые данные становится ниже по столбцам."
      ],
      "metadata": {
        "id": "C3ylTf5tbzu7"
      }
    },
    {
      "cell_type": "code",
      "source": [
        "np.vstack([a, b])"
      ],
      "metadata": {
        "colab": {
          "base_uri": "https://localhost:8080/"
        },
        "id": "0aX_2PAjbqm2",
        "outputId": "e7e57819-a2b2-4486-9109-75dc58742392"
      },
      "execution_count": null,
      "outputs": [
        {
          "output_type": "execute_result",
          "data": {
            "text/plain": [
              "array([[  3,   4],\n",
              "       [  1,   9],\n",
              "       [  5,   8],\n",
              "       [  3,   8],\n",
              "       [  0,   5],\n",
              "       [ -1,  -7],\n",
              "       [ -6, -10]])"
            ]
          },
          "metadata": {},
          "execution_count": 82
        }
      ]
    },
    {
      "cell_type": "markdown",
      "source": [
        "А здесь соединим по горизонтали. Новые данные добавятся по строкам."
      ],
      "metadata": {
        "id": "jLbhZIPIb6IB"
      }
    },
    {
      "cell_type": "code",
      "source": [
        "a"
      ],
      "metadata": {
        "colab": {
          "base_uri": "https://localhost:8080/"
        },
        "id": "FOvQGiREcFkf",
        "outputId": "8b05af34-458b-484b-876b-4ff762167890"
      },
      "execution_count": null,
      "outputs": [
        {
          "output_type": "execute_result",
          "data": {
            "text/plain": [
              "array([[3, 4],\n",
              "       [1, 9],\n",
              "       [5, 8],\n",
              "       [3, 8],\n",
              "       [0, 5]])"
            ]
          },
          "metadata": {},
          "execution_count": 83
        }
      ]
    },
    {
      "cell_type": "code",
      "source": [
        "np.random.seed(8)\n",
        "c = np.random.randint(-10, 0, size=(5, 1))\n",
        "c"
      ],
      "metadata": {
        "colab": {
          "base_uri": "https://localhost:8080/"
        },
        "id": "4Mw5SyD2cBKK",
        "outputId": "efad2863-d20d-41a8-c4e0-766ddfc8dc6d"
      },
      "execution_count": null,
      "outputs": [
        {
          "output_type": "execute_result",
          "data": {
            "text/plain": [
              "array([[-7],\n",
              "       [-6],\n",
              "       [-9],\n",
              "       [-1],\n",
              "       [-5]])"
            ]
          },
          "metadata": {},
          "execution_count": 84
        }
      ]
    },
    {
      "cell_type": "code",
      "source": [
        "np.hstack([a, c])"
      ],
      "metadata": {
        "colab": {
          "base_uri": "https://localhost:8080/"
        },
        "id": "Rj48qBurcHco",
        "outputId": "4de4f747-8a87-469e-b6df-6d2bf76c4202"
      },
      "execution_count": null,
      "outputs": [
        {
          "output_type": "execute_result",
          "data": {
            "text/plain": [
              "array([[ 3,  4, -7],\n",
              "       [ 1,  9, -6],\n",
              "       [ 5,  8, -9],\n",
              "       [ 3,  8, -1],\n",
              "       [ 0,  5, -5]])"
            ]
          },
          "metadata": {},
          "execution_count": 85
        }
      ]
    },
    {
      "cell_type": "markdown",
      "source": [
        "И на самом деле с нашими данными с покупателями мы могли и не пользоваться np.hstack, а воспользоваться np.column_stack. Данная функция позволяет присоединить в двумерному массиву новую колонку, состоящую из одномерного массива."
      ],
      "metadata": {
        "id": "74OJ5KDYcZrx"
      }
    },
    {
      "cell_type": "code",
      "source": [
        "data = np.column_stack([data, purchases])\n",
        "data"
      ],
      "metadata": {
        "colab": {
          "base_uri": "https://localhost:8080/"
        },
        "id": "qObEf9WZcrCT",
        "outputId": "23d1041f-3252-47f1-94b3-e4d4d425c084"
      },
      "execution_count": null,
      "outputs": [
        {
          "output_type": "execute_result",
          "data": {
            "text/plain": [
              "array([[  38.,  741.,    2.],\n",
              "       [  32.,  630.,   11.],\n",
              "       [  52., 2730.,    7.],\n",
              "       [  33.,  552.,    2.],\n",
              "       [  35.,  409.,    5.],\n",
              "       [  46., 1882.,    2.],\n",
              "       [  28., 1209.,    5.],\n",
              "       [  30.,  891.,    8.],\n",
              "       [  36.,  487.,    5.],\n",
              "       [  32.,  629.,    4.],\n",
              "       [  26., 1492.,    3.],\n",
              "       [  33.,  504.,    5.],\n",
              "       [  32.,  658.,    4.],\n",
              "       [  39.,  903.,    4.],\n",
              "       [  23., 1964.,    2.],\n",
              "       [  30., 1000.,   10.],\n",
              "       [  43., 1451.,    2.],\n",
              "       [  48., 2157.,    3.],\n",
              "       [  24., 1811.,    5.],\n",
              "       [  39.,  944.,    3.],\n",
              "       [  28., 1280.,    2.],\n",
              "       [  29., 1156.,    4.],\n",
              "       [  28., 1171.,    6.],\n",
              "       [  32.,  722.,    5.],\n",
              "       [  41., 1296.,    3.],\n",
              "       [  39., 1012.,    2.],\n",
              "       [  35.,  359.,    9.],\n",
              "       [  32.,  663.,    2.],\n",
              "       [  35.,  303.,    5.],\n",
              "       [  34.,  405.,    2.],\n",
              "       [  40., 1093.,    4.],\n",
              "       [  30.,  931.,    4.],\n",
              "       [  34.,  306.,    6.],\n",
              "       [  34.,  401.,    7.],\n",
              "       [  34.,  352.,    5.],\n",
              "       [  36.,  549.,    5.],\n",
              "       [  36.,  497.,    2.],\n",
              "       [  44., 1634.,    7.],\n",
              "       [  34.,  386.,    4.],\n",
              "       [  45., 1861.,    4.],\n",
              "       [  32.,  605.,    3.],\n",
              "       [  31.,  777.,    2.],\n",
              "       [  35.,  400.,    4.],\n",
              "       [  37.,  655.,    3.],\n",
              "       [  36.,  569.,    3.],\n",
              "       [  44., 1591.,    2.],\n",
              "       [  42., 1439.,    5.],\n",
              "       [  38.,  794.,    3.],\n",
              "       [  32.,  636.,    3.],\n",
              "       [  34.,  400.,    4.],\n",
              "       [  44., 1713.,    2.],\n",
              "       [  36.,  521.,    3.],\n",
              "       [  25., 1610.,    5.],\n",
              "       [  30.,  989.,    9.],\n",
              "       [  30.,  877.,    8.],\n",
              "       [  43., 1452.,    7.],\n",
              "       [  34.,  407.,    9.],\n",
              "       [  50., 2560.,    2.],\n",
              "       [  39.,  956.,    2.],\n",
              "       [  35.,  424.,    5.],\n",
              "       [  31.,  735.,    3.],\n",
              "       [  41., 1272.,    5.],\n",
              "       [  33.,  540.,    8.],\n",
              "       [  29., 1124.,    3.],\n",
              "       [  38.,  868.,    3.],\n",
              "       [  35.,  312.,    2.],\n",
              "       [  43., 1489.,    5.],\n",
              "       [  34.,  373.,    2.],\n",
              "       [  14., 3159.,    2.],\n",
              "       [  40., 1089.,    4.],\n",
              "       [  21., 2177.,    3.],\n",
              "       [  45., 1838.,    6.],\n",
              "       [  47., 2121.,    8.],\n",
              "       [  32.,  727.,    4.],\n",
              "       [  26., 1464.,    4.],\n",
              "       [  25., 1697.,    2.],\n",
              "       [  41., 1172.,    3.],\n",
              "       [  33.,  502.,    6.],\n",
              "       [  30.,  898.,    5.],\n",
              "       [  33.,  543.,    3.],\n",
              "       [  49., 2388.,    3.],\n",
              "       [  37.,  646.,    6.],\n",
              "       [  40., 1045.,    2.],\n",
              "       [  40., 1076.,    3.],\n",
              "       [  42., 1318.,    2.],\n",
              "       [  42., 1361.,    2.],\n",
              "       [  30., 1010.,    9.],\n",
              "       [  33.,  515.,    3.],\n",
              "       [  29., 1060.,    4.],\n",
              "       [  30., 1011.,    3.],\n",
              "       [  42., 1441.,    7.],\n",
              "       [  31.,  801.,    2.],\n",
              "       [  34.,  379.,    9.],\n",
              "       [  30.,  992.,    4.],\n",
              "       [  30.,  893.,    3.],\n",
              "       [  40., 1088.,   10.],\n",
              "       [  31.,  745.,    3.],\n",
              "       [  31.,  782.,    4.],\n",
              "       [  38.,  793.,    4.],\n",
              "       [  38.,  800.,    8.]])"
            ]
          },
          "metadata": {},
          "execution_count": 86
        }
      ]
    },
    {
      "cell_type": "markdown",
      "source": [
        "## Булевые маски"
      ],
      "metadata": {
        "id": "0wauoU78UezK"
      }
    },
    {
      "cell_type": "markdown",
      "source": [
        "Продолжаем анализировать наших покупателей и давайте найдем только тех, которые для нас представляют наибольший интерес - условно, это те, кто платит больше 1500 в неделю.\n",
        "\n",
        "Чтобы это решить, можем воспользоваться булевыми масками - это условия."
      ],
      "metadata": {
        "id": "8TkBcOmFc8Zq"
      }
    },
    {
      "cell_type": "code",
      "source": [
        "condition = data[:, 1] > 1500\n",
        "condition"
      ],
      "metadata": {
        "colab": {
          "base_uri": "https://localhost:8080/"
        },
        "id": "wg_Hqow5dK3g",
        "outputId": "463e9734-a114-4e60-cef0-b4bb953d6943"
      },
      "execution_count": null,
      "outputs": [
        {
          "output_type": "execute_result",
          "data": {
            "text/plain": [
              "array([False, False,  True, False, False,  True, False, False, False,\n",
              "       False, False, False, False, False,  True, False, False,  True,\n",
              "        True, False, False, False, False, False, False, False, False,\n",
              "       False, False, False, False, False, False, False, False, False,\n",
              "       False,  True, False,  True, False, False, False, False, False,\n",
              "        True, False, False, False, False,  True, False,  True, False,\n",
              "       False, False, False,  True, False, False, False, False, False,\n",
              "       False, False, False, False, False,  True, False,  True,  True,\n",
              "        True, False, False,  True, False, False, False, False,  True,\n",
              "       False, False, False, False, False, False, False, False, False,\n",
              "       False, False, False, False, False, False, False, False, False,\n",
              "       False])"
            ]
          },
          "metadata": {},
          "execution_count": 87
        }
      ]
    },
    {
      "cell_type": "markdown",
      "source": [
        "Далее эту булевую маску маску можем передать в массив и получим только те объекты, где стоит значение True, то есть выполняется наше условие."
      ],
      "metadata": {
        "id": "AtK0uIUfemr5"
      }
    },
    {
      "cell_type": "code",
      "source": [
        "higher_1500 = data[condition]\n",
        "higher_1500"
      ],
      "metadata": {
        "colab": {
          "base_uri": "https://localhost:8080/"
        },
        "id": "NugPcufDehwr",
        "outputId": "87ab8924-fd86-4318-ad02-1b92155b418c"
      },
      "execution_count": null,
      "outputs": [
        {
          "output_type": "execute_result",
          "data": {
            "text/plain": [
              "array([[  52., 2730.,    7.],\n",
              "       [  46., 1882.,    2.],\n",
              "       [  23., 1964.,    2.],\n",
              "       [  48., 2157.,    3.],\n",
              "       [  24., 1811.,    5.],\n",
              "       [  44., 1634.,    7.],\n",
              "       [  45., 1861.,    4.],\n",
              "       [  44., 1591.,    2.],\n",
              "       [  44., 1713.,    2.],\n",
              "       [  25., 1610.,    5.],\n",
              "       [  50., 2560.,    2.],\n",
              "       [  14., 3159.,    2.],\n",
              "       [  21., 2177.,    3.],\n",
              "       [  45., 1838.,    6.],\n",
              "       [  47., 2121.,    8.],\n",
              "       [  25., 1697.,    2.],\n",
              "       [  49., 2388.,    3.]])"
            ]
          },
          "metadata": {},
          "execution_count": 88
        }
      ]
    },
    {
      "cell_type": "markdown",
      "source": [
        "Давайте этих людей выделим, чтобы работать с ними более активно и предлагать им больше рекламных акций.\n",
        "\n",
        "Для этого создаем новый бинарный столбец, который будет принимать 0 - если человек нам не интересен для рекламной акции и 1 - если интересен.\n",
        "\n",
        "Сначала сделаем заготовку."
      ],
      "metadata": {
        "id": "qXWJI2WvfZMe"
      }
    },
    {
      "cell_type": "code",
      "source": [
        "is_interesting = np.zeros(shape=(100))\n",
        "is_interesting"
      ],
      "metadata": {
        "colab": {
          "base_uri": "https://localhost:8080/"
        },
        "id": "GM7_VvgFe4uh",
        "outputId": "aaa1f0ae-fec3-4357-cb65-bda1f89a7da8"
      },
      "execution_count": null,
      "outputs": [
        {
          "output_type": "execute_result",
          "data": {
            "text/plain": [
              "array([0., 0., 0., 0., 0., 0., 0., 0., 0., 0., 0., 0., 0., 0., 0., 0., 0.,\n",
              "       0., 0., 0., 0., 0., 0., 0., 0., 0., 0., 0., 0., 0., 0., 0., 0., 0.,\n",
              "       0., 0., 0., 0., 0., 0., 0., 0., 0., 0., 0., 0., 0., 0., 0., 0., 0.,\n",
              "       0., 0., 0., 0., 0., 0., 0., 0., 0., 0., 0., 0., 0., 0., 0., 0., 0.,\n",
              "       0., 0., 0., 0., 0., 0., 0., 0., 0., 0., 0., 0., 0., 0., 0., 0., 0.,\n",
              "       0., 0., 0., 0., 0., 0., 0., 0., 0., 0., 0., 0., 0., 0., 0.])"
            ]
          },
          "metadata": {},
          "execution_count": 89
        }
      ]
    },
    {
      "cell_type": "markdown",
      "source": [
        "И с помощью знакомой нам функции добавим этот столбец в исходные данные."
      ],
      "metadata": {
        "id": "LozRiOydftl7"
      }
    },
    {
      "cell_type": "code",
      "source": [
        "data = np.column_stack([data, is_interesting])\n",
        "data"
      ],
      "metadata": {
        "colab": {
          "base_uri": "https://localhost:8080/"
        },
        "id": "Xmlca7m7fUdz",
        "outputId": "ed4465c4-e888-4b75-e229-9e9c6ea8d1d2"
      },
      "execution_count": null,
      "outputs": [
        {
          "output_type": "execute_result",
          "data": {
            "text/plain": [
              "array([[  38.,  741.,    2.,    0.],\n",
              "       [  32.,  630.,   11.,    0.],\n",
              "       [  52., 2730.,    7.,    0.],\n",
              "       [  33.,  552.,    2.,    0.],\n",
              "       [  35.,  409.,    5.,    0.],\n",
              "       [  46., 1882.,    2.,    0.],\n",
              "       [  28., 1209.,    5.,    0.],\n",
              "       [  30.,  891.,    8.,    0.],\n",
              "       [  36.,  487.,    5.,    0.],\n",
              "       [  32.,  629.,    4.,    0.],\n",
              "       [  26., 1492.,    3.,    0.],\n",
              "       [  33.,  504.,    5.,    0.],\n",
              "       [  32.,  658.,    4.,    0.],\n",
              "       [  39.,  903.,    4.,    0.],\n",
              "       [  23., 1964.,    2.,    0.],\n",
              "       [  30., 1000.,   10.,    0.],\n",
              "       [  43., 1451.,    2.,    0.],\n",
              "       [  48., 2157.,    3.,    0.],\n",
              "       [  24., 1811.,    5.,    0.],\n",
              "       [  39.,  944.,    3.,    0.],\n",
              "       [  28., 1280.,    2.,    0.],\n",
              "       [  29., 1156.,    4.,    0.],\n",
              "       [  28., 1171.,    6.,    0.],\n",
              "       [  32.,  722.,    5.,    0.],\n",
              "       [  41., 1296.,    3.,    0.],\n",
              "       [  39., 1012.,    2.,    0.],\n",
              "       [  35.,  359.,    9.,    0.],\n",
              "       [  32.,  663.,    2.,    0.],\n",
              "       [  35.,  303.,    5.,    0.],\n",
              "       [  34.,  405.,    2.,    0.],\n",
              "       [  40., 1093.,    4.,    0.],\n",
              "       [  30.,  931.,    4.,    0.],\n",
              "       [  34.,  306.,    6.,    0.],\n",
              "       [  34.,  401.,    7.,    0.],\n",
              "       [  34.,  352.,    5.,    0.],\n",
              "       [  36.,  549.,    5.,    0.],\n",
              "       [  36.,  497.,    2.,    0.],\n",
              "       [  44., 1634.,    7.,    0.],\n",
              "       [  34.,  386.,    4.,    0.],\n",
              "       [  45., 1861.,    4.,    0.],\n",
              "       [  32.,  605.,    3.,    0.],\n",
              "       [  31.,  777.,    2.,    0.],\n",
              "       [  35.,  400.,    4.,    0.],\n",
              "       [  37.,  655.,    3.,    0.],\n",
              "       [  36.,  569.,    3.,    0.],\n",
              "       [  44., 1591.,    2.,    0.],\n",
              "       [  42., 1439.,    5.,    0.],\n",
              "       [  38.,  794.,    3.,    0.],\n",
              "       [  32.,  636.,    3.,    0.],\n",
              "       [  34.,  400.,    4.,    0.],\n",
              "       [  44., 1713.,    2.,    0.],\n",
              "       [  36.,  521.,    3.,    0.],\n",
              "       [  25., 1610.,    5.,    0.],\n",
              "       [  30.,  989.,    9.,    0.],\n",
              "       [  30.,  877.,    8.,    0.],\n",
              "       [  43., 1452.,    7.,    0.],\n",
              "       [  34.,  407.,    9.,    0.],\n",
              "       [  50., 2560.,    2.,    0.],\n",
              "       [  39.,  956.,    2.,    0.],\n",
              "       [  35.,  424.,    5.,    0.],\n",
              "       [  31.,  735.,    3.,    0.],\n",
              "       [  41., 1272.,    5.,    0.],\n",
              "       [  33.,  540.,    8.,    0.],\n",
              "       [  29., 1124.,    3.,    0.],\n",
              "       [  38.,  868.,    3.,    0.],\n",
              "       [  35.,  312.,    2.,    0.],\n",
              "       [  43., 1489.,    5.,    0.],\n",
              "       [  34.,  373.,    2.,    0.],\n",
              "       [  14., 3159.,    2.,    0.],\n",
              "       [  40., 1089.,    4.,    0.],\n",
              "       [  21., 2177.,    3.,    0.],\n",
              "       [  45., 1838.,    6.,    0.],\n",
              "       [  47., 2121.,    8.,    0.],\n",
              "       [  32.,  727.,    4.,    0.],\n",
              "       [  26., 1464.,    4.,    0.],\n",
              "       [  25., 1697.,    2.,    0.],\n",
              "       [  41., 1172.,    3.,    0.],\n",
              "       [  33.,  502.,    6.,    0.],\n",
              "       [  30.,  898.,    5.,    0.],\n",
              "       [  33.,  543.,    3.,    0.],\n",
              "       [  49., 2388.,    3.,    0.],\n",
              "       [  37.,  646.,    6.,    0.],\n",
              "       [  40., 1045.,    2.,    0.],\n",
              "       [  40., 1076.,    3.,    0.],\n",
              "       [  42., 1318.,    2.,    0.],\n",
              "       [  42., 1361.,    2.,    0.],\n",
              "       [  30., 1010.,    9.,    0.],\n",
              "       [  33.,  515.,    3.,    0.],\n",
              "       [  29., 1060.,    4.,    0.],\n",
              "       [  30., 1011.,    3.,    0.],\n",
              "       [  42., 1441.,    7.,    0.],\n",
              "       [  31.,  801.,    2.,    0.],\n",
              "       [  34.,  379.,    9.,    0.],\n",
              "       [  30.,  992.,    4.,    0.],\n",
              "       [  30.,  893.,    3.,    0.],\n",
              "       [  40., 1088.,   10.,    0.],\n",
              "       [  31.,  745.,    3.,    0.],\n",
              "       [  31.,  782.,    4.,    0.],\n",
              "       [  38.,  793.,    4.,    0.],\n",
              "       [  38.,  800.,    8.,    0.]])"
            ]
          },
          "metadata": {},
          "execution_count": 90
        }
      ]
    },
    {
      "cell_type": "markdown",
      "source": [
        "А теперь проставим единицы по нашей булевой маске."
      ],
      "metadata": {
        "id": "3UqS2pnef09-"
      }
    },
    {
      "cell_type": "code",
      "source": [
        "data[condition, -1] = 1\n",
        "data"
      ],
      "metadata": {
        "colab": {
          "base_uri": "https://localhost:8080/"
        },
        "id": "jMcBf6Xwf30k",
        "outputId": "1331c631-0c37-4f92-d949-a7bcde85c972"
      },
      "execution_count": null,
      "outputs": [
        {
          "output_type": "execute_result",
          "data": {
            "text/plain": [
              "array([[  38.,  741.,    2.,    0.],\n",
              "       [  32.,  630.,   11.,    0.],\n",
              "       [  52., 2730.,    7.,    1.],\n",
              "       [  33.,  552.,    2.,    0.],\n",
              "       [  35.,  409.,    5.,    0.],\n",
              "       [  46., 1882.,    2.,    1.],\n",
              "       [  28., 1209.,    5.,    0.],\n",
              "       [  30.,  891.,    8.,    0.],\n",
              "       [  36.,  487.,    5.,    0.],\n",
              "       [  32.,  629.,    4.,    0.],\n",
              "       [  26., 1492.,    3.,    0.],\n",
              "       [  33.,  504.,    5.,    0.],\n",
              "       [  32.,  658.,    4.,    0.],\n",
              "       [  39.,  903.,    4.,    0.],\n",
              "       [  23., 1964.,    2.,    1.],\n",
              "       [  30., 1000.,   10.,    0.],\n",
              "       [  43., 1451.,    2.,    0.],\n",
              "       [  48., 2157.,    3.,    1.],\n",
              "       [  24., 1811.,    5.,    1.],\n",
              "       [  39.,  944.,    3.,    0.],\n",
              "       [  28., 1280.,    2.,    0.],\n",
              "       [  29., 1156.,    4.,    0.],\n",
              "       [  28., 1171.,    6.,    0.],\n",
              "       [  32.,  722.,    5.,    0.],\n",
              "       [  41., 1296.,    3.,    0.],\n",
              "       [  39., 1012.,    2.,    0.],\n",
              "       [  35.,  359.,    9.,    0.],\n",
              "       [  32.,  663.,    2.,    0.],\n",
              "       [  35.,  303.,    5.,    0.],\n",
              "       [  34.,  405.,    2.,    0.],\n",
              "       [  40., 1093.,    4.,    0.],\n",
              "       [  30.,  931.,    4.,    0.],\n",
              "       [  34.,  306.,    6.,    0.],\n",
              "       [  34.,  401.,    7.,    0.],\n",
              "       [  34.,  352.,    5.,    0.],\n",
              "       [  36.,  549.,    5.,    0.],\n",
              "       [  36.,  497.,    2.,    0.],\n",
              "       [  44., 1634.,    7.,    1.],\n",
              "       [  34.,  386.,    4.,    0.],\n",
              "       [  45., 1861.,    4.,    1.],\n",
              "       [  32.,  605.,    3.,    0.],\n",
              "       [  31.,  777.,    2.,    0.],\n",
              "       [  35.,  400.,    4.,    0.],\n",
              "       [  37.,  655.,    3.,    0.],\n",
              "       [  36.,  569.,    3.,    0.],\n",
              "       [  44., 1591.,    2.,    1.],\n",
              "       [  42., 1439.,    5.,    0.],\n",
              "       [  38.,  794.,    3.,    0.],\n",
              "       [  32.,  636.,    3.,    0.],\n",
              "       [  34.,  400.,    4.,    0.],\n",
              "       [  44., 1713.,    2.,    1.],\n",
              "       [  36.,  521.,    3.,    0.],\n",
              "       [  25., 1610.,    5.,    1.],\n",
              "       [  30.,  989.,    9.,    0.],\n",
              "       [  30.,  877.,    8.,    0.],\n",
              "       [  43., 1452.,    7.,    0.],\n",
              "       [  34.,  407.,    9.,    0.],\n",
              "       [  50., 2560.,    2.,    1.],\n",
              "       [  39.,  956.,    2.,    0.],\n",
              "       [  35.,  424.,    5.,    0.],\n",
              "       [  31.,  735.,    3.,    0.],\n",
              "       [  41., 1272.,    5.,    0.],\n",
              "       [  33.,  540.,    8.,    0.],\n",
              "       [  29., 1124.,    3.,    0.],\n",
              "       [  38.,  868.,    3.,    0.],\n",
              "       [  35.,  312.,    2.,    0.],\n",
              "       [  43., 1489.,    5.,    0.],\n",
              "       [  34.,  373.,    2.,    0.],\n",
              "       [  14., 3159.,    2.,    1.],\n",
              "       [  40., 1089.,    4.,    0.],\n",
              "       [  21., 2177.,    3.,    1.],\n",
              "       [  45., 1838.,    6.,    1.],\n",
              "       [  47., 2121.,    8.,    1.],\n",
              "       [  32.,  727.,    4.,    0.],\n",
              "       [  26., 1464.,    4.,    0.],\n",
              "       [  25., 1697.,    2.,    1.],\n",
              "       [  41., 1172.,    3.,    0.],\n",
              "       [  33.,  502.,    6.,    0.],\n",
              "       [  30.,  898.,    5.,    0.],\n",
              "       [  33.,  543.,    3.,    0.],\n",
              "       [  49., 2388.,    3.,    1.],\n",
              "       [  37.,  646.,    6.,    0.],\n",
              "       [  40., 1045.,    2.,    0.],\n",
              "       [  40., 1076.,    3.,    0.],\n",
              "       [  42., 1318.,    2.,    0.],\n",
              "       [  42., 1361.,    2.,    0.],\n",
              "       [  30., 1010.,    9.,    0.],\n",
              "       [  33.,  515.,    3.,    0.],\n",
              "       [  29., 1060.,    4.,    0.],\n",
              "       [  30., 1011.,    3.,    0.],\n",
              "       [  42., 1441.,    7.,    0.],\n",
              "       [  31.,  801.,    2.,    0.],\n",
              "       [  34.,  379.,    9.,    0.],\n",
              "       [  30.,  992.,    4.,    0.],\n",
              "       [  30.,  893.,    3.,    0.],\n",
              "       [  40., 1088.,   10.,    0.],\n",
              "       [  31.,  745.,    3.,    0.],\n",
              "       [  31.,  782.,    4.,    0.],\n",
              "       [  38.,  793.,    4.,    0.],\n",
              "       [  38.,  800.,    8.,    0.]])"
            ]
          },
          "metadata": {},
          "execution_count": 91
        }
      ]
    },
    {
      "cell_type": "markdown",
      "source": [
        "Давайте наши новые преобразованные данные сохраним в txt файл."
      ],
      "metadata": {
        "id": "wc3ZxLY8Kkho"
      }
    },
    {
      "cell_type": "code",
      "source": [
        "np.savetxt('data.txt', data)"
      ],
      "metadata": {
        "id": "JknWomGVJ92M"
      },
      "execution_count": null,
      "outputs": []
    },
    {
      "cell_type": "markdown",
      "source": [
        "Этот файл тоже положила на goolge drive: https://drive.google.com/file/d/17xDAUwRdJVbpZNi1toPbAQitVrBVHFt6"
      ],
      "metadata": {
        "id": "RlfE-vWkKvIx"
      }
    },
    {
      "cell_type": "markdown",
      "source": [
        "## Что сегодня узнали?"
      ],
      "metadata": {
        "id": "vK6aXttaip_-"
      }
    },
    {
      "cell_type": "markdown",
      "source": [
        "- Что из себя представляет numpy\n",
        "- Какие объекты есть в numpy и как их создавать\n",
        "- Как взять объект из numpy массива по индексу \n",
        "- Как складывать/вычитать/делить/умножать массивы\n",
        "- Как найти минимум/максимум/среднее массива\n",
        "- Как измененить размер массива\n",
        "- Как соединить вместе массивы\n",
        "- Как фильтровать массивы\n"
      ],
      "metadata": {
        "id": "0kC3n3YhKzCj"
      }
    },
    {
      "cell_type": "markdown",
      "source": [
        "## Практика\n",
        "Практика доступна на платформе boosty:\n",
        "https://boosty.to/machine_learrrning/posts/3bf4568d-c7f0-45dd-bf7d-58b77989608b\n",
        "\n",
        "Доступна\n",
        "1. по подписке уровня light+ и выше\n",
        "2. разовая оплата"
      ],
      "metadata": {
        "id": "XLdbk0SmPUgw"
      }
    },
    {
      "cell_type": "markdown",
      "source": [
        "Муррр ♥"
      ],
      "metadata": {
        "id": "AZOmTJT0YeCz"
      }
    }
  ]
}